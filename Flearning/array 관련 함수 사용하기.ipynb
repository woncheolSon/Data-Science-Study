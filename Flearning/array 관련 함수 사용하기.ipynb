{
 "cells": [
  {
   "cell_type": "code",
   "execution_count": 63,
   "metadata": {},
   "outputs": [],
   "source": [
    "############ numpy 3강 - array 관련 함수 사용하기"
   ]
  },
  {
   "cell_type": "code",
   "execution_count": 64,
   "metadata": {},
   "outputs": [],
   "source": [
    "arr = np.arange(1,10)"
   ]
  },
  {
   "cell_type": "code",
   "execution_count": 65,
   "metadata": {},
   "outputs": [
    {
     "data": {
      "text/plain": [
       "array([1, 2, 3, 4, 5, 6, 7, 8, 9])"
      ]
     },
     "execution_count": 65,
     "metadata": {},
     "output_type": "execute_result"
    }
   ],
   "source": [
    "arr"
   ]
  },
  {
   "cell_type": "code",
   "execution_count": 66,
   "metadata": {},
   "outputs": [
    {
     "data": {
      "text/plain": [
       "array([ 1.        ,  1.41421356,  1.73205081,  2.        ,  2.23606798,\n",
       "        2.44948974,  2.64575131,  2.82842712,  3.        ])"
      ]
     },
     "execution_count": 66,
     "metadata": {},
     "output_type": "execute_result"
    }
   ],
   "source": [
    "np.sqrt(arr)"
   ]
  },
  {
   "cell_type": "code",
   "execution_count": 67,
   "metadata": {},
   "outputs": [
    {
     "data": {
      "text/plain": [
       "array([ 0.        ,  0.30103   ,  0.47712125,  0.60205999,  0.69897   ,\n",
       "        0.77815125,  0.84509804,  0.90308999,  0.95424251])"
      ]
     },
     "execution_count": 67,
     "metadata": {},
     "output_type": "execute_result"
    }
   ],
   "source": [
    "np.log10(arr)"
   ]
  },
  {
   "cell_type": "code",
   "execution_count": 68,
   "metadata": {},
   "outputs": [
    {
     "data": {
      "text/plain": [
       "array([-0.49513777, -0.00974768, -0.34925678,  2.35226758, -0.6021094 ,\n",
       "       -1.13164788, -0.89039095,  1.11124371])"
      ]
     },
     "execution_count": 68,
     "metadata": {},
     "output_type": "execute_result"
    }
   ],
   "source": [
    "x = np.random.randn(8); x"
   ]
  },
  {
   "cell_type": "code",
   "execution_count": 69,
   "metadata": {},
   "outputs": [
    {
     "data": {
      "text/plain": [
       "array([ 0.1482796 , -0.95677258,  0.08026259, -1.05161936, -0.10149999,\n",
       "       -0.34748908,  0.08883105,  0.57385467])"
      ]
     },
     "execution_count": 69,
     "metadata": {},
     "output_type": "execute_result"
    }
   ],
   "source": [
    "y = np.random.randn(8); y"
   ]
  },
  {
   "cell_type": "code",
   "execution_count": 70,
   "metadata": {},
   "outputs": [
    {
     "data": {
      "text/plain": [
       "array([ 0.1482796 , -0.00974768,  0.08026259,  2.35226758, -0.10149999,\n",
       "       -0.34748908,  0.08883105,  1.11124371])"
      ]
     },
     "execution_count": 70,
     "metadata": {},
     "output_type": "execute_result"
    }
   ],
   "source": [
    "np.maximum(x,y)"
   ]
  },
  {
   "cell_type": "code",
   "execution_count": 71,
   "metadata": {},
   "outputs": [],
   "source": [
    "arr = np.random.randn(5,4)"
   ]
  },
  {
   "cell_type": "code",
   "execution_count": 72,
   "metadata": {},
   "outputs": [
    {
     "data": {
      "text/plain": [
       "array([[ 0.76728498,  0.72581281,  0.49724715,  0.1181784 ],\n",
       "       [-0.04549349, -0.31149828, -0.18253263,  0.50185971],\n",
       "       [-2.00822634,  2.21617311,  2.3377847 , -0.96019258],\n",
       "       [ 0.26824521, -0.88174739,  0.43946827,  1.56461919],\n",
       "       [ 1.04791532, -0.94108895,  1.08779635, -1.29501848]])"
      ]
     },
     "execution_count": 72,
     "metadata": {},
     "output_type": "execute_result"
    }
   ],
   "source": [
    "arr"
   ]
  },
  {
   "cell_type": "code",
   "execution_count": 73,
   "metadata": {},
   "outputs": [
    {
     "data": {
      "text/plain": [
       "4.9465870530795932"
      ]
     },
     "execution_count": 73,
     "metadata": {},
     "output_type": "execute_result"
    }
   ],
   "source": [
    "arr.sum()"
   ]
  },
  {
   "cell_type": "code",
   "execution_count": 74,
   "metadata": {},
   "outputs": [
    {
     "data": {
      "text/plain": [
       "0.24732935265397965"
      ]
     },
     "execution_count": 74,
     "metadata": {},
     "output_type": "execute_result"
    }
   ],
   "source": [
    "arr.mean()"
   ]
  },
  {
   "cell_type": "code",
   "execution_count": 75,
   "metadata": {},
   "outputs": [
    {
     "data": {
      "text/plain": [
       "array([ 0.02972569,  0.80765129,  4.17976383, -0.07055376])"
      ]
     },
     "execution_count": 75,
     "metadata": {},
     "output_type": "execute_result"
    }
   ],
   "source": [
    "arr.sum(axis=0)"
   ]
  },
  {
   "cell_type": "code",
   "execution_count": 76,
   "metadata": {},
   "outputs": [
    {
     "data": {
      "text/plain": [
       "array([ 2.10852334, -0.0376647 ,  1.58553889,  1.39058528, -0.10039576])"
      ]
     },
     "execution_count": 76,
     "metadata": {},
     "output_type": "execute_result"
    }
   ],
   "source": [
    "arr.sum(axis=1)"
   ]
  },
  {
   "cell_type": "code",
   "execution_count": 77,
   "metadata": {},
   "outputs": [
    {
     "data": {
      "text/plain": [
       "array([[ True,  True,  True,  True],\n",
       "       [False, False, False,  True],\n",
       "       [False,  True,  True, False],\n",
       "       [ True, False,  True,  True],\n",
       "       [ True, False,  True, False]], dtype=bool)"
      ]
     },
     "execution_count": 77,
     "metadata": {},
     "output_type": "execute_result"
    }
   ],
   "source": [
    "arr>0"
   ]
  },
  {
   "cell_type": "code",
   "execution_count": 78,
   "metadata": {},
   "outputs": [
    {
     "data": {
      "text/plain": [
       "12"
      ]
     },
     "execution_count": 78,
     "metadata": {},
     "output_type": "execute_result"
    }
   ],
   "source": [
    "(arr>0).sum()"
   ]
  },
  {
   "cell_type": "code",
   "execution_count": 79,
   "metadata": {},
   "outputs": [],
   "source": [
    "arr = np.random.randn(8)"
   ]
  },
  {
   "cell_type": "code",
   "execution_count": 80,
   "metadata": {},
   "outputs": [
    {
     "data": {
      "text/plain": [
       "array([ 0.22281287,  0.61649291,  1.72725094, -0.31314536, -0.29246116,\n",
       "        0.4225626 ,  1.12166323,  0.26558114])"
      ]
     },
     "execution_count": 80,
     "metadata": {},
     "output_type": "execute_result"
    }
   ],
   "source": [
    "arr"
   ]
  },
  {
   "cell_type": "code",
   "execution_count": 81,
   "metadata": {},
   "outputs": [
    {
     "data": {
      "text/plain": [
       "array([-0.31314536, -0.29246116,  0.22281287,  0.26558114,  0.4225626 ,\n",
       "        0.61649291,  1.12166323,  1.72725094])"
      ]
     },
     "execution_count": 81,
     "metadata": {},
     "output_type": "execute_result"
    }
   ],
   "source": [
    "np.sort(arr) #오름차순 정렬"
   ]
  },
  {
   "cell_type": "code",
   "execution_count": 82,
   "metadata": {},
   "outputs": [
    {
     "data": {
      "text/plain": [
       "array([ 1.72725094,  1.12166323,  0.61649291,  0.4225626 ,  0.26558114,\n",
       "        0.22281287, -0.29246116, -0.31314536])"
      ]
     },
     "execution_count": 82,
     "metadata": {},
     "output_type": "execute_result"
    }
   ],
   "source": [
    "np.sort(arr)[::-1] #내림차순 정렬"
   ]
  },
  {
   "cell_type": "code",
   "execution_count": 83,
   "metadata": {},
   "outputs": [],
   "source": [
    "arr = np.random.randn(5,3)"
   ]
  },
  {
   "cell_type": "code",
   "execution_count": 84,
   "metadata": {},
   "outputs": [
    {
     "data": {
      "text/plain": [
       "array([[ 0.04979102,  0.23699963, -1.19173095],\n",
       "       [-1.17997106,  0.20004972, -2.07502017],\n",
       "       [-0.24428666, -0.24713348,  0.92377956],\n",
       "       [ 0.08579181, -1.70500426,  2.24868202],\n",
       "       [ 0.57070633, -1.44978836, -0.15183775]])"
      ]
     },
     "execution_count": 84,
     "metadata": {},
     "output_type": "execute_result"
    }
   ],
   "source": [
    "arr"
   ]
  },
  {
   "cell_type": "code",
   "execution_count": 85,
   "metadata": {},
   "outputs": [
    {
     "data": {
      "text/plain": [
       "array([[-1.19173095,  0.04979102,  0.23699963],\n",
       "       [-2.07502017, -1.17997106,  0.20004972],\n",
       "       [-0.24713348, -0.24428666,  0.92377956],\n",
       "       [-1.70500426,  0.08579181,  2.24868202],\n",
       "       [-1.44978836, -0.15183775,  0.57070633]])"
      ]
     },
     "execution_count": 85,
     "metadata": {},
     "output_type": "execute_result"
    }
   ],
   "source": [
    "np.sort(arr)"
   ]
  },
  {
   "cell_type": "code",
   "execution_count": 86,
   "metadata": {},
   "outputs": [
    {
     "data": {
      "text/plain": [
       "array([[-1.19173095,  0.04979102,  0.23699963],\n",
       "       [-2.07502017, -1.17997106,  0.20004972],\n",
       "       [-0.24713348, -0.24428666,  0.92377956],\n",
       "       [-1.70500426,  0.08579181,  2.24868202],\n",
       "       [-1.44978836, -0.15183775,  0.57070633]])"
      ]
     },
     "execution_count": 86,
     "metadata": {},
     "output_type": "execute_result"
    }
   ],
   "source": [
    "np.sort(arr, axis=1) # 행정렬"
   ]
  },
  {
   "cell_type": "code",
   "execution_count": 87,
   "metadata": {},
   "outputs": [
    {
     "data": {
      "text/plain": [
       "array([[-1.17997106, -1.70500426, -2.07502017],\n",
       "       [-0.24428666, -1.44978836, -1.19173095],\n",
       "       [ 0.04979102, -0.24713348, -0.15183775],\n",
       "       [ 0.08579181,  0.20004972,  0.92377956],\n",
       "       [ 0.57070633,  0.23699963,  2.24868202]])"
      ]
     },
     "execution_count": 87,
     "metadata": {},
     "output_type": "execute_result"
    }
   ],
   "source": [
    "np.sort(arr, axis=0) #열정렬"
   ]
  },
  {
   "cell_type": "code",
   "execution_count": 88,
   "metadata": {},
   "outputs": [
    {
     "data": {
      "text/plain": [
       "array([ 0.56611499, -0.60009479,  1.37439633,  0.8529789 , -0.00431158,\n",
       "        1.32367969, -1.08932033,  0.34985878, -0.26847342,  0.03128303,\n",
       "        0.52185358,  0.63097852, -2.65129575,  0.64163529,  0.615153  ,\n",
       "       -0.8890901 , -0.60429609,  0.52762478, -0.55913676, -0.92168014,\n",
       "       -0.64726787, -0.96458292,  0.01055827,  0.57129975, -0.03995839,\n",
       "        0.73612237,  0.3101235 , -0.21867366, -1.37988216,  0.0810045 ,\n",
       "       -0.45021414, -0.37211355, -0.30726486,  0.04842193,  0.03600344,\n",
       "        0.67897334,  1.45625814,  0.66592672, -0.66211553,  0.61871967,\n",
       "        0.57469321, -0.97247968, -0.99509425,  0.67375044,  1.46497121,\n",
       "       -0.72995524, -0.08420033,  0.86682278,  0.97832853,  1.05176245,\n",
       "       -0.32411666,  1.74566549,  0.94294487,  0.10719244,  0.42647902,\n",
       "        0.71582865, -0.1896454 , -0.45054613, -1.71177583,  0.16068891,\n",
       "        0.78301229,  1.50287728,  0.72588009, -0.32366677, -0.08037298,\n",
       "       -0.73627459, -1.10494056, -1.54109689,  0.60452785,  0.53985377,\n",
       "       -0.39359557, -1.69433097, -0.67643903,  1.75708353, -1.93129402,\n",
       "        0.28310725, -1.20987802, -0.29188338,  0.4007518 ,  0.81039482,\n",
       "        0.27860077,  1.30096876, -0.51682504,  0.87924595,  0.10511305,\n",
       "        1.30102527, -1.73132112, -0.48812477, -0.94703917,  0.64556414,\n",
       "       -0.89472414,  1.10313448, -0.80097949,  0.53465075, -0.14712925,\n",
       "       -0.64570841,  0.03629242,  0.075037  ,  0.17000332,  0.45888164,\n",
       "       -0.06592494, -1.2745982 , -0.51397432, -0.3393481 ,  0.47060924,\n",
       "        0.10694392,  0.84380867,  1.57028005, -0.30952508, -0.93332722,\n",
       "       -1.21715979, -0.46110769, -1.32764599, -2.18145898, -0.91490455,\n",
       "        1.04302659,  0.54171567, -1.86355084,  1.83039148,  0.06140553,\n",
       "       -1.08868456,  0.96468734, -1.89250329,  0.43088831,  0.76184558,\n",
       "       -0.99601333, -0.15530001, -0.58732295, -0.69922746,  0.25074934,\n",
       "        0.94051029,  0.24105476, -0.46146826, -0.18588372, -1.03285518,\n",
       "       -0.72594839,  0.7627847 , -0.69193175,  1.64372615, -0.93852622,\n",
       "       -0.220388  ,  0.38419274, -0.84008889, -0.8959421 ,  0.00716791,\n",
       "       -1.53588637,  0.18610914,  2.69476009,  0.11205754, -0.20549916])"
      ]
     },
     "execution_count": 88,
     "metadata": {},
     "output_type": "execute_result"
    }
   ],
   "source": [
    "large_arr=np.random.randn(150); large_arr"
   ]
  },
  {
   "cell_type": "code",
   "execution_count": 89,
   "metadata": {
    "scrolled": true
   },
   "outputs": [
    {
     "data": {
      "text/plain": [
       "array([ 2.69476009,  1.83039148,  1.75708353,  1.74566549,  1.64372615,\n",
       "        1.57028005,  1.50287728,  1.46497121,  1.45625814,  1.37439633,\n",
       "        1.32367969,  1.30102527,  1.30096876,  1.10313448,  1.05176245,\n",
       "        1.04302659,  0.97832853,  0.96468734,  0.94294487,  0.94051029,\n",
       "        0.87924595,  0.86682278,  0.8529789 ,  0.84380867,  0.81039482,\n",
       "        0.78301229,  0.7627847 ,  0.76184558,  0.73612237,  0.72588009,\n",
       "        0.71582865,  0.67897334,  0.67375044,  0.66592672,  0.64556414,\n",
       "        0.64163529,  0.63097852,  0.61871967,  0.615153  ,  0.60452785,\n",
       "        0.57469321,  0.57129975,  0.56611499,  0.54171567,  0.53985377,\n",
       "        0.53465075,  0.52762478,  0.52185358,  0.47060924,  0.45888164,\n",
       "        0.43088831,  0.42647902,  0.4007518 ,  0.38419274,  0.34985878,\n",
       "        0.3101235 ,  0.28310725,  0.27860077,  0.25074934,  0.24105476,\n",
       "        0.18610914,  0.17000332,  0.16068891,  0.11205754,  0.10719244,\n",
       "        0.10694392,  0.10511305,  0.0810045 ,  0.075037  ,  0.06140553,\n",
       "        0.04842193,  0.03629242,  0.03600344,  0.03128303,  0.01055827,\n",
       "        0.00716791, -0.00431158, -0.03995839, -0.06592494, -0.08037298,\n",
       "       -0.08420033, -0.14712925, -0.15530001, -0.18588372, -0.1896454 ,\n",
       "       -0.20549916, -0.21867366, -0.220388  , -0.26847342, -0.29188338,\n",
       "       -0.30726486, -0.30952508, -0.32366677, -0.32411666, -0.3393481 ,\n",
       "       -0.37211355, -0.39359557, -0.45021414, -0.45054613, -0.46110769,\n",
       "       -0.46146826, -0.48812477, -0.51397432, -0.51682504, -0.55913676,\n",
       "       -0.58732295, -0.60009479, -0.60429609, -0.64570841, -0.64726787,\n",
       "       -0.66211553, -0.67643903, -0.69193175, -0.69922746, -0.72594839,\n",
       "       -0.72995524, -0.73627459, -0.80097949, -0.84008889, -0.8890901 ,\n",
       "       -0.89472414, -0.8959421 , -0.91490455, -0.92168014, -0.93332722,\n",
       "       -0.93852622, -0.94703917, -0.96458292, -0.97247968, -0.99509425,\n",
       "       -0.99601333, -1.03285518, -1.08868456, -1.08932033, -1.10494056,\n",
       "       -1.20987802, -1.21715979, -1.2745982 , -1.32764599, -1.37988216,\n",
       "       -1.53588637, -1.54109689, -1.69433097, -1.71177583, -1.73132112,\n",
       "       -1.86355084, -1.89250329, -1.93129402, -2.18145898, -2.65129575])"
      ]
     },
     "execution_count": 89,
     "metadata": {},
     "output_type": "execute_result"
    }
   ],
   "source": [
    "np.sort(large_arr)[::-1]"
   ]
  },
  {
   "cell_type": "code",
   "execution_count": 90,
   "metadata": {},
   "outputs": [
    {
     "data": {
      "text/plain": [
       "1.4649712105379744"
      ]
     },
     "execution_count": 90,
     "metadata": {},
     "output_type": "execute_result"
    }
   ],
   "source": [
    "np.sort(large_arr)[::-1][int(0.05*len(large_arr))]"
   ]
  },
  {
   "cell_type": "code",
   "execution_count": 91,
   "metadata": {},
   "outputs": [],
   "source": [
    "names = np.array([\"charles\",\"kilho\",\"hayoung\",\"charles\",\"hayoung\",\"kilho\",\"kilho\"])\n",
    "ints=np.array([3,3,3,2,2,1,1,4,4,])"
   ]
  },
  {
   "cell_type": "code",
   "execution_count": 92,
   "metadata": {
    "scrolled": true
   },
   "outputs": [
    {
     "data": {
      "text/plain": [
       "array(['charles', 'hayoung', 'kilho'],\n",
       "      dtype='<U7')"
      ]
     },
     "execution_count": 92,
     "metadata": {},
     "output_type": "execute_result"
    }
   ],
   "source": [
    "np.unique(names)"
   ]
  },
  {
   "cell_type": "code",
   "execution_count": 93,
   "metadata": {},
   "outputs": [
    {
     "data": {
      "text/plain": [
       "array([1, 2, 3, 4])"
      ]
     },
     "execution_count": 93,
     "metadata": {},
     "output_type": "execute_result"
    }
   ],
   "source": [
    "np.unique(ints)"
   ]
  }
 ],
 "metadata": {
  "kernelspec": {
   "display_name": "Python 3",
   "language": "python",
   "name": "python3"
  },
  "language_info": {
   "codemirror_mode": {
    "name": "ipython",
    "version": 3
   },
   "file_extension": ".py",
   "mimetype": "text/x-python",
   "name": "python",
   "nbconvert_exporter": "python",
   "pygments_lexer": "ipython3",
   "version": "3.6.4"
  }
 },
 "nbformat": 4,
 "nbformat_minor": 2
}
