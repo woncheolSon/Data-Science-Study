{
 "cells": [
  {
   "cell_type": "markdown",
   "metadata": {},
   "source": [
    "누락된 데이터를 정리할 때면 어떤 경우에는 dropna를 사용해서 데이터를 살벼보고 걸러내기도 한다.<br/>\n",
    "하지만 다른 경우에는 누락된 값을 고정된 값이나 혹은 데이터로부터 도출된 어떤 값으로 채우고 싶을 때도 있다.<br/>\n",
    "이런 경우에 `fillna` 메서드를 사용하는데, 다음은 누락된 값을 평균 값으로 대체하는 예제다."
   ]
  },
  {
   "cell_type": "code",
   "execution_count": 1,
   "metadata": {},
   "outputs": [],
   "source": [
    "s = pd.Series(np.random.randn(6))"
   ]
  },
  {
   "cell_type": "code",
   "execution_count": 3,
   "metadata": {},
   "outputs": [],
   "source": [
    "s[::2] = np.NAN"
   ]
  },
  {
   "cell_type": "code",
   "execution_count": 4,
   "metadata": {},
   "outputs": [
    {
     "data": {
      "text/plain": [
       "0         NaN\n",
       "1   -0.046758\n",
       "2         NaN\n",
       "3   -2.278192\n",
       "4         NaN\n",
       "5    0.568012\n",
       "dtype: float64"
      ]
     },
     "execution_count": 4,
     "metadata": {},
     "output_type": "execute_result"
    }
   ],
   "source": [
    "s"
   ]
  },
  {
   "cell_type": "code",
   "execution_count": 5,
   "metadata": {},
   "outputs": [
    {
     "data": {
      "text/plain": [
       "0   -0.585646\n",
       "1   -0.046758\n",
       "2   -0.585646\n",
       "3   -2.278192\n",
       "4   -0.585646\n",
       "5    0.568012\n",
       "dtype: float64"
      ]
     },
     "execution_count": 5,
     "metadata": {},
     "output_type": "execute_result"
    }
   ],
   "source": [
    "s.fillna(s.mean())"
   ]
  },
  {
   "cell_type": "markdown",
   "metadata": {},
   "source": [
    "그룹별로 채워 넣고 싶은 값이 다르다고 하자.<br/>\n",
    "짐작할 수 있듯이 데이터를 그룹으로 나누고 apply 함수를 사용해서 각 그룹에 대해 `fillna`를 적용하면 된다.<br/>\n",
    "여기서 사용된 데이터는 동부와 서부로 나눈 미국의 주에 대한 데이터다."
   ]
  },
  {
   "cell_type": "code",
   "execution_count": 6,
   "metadata": {},
   "outputs": [],
   "source": [
    "states = ['Ohio','New York','Vermont','Florida',\n",
    "         'Oregno','Nevada','California','Idaho']"
   ]
  },
  {
   "cell_type": "code",
   "execution_count": 7,
   "metadata": {},
   "outputs": [],
   "source": [
    "group_key = ['East']*4+['West']*4"
   ]
  },
  {
   "cell_type": "code",
   "execution_count": 8,
   "metadata": {},
   "outputs": [],
   "source": [
    "data = pd.Series(np.random.randn(8), index=states)"
   ]
  },
  {
   "cell_type": "code",
   "execution_count": 19,
   "metadata": {},
   "outputs": [],
   "source": [
    "data[['Vermont','Nevada','Idaho']]=np.NAN"
   ]
  },
  {
   "cell_type": "code",
   "execution_count": 20,
   "metadata": {},
   "outputs": [
    {
     "data": {
      "text/plain": [
       "Ohio          0.741382\n",
       "New York      1.618000\n",
       "Vermont            NaN\n",
       "Florida       0.227586\n",
       "Oregno       -0.271508\n",
       "Nevada             NaN\n",
       "California   -2.324001\n",
       "Idaho              NaN\n",
       "dtype: float64"
      ]
     },
     "execution_count": 20,
     "metadata": {},
     "output_type": "execute_result"
    }
   ],
   "source": [
    "data"
   ]
  },
  {
   "cell_type": "code",
   "execution_count": 14,
   "metadata": {},
   "outputs": [
    {
     "data": {
      "text/plain": [
       "East    0.862323\n",
       "West   -1.297754\n",
       "dtype: float64"
      ]
     },
     "execution_count": 14,
     "metadata": {},
     "output_type": "execute_result"
    }
   ],
   "source": [
    "data.groupby(group_key).mean()"
   ]
  },
  {
   "cell_type": "code",
   "execution_count": 16,
   "metadata": {},
   "outputs": [],
   "source": [
    "fill_mean = lambda g : g.fillna(g.mean())"
   ]
  },
  {
   "cell_type": "code",
   "execution_count": 17,
   "metadata": {},
   "outputs": [
    {
     "data": {
      "text/plain": [
       "Ohio          0.741382\n",
       "New York      1.618000\n",
       "Vermont       0.862323\n",
       "Florida       0.227586\n",
       "Oregno       -0.271508\n",
       "Nevada       -1.297754\n",
       "California   -2.324001\n",
       "Idaho        -1.297754\n",
       "dtype: float64"
      ]
     },
     "execution_count": 17,
     "metadata": {},
     "output_type": "execute_result"
    }
   ],
   "source": [
    "data.groupby(group_key).apply(fill_mean)"
   ]
  },
  {
   "cell_type": "code",
   "execution_count": 21,
   "metadata": {},
   "outputs": [
    {
     "data": {
      "text/plain": [
       "Ohio          0.741382\n",
       "New York      1.618000\n",
       "Vermont            NaN\n",
       "Florida       0.227586\n",
       "Oregno       -0.271508\n",
       "Nevada             NaN\n",
       "California   -2.324001\n",
       "Idaho              NaN\n",
       "dtype: float64"
      ]
     },
     "execution_count": 21,
     "metadata": {},
     "output_type": "execute_result"
    }
   ],
   "source": [
    "data"
   ]
  },
  {
   "cell_type": "code",
   "execution_count": 22,
   "metadata": {},
   "outputs": [
    {
     "data": {
      "text/plain": [
       "Ohio          0.741382\n",
       "New York      1.618000\n",
       "Vermont       0.862323\n",
       "Florida       0.227586\n",
       "Oregno       -0.271508\n",
       "Nevada       -1.297754\n",
       "California   -2.324001\n",
       "Idaho        -1.297754\n",
       "dtype: float64"
      ]
     },
     "execution_count": 22,
     "metadata": {},
     "output_type": "execute_result"
    }
   ],
   "source": [
    "data.groupby(group_key).apply(lambda g : g.fillna(g.mean()))"
   ]
  },
  {
   "cell_type": "markdown",
   "metadata": {},
   "source": [
    "아니면 그룹에 따라 미리 정의된 다른 값을 채워 넣어야 할 경우도 있다. 각 그룹은 내부적으로 `name` 이라는 속성을 갖고 있으므로 이를 이용하자."
   ]
  },
  {
   "cell_type": "code",
   "execution_count": 23,
   "metadata": {},
   "outputs": [],
   "source": [
    "fill_values = {'East':0.5,'West':-1}"
   ]
  },
  {
   "cell_type": "code",
   "execution_count": 24,
   "metadata": {},
   "outputs": [],
   "source": [
    "fill_func = lambda g : g.fillna(fill_values[g.name])"
   ]
  },
  {
   "cell_type": "code",
   "execution_count": 26,
   "metadata": {},
   "outputs": [
    {
     "data": {
      "text/plain": [
       "Ohio          0.741382\n",
       "New York      1.618000\n",
       "Vermont            NaN\n",
       "Florida       0.227586\n",
       "Oregno       -0.271508\n",
       "Nevada             NaN\n",
       "California   -2.324001\n",
       "Idaho              NaN\n",
       "dtype: float64"
      ]
     },
     "execution_count": 26,
     "metadata": {},
     "output_type": "execute_result"
    }
   ],
   "source": [
    "data"
   ]
  },
  {
   "cell_type": "code",
   "execution_count": 27,
   "metadata": {},
   "outputs": [
    {
     "data": {
      "text/plain": [
       "Ohio          0.741382\n",
       "New York      1.618000\n",
       "Vermont       0.500000\n",
       "Florida       0.227586\n",
       "Oregno       -0.271508\n",
       "Nevada       -1.000000\n",
       "California   -2.324001\n",
       "Idaho        -1.000000\n",
       "dtype: float64"
      ]
     },
     "execution_count": 27,
     "metadata": {},
     "output_type": "execute_result"
    }
   ],
   "source": [
    "data.groupby(group_key).apply(fill_func)"
   ]
  },
  {
   "cell_type": "code",
   "execution_count": 28,
   "metadata": {},
   "outputs": [],
   "source": [
    "city = ['seoul','jeju','dokdo','daejeon',\n",
    "       'new york','las vegas','los angeles','boston']"
   ]
  },
  {
   "cell_type": "code",
   "execution_count": 29,
   "metadata": {},
   "outputs": [],
   "source": [
    "grouping_key = ['korea']*4+['USA']*4"
   ]
  },
  {
   "cell_type": "code",
   "execution_count": 31,
   "metadata": {},
   "outputs": [],
   "source": [
    "data = pd.Series(np.random.randn(8), index=city)"
   ]
  },
  {
   "cell_type": "code",
   "execution_count": 32,
   "metadata": {},
   "outputs": [
    {
     "data": {
      "text/plain": [
       "seoul         -1.856407\n",
       "jeju           0.153164\n",
       "dokdo          1.037231\n",
       "daejeon       -0.779294\n",
       "new york      -0.400006\n",
       "las vegas     -0.799853\n",
       "los angeles    0.688605\n",
       "boston        -0.108650\n",
       "dtype: float64"
      ]
     },
     "execution_count": 32,
     "metadata": {},
     "output_type": "execute_result"
    }
   ],
   "source": [
    "data"
   ]
  },
  {
   "cell_type": "code",
   "execution_count": 35,
   "metadata": {},
   "outputs": [],
   "source": [
    "data[['seoul','dokdo','las vegas','boston']]=np.NAN"
   ]
  },
  {
   "cell_type": "code",
   "execution_count": 36,
   "metadata": {},
   "outputs": [
    {
     "data": {
      "text/plain": [
       "USA      2\n",
       "korea    2\n",
       "dtype: int64"
      ]
     },
     "execution_count": 36,
     "metadata": {},
     "output_type": "execute_result"
    }
   ],
   "source": [
    "data.groupby(grouping_key).count()"
   ]
  },
  {
   "cell_type": "code",
   "execution_count": 37,
   "metadata": {},
   "outputs": [
    {
     "data": {
      "text/plain": [
       "seoul               NaN\n",
       "jeju           0.153164\n",
       "dokdo               NaN\n",
       "daejeon       -0.779294\n",
       "new york      -0.400006\n",
       "las vegas           NaN\n",
       "los angeles    0.688605\n",
       "boston              NaN\n",
       "dtype: float64"
      ]
     },
     "execution_count": 37,
     "metadata": {},
     "output_type": "execute_result"
    }
   ],
   "source": [
    "data"
   ]
  },
  {
   "cell_type": "code",
   "execution_count": 39,
   "metadata": {},
   "outputs": [
    {
     "data": {
      "text/plain": [
       "seoul         -0.313065\n",
       "jeju           0.153164\n",
       "dokdo         -0.313065\n",
       "daejeon       -0.779294\n",
       "new york      -0.400006\n",
       "las vegas      0.144299\n",
       "los angeles    0.688605\n",
       "boston         0.144299\n",
       "dtype: float64"
      ]
     },
     "execution_count": 39,
     "metadata": {},
     "output_type": "execute_result"
    }
   ],
   "source": [
    "data.groupby(grouping_key).apply(lambda c : c.fillna(c.mean()))"
   ]
  },
  {
   "cell_type": "code",
   "execution_count": 40,
   "metadata": {},
   "outputs": [],
   "source": [
    "city_fill_values = {'korea':0.2,'USA':0.8}"
   ]
  },
  {
   "cell_type": "code",
   "execution_count": 43,
   "metadata": {},
   "outputs": [
    {
     "data": {
      "text/plain": [
       "0.2"
      ]
     },
     "execution_count": 43,
     "metadata": {},
     "output_type": "execute_result"
    }
   ],
   "source": [
    "city_fill_values['korea']"
   ]
  },
  {
   "cell_type": "code",
   "execution_count": 44,
   "metadata": {},
   "outputs": [
    {
     "data": {
      "text/plain": [
       "seoul          0.200000\n",
       "jeju           0.153164\n",
       "dokdo          0.200000\n",
       "daejeon       -0.779294\n",
       "new york      -0.400006\n",
       "las vegas      0.800000\n",
       "los angeles    0.688605\n",
       "boston         0.800000\n",
       "dtype: float64"
      ]
     },
     "execution_count": 44,
     "metadata": {},
     "output_type": "execute_result"
    }
   ],
   "source": [
    "data.groupby(grouping_key).apply(lambda c : c.fillna(city_fill_values[c.name]))"
   ]
  },
  {
   "cell_type": "code",
   "execution_count": null,
   "metadata": {},
   "outputs": [],
   "source": []
  }
 ],
 "metadata": {
  "kernelspec": {
   "display_name": "Python 3",
   "language": "python",
   "name": "python3"
  },
  "language_info": {
   "codemirror_mode": {
    "name": "ipython",
    "version": 3
   },
   "file_extension": ".py",
   "mimetype": "text/x-python",
   "name": "python",
   "nbconvert_exporter": "python",
   "pygments_lexer": "ipython3",
   "version": "3.6.4"
  }
 },
 "nbformat": 4,
 "nbformat_minor": 2
}
