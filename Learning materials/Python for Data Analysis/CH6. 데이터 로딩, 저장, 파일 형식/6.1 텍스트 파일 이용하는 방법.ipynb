{
 "cells": [
  {
   "cell_type": "markdown",
   "metadata": {},
   "source": [
    "# 6.1 텍스트 파일 이용하는 방법"
   ]
  },
  {
   "cell_type": "markdown",
   "metadata": {},
   "source": [
    "## 6.1.4 JSON 데이터"
   ]
  },
  {
   "cell_type": "code",
   "execution_count": 1,
   "metadata": {},
   "outputs": [],
   "source": [
    "import json\n",
    "import pandas as pd"
   ]
  },
  {
   "cell_type": "code",
   "execution_count": 2,
   "metadata": {},
   "outputs": [],
   "source": [
    "obj = \"\"\"\n",
    "{\"name\":\"Wes\",\n",
    " \"places_lived\":[\"United States\",\"Spain\",\"Germany\"],\n",
    " \"pet\":null,\n",
    " \"siblings\":[{\"name\":\"Scott\", \"age\":25, \"pet\":\"Zuko\"},\n",
    "             {\"name\":\"Katie\", \"age\":33, \"pet\":\"Cisco\"}]\n",
    "}\n",
    "\"\"\""
   ]
  },
  {
   "cell_type": "code",
   "execution_count": 3,
   "metadata": {},
   "outputs": [],
   "source": [
    "result = json.loads(obj)"
   ]
  },
  {
   "cell_type": "code",
   "execution_count": 4,
   "metadata": {},
   "outputs": [
    {
     "data": {
      "text/plain": [
       "{'name': 'Wes',\n",
       " 'pet': None,\n",
       " 'places_lived': ['United States', 'Spain', 'Germany'],\n",
       " 'siblings': [{'age': 25, 'name': 'Scott', 'pet': 'Zuko'},\n",
       "  {'age': 33, 'name': 'Katie', 'pet': 'Cisco'}]}"
      ]
     },
     "execution_count": 4,
     "metadata": {},
     "output_type": "execute_result"
    }
   ],
   "source": [
    "result"
   ]
  },
  {
   "cell_type": "code",
   "execution_count": 5,
   "metadata": {},
   "outputs": [],
   "source": [
    "asjson = json.dumps(result)"
   ]
  },
  {
   "cell_type": "code",
   "execution_count": 6,
   "metadata": {},
   "outputs": [],
   "source": [
    "siblings = pd.DataFrame(result[\"siblings\"], columns=[\"name\",\"age\"])"
   ]
  },
  {
   "cell_type": "code",
   "execution_count": 7,
   "metadata": {},
   "outputs": [
    {
     "data": {
      "text/html": [
       "<div>\n",
       "<style scoped>\n",
       "    .dataframe tbody tr th:only-of-type {\n",
       "        vertical-align: middle;\n",
       "    }\n",
       "\n",
       "    .dataframe tbody tr th {\n",
       "        vertical-align: top;\n",
       "    }\n",
       "\n",
       "    .dataframe thead th {\n",
       "        text-align: right;\n",
       "    }\n",
       "</style>\n",
       "<table border=\"1\" class=\"dataframe\">\n",
       "  <thead>\n",
       "    <tr style=\"text-align: right;\">\n",
       "      <th></th>\n",
       "      <th>name</th>\n",
       "      <th>age</th>\n",
       "    </tr>\n",
       "  </thead>\n",
       "  <tbody>\n",
       "    <tr>\n",
       "      <th>0</th>\n",
       "      <td>Scott</td>\n",
       "      <td>25</td>\n",
       "    </tr>\n",
       "    <tr>\n",
       "      <th>1</th>\n",
       "      <td>Katie</td>\n",
       "      <td>33</td>\n",
       "    </tr>\n",
       "  </tbody>\n",
       "</table>\n",
       "</div>"
      ],
      "text/plain": [
       "    name  age\n",
       "0  Scott   25\n",
       "1  Katie   33"
      ]
     },
     "execution_count": 7,
     "metadata": {},
     "output_type": "execute_result"
    }
   ],
   "source": [
    "siblings"
   ]
  },
  {
   "cell_type": "markdown",
   "metadata": {},
   "source": [
    "## 6.1.5 XML과 HTML: 웹 내용 긁어오기"
   ]
  },
  {
   "cell_type": "code",
   "execution_count": 8,
   "metadata": {},
   "outputs": [],
   "source": [
    "import requests\n",
    "from lxml.html import parse\n",
    "from io import StringIO"
   ]
  },
  {
   "cell_type": "code",
   "execution_count": 9,
   "metadata": {},
   "outputs": [],
   "source": [
    "text = requests.get('https://sports.news.naver.com/basketball/record/index.nhn?category=nba').text"
   ]
  },
  {
   "cell_type": "code",
   "execution_count": 10,
   "metadata": {},
   "outputs": [],
   "source": [
    "parsed = parse(StringIO(text))"
   ]
  },
  {
   "cell_type": "code",
   "execution_count": 11,
   "metadata": {},
   "outputs": [],
   "source": [
    "doc = parsed.getroot()"
   ]
  },
  {
   "cell_type": "code",
   "execution_count": 12,
   "metadata": {},
   "outputs": [
    {
     "data": {
      "text/plain": [
       "<Element html at 0x1139c43b8>"
      ]
     },
     "execution_count": 12,
     "metadata": {},
     "output_type": "execute_result"
    }
   ],
   "source": [
    "doc"
   ]
  },
  {
   "cell_type": "code",
   "execution_count": 13,
   "metadata": {},
   "outputs": [],
   "source": [
    "links = doc.findall('.//a')"
   ]
  },
  {
   "cell_type": "code",
   "execution_count": 14,
   "metadata": {},
   "outputs": [
    {
     "data": {
      "text/plain": [
       "[<Element a at 0x1139c4e08>,\n",
       " <Element a at 0x1139c4e58>,\n",
       " <Element a at 0x1139c4ea8>,\n",
       " <Element a at 0x1139c4ef8>,\n",
       " <Element a at 0x1139c4f48>]"
      ]
     },
     "execution_count": 14,
     "metadata": {},
     "output_type": "execute_result"
    }
   ],
   "source": [
    "links[15:20]"
   ]
  },
  {
   "cell_type": "code",
   "execution_count": 15,
   "metadata": {},
   "outputs": [],
   "source": [
    "lnk = links[27]"
   ]
  },
  {
   "cell_type": "code",
   "execution_count": 16,
   "metadata": {},
   "outputs": [
    {
     "data": {
      "text/plain": [
       "<Element a at 0x116420228>"
      ]
     },
     "execution_count": 16,
     "metadata": {},
     "output_type": "execute_result"
    }
   ],
   "source": [
    "lnk"
   ]
  },
  {
   "cell_type": "code",
   "execution_count": 17,
   "metadata": {},
   "outputs": [
    {
     "data": {
      "text/plain": [
       "'http://fd.sports.news.naver.com'"
      ]
     },
     "execution_count": 17,
     "metadata": {},
     "output_type": "execute_result"
    }
   ],
   "source": [
    "lnk.get('href')"
   ]
  },
  {
   "cell_type": "code",
   "execution_count": 18,
   "metadata": {},
   "outputs": [
    {
     "data": {
      "text/plain": [
       "'SPORTS'"
      ]
     },
     "execution_count": 18,
     "metadata": {},
     "output_type": "execute_result"
    }
   ],
   "source": [
    "links[2].text_content()"
   ]
  },
  {
   "cell_type": "code",
   "execution_count": 19,
   "metadata": {},
   "outputs": [],
   "source": [
    "urls = [lnk.get('href') for lnk in doc.findall('.//a')]"
   ]
  },
  {
   "cell_type": "code",
   "execution_count": 20,
   "metadata": {},
   "outputs": [
    {
     "data": {
      "text/plain": [
       "['#',\n",
       " 'https://post.naver.com/viewer/postView.nhn?volumeNo=15857371&memberNo=1156373',\n",
       " 'http://m.post.naver.com/viewer/postView.nhn?volumeNo=14837084&memberNo=1156373',\n",
       " 'http://www.naver.com/rules/service.html',\n",
       " 'http://news.naver.com/main/principle.nhn',\n",
       " 'http://www.naver.com/rules/privacy.html',\n",
       " 'http://www.naver.com/rules/disclaimer.html',\n",
       " '#',\n",
       " 'http://www.navercorp.com/',\n",
       " 'http://www.navercorp.com/']"
      ]
     },
     "execution_count": 20,
     "metadata": {},
     "output_type": "execute_result"
    }
   ],
   "source": [
    "urls[-10:]"
   ]
  },
  {
   "cell_type": "code",
   "execution_count": 21,
   "metadata": {},
   "outputs": [],
   "source": [
    "tables = doc.findall('.//table')"
   ]
  },
  {
   "cell_type": "code",
   "execution_count": 22,
   "metadata": {},
   "outputs": [
    {
     "data": {
      "text/plain": [
       "[<Element table at 0x116422e08>,\n",
       " <Element table at 0x116422d68>,\n",
       " <Element table at 0x116422f98>]"
      ]
     },
     "execution_count": 22,
     "metadata": {},
     "output_type": "execute_result"
    }
   ],
   "source": [
    "tables"
   ]
  },
  {
   "cell_type": "code",
   "execution_count": 23,
   "metadata": {},
   "outputs": [],
   "source": [
    "calls = tables[1]\n",
    "puts = tables[2]"
   ]
  },
  {
   "cell_type": "code",
   "execution_count": 24,
   "metadata": {},
   "outputs": [],
   "source": [
    "rows = calls.findall('.//tr')"
   ]
  },
  {
   "cell_type": "code",
   "execution_count": 25,
   "metadata": {},
   "outputs": [
    {
     "data": {
      "text/plain": [
       "[<Element tr at 0x116426368>,\n",
       " <Element tr at 0x116426408>,\n",
       " <Element tr at 0x116426458>,\n",
       " <Element tr at 0x1164264a8>,\n",
       " <Element tr at 0x1164264f8>,\n",
       " <Element tr at 0x116426548>,\n",
       " <Element tr at 0x116426598>,\n",
       " <Element tr at 0x1164265e8>,\n",
       " <Element tr at 0x116426638>,\n",
       " <Element tr at 0x116426688>,\n",
       " <Element tr at 0x1164266d8>,\n",
       " <Element tr at 0x116426728>,\n",
       " <Element tr at 0x116426778>,\n",
       " <Element tr at 0x1164267c8>,\n",
       " <Element tr at 0x116426818>,\n",
       " <Element tr at 0x116426868>]"
      ]
     },
     "execution_count": 25,
     "metadata": {},
     "output_type": "execute_result"
    }
   ],
   "source": [
    "rows"
   ]
  },
  {
   "cell_type": "code",
   "execution_count": 26,
   "metadata": {},
   "outputs": [],
   "source": [
    "def _unpack(row, kind='td'):\n",
    "    elts = row.findall('.//%s'%kind)\n",
    "    return [val.text_content().strip().split('\\n')[0] for val in elts]"
   ]
  },
  {
   "cell_type": "code",
   "execution_count": 27,
   "metadata": {},
   "outputs": [
    {
     "data": {
      "text/plain": [
       "['순위',\n",
       " '팀',\n",
       " '디비전',\n",
       " '경기수',\n",
       " '승',\n",
       " '패',\n",
       " '승률',\n",
       " '승차',\n",
       " '홈승',\n",
       " '홈패',\n",
       " '원정승',\n",
       " '원정패',\n",
       " '디비전승',\n",
       " '디비전패',\n",
       " '연속']"
      ]
     },
     "execution_count": 27,
     "metadata": {},
     "output_type": "execute_result"
    }
   ],
   "source": [
    "_unpack(rows[0], kind='th')"
   ]
  },
  {
   "cell_type": "code",
   "execution_count": 28,
   "metadata": {},
   "outputs": [
    {
     "data": {
      "text/plain": [
       "['보스턴',\n",
       " 'ATL',\n",
       " '82',\n",
       " '55',\n",
       " '27',\n",
       " '0.671',\n",
       " '4.0',\n",
       " '27',\n",
       " '14',\n",
       " '28',\n",
       " '13',\n",
       " '12',\n",
       " '4',\n",
       " '1승']"
      ]
     },
     "execution_count": 28,
     "metadata": {},
     "output_type": "execute_result"
    }
   ],
   "source": [
    "_unpack(rows[2], kind='td')"
   ]
  },
  {
   "cell_type": "code",
   "execution_count": 29,
   "metadata": {},
   "outputs": [],
   "source": [
    "from pandas.io.parsers import TextParser"
   ]
  },
  {
   "cell_type": "code",
   "execution_count": 30,
   "metadata": {},
   "outputs": [],
   "source": [
    "def parse_options_data(table):\n",
    "    rows = table.findall('.//tr')\n",
    "    header = _unpack(rows[0], kind='th')\n",
    "    data = [_unpack(r) for r in rows]\n",
    "    return TextParser(data, names=header).get_chunk()"
   ]
  },
  {
   "cell_type": "code",
   "execution_count": 31,
   "metadata": {},
   "outputs": [],
   "source": [
    "column_data = parse_options_data(calls)"
   ]
  },
  {
   "cell_type": "code",
   "execution_count": 32,
   "metadata": {},
   "outputs": [],
   "source": [
    "row_data = parse_options_data(puts)"
   ]
  },
  {
   "cell_type": "code",
   "execution_count": 33,
   "metadata": {},
   "outputs": [
    {
     "data": {
      "text/html": [
       "<div>\n",
       "<style scoped>\n",
       "    .dataframe tbody tr th:only-of-type {\n",
       "        vertical-align: middle;\n",
       "    }\n",
       "\n",
       "    .dataframe tbody tr th {\n",
       "        vertical-align: top;\n",
       "    }\n",
       "\n",
       "    .dataframe thead th {\n",
       "        text-align: right;\n",
       "    }\n",
       "</style>\n",
       "<table border=\"1\" class=\"dataframe\">\n",
       "  <thead>\n",
       "    <tr style=\"text-align: right;\">\n",
       "      <th></th>\n",
       "      <th>순위</th>\n",
       "      <th>팀</th>\n",
       "      <th>디비전</th>\n",
       "      <th>경기수</th>\n",
       "      <th>승</th>\n",
       "      <th>패</th>\n",
       "      <th>승률</th>\n",
       "      <th>승차</th>\n",
       "      <th>홈승</th>\n",
       "      <th>홈패</th>\n",
       "      <th>원정승</th>\n",
       "      <th>원정패</th>\n",
       "      <th>디비전승</th>\n",
       "      <th>디비전패</th>\n",
       "      <th>연속</th>\n",
       "    </tr>\n",
       "  </thead>\n",
       "  <tbody>\n",
       "    <tr>\n",
       "      <th>0</th>\n",
       "      <td>토론토</td>\n",
       "      <td>ATL</td>\n",
       "      <td>82</td>\n",
       "      <td>59</td>\n",
       "      <td>23</td>\n",
       "      <td>0.720</td>\n",
       "      <td>0.0</td>\n",
       "      <td>34</td>\n",
       "      <td>7</td>\n",
       "      <td>25</td>\n",
       "      <td>16</td>\n",
       "      <td>12</td>\n",
       "      <td>4</td>\n",
       "      <td>1패</td>\n",
       "      <td>NaN</td>\n",
       "    </tr>\n",
       "    <tr>\n",
       "      <th>1</th>\n",
       "      <td>보스턴</td>\n",
       "      <td>ATL</td>\n",
       "      <td>82</td>\n",
       "      <td>55</td>\n",
       "      <td>27</td>\n",
       "      <td>0.671</td>\n",
       "      <td>4.0</td>\n",
       "      <td>27</td>\n",
       "      <td>14</td>\n",
       "      <td>28</td>\n",
       "      <td>13</td>\n",
       "      <td>12</td>\n",
       "      <td>4</td>\n",
       "      <td>1승</td>\n",
       "      <td>NaN</td>\n",
       "    </tr>\n",
       "    <tr>\n",
       "      <th>2</th>\n",
       "      <td>필라델피아</td>\n",
       "      <td>ATL</td>\n",
       "      <td>82</td>\n",
       "      <td>52</td>\n",
       "      <td>30</td>\n",
       "      <td>0.634</td>\n",
       "      <td>7.0</td>\n",
       "      <td>30</td>\n",
       "      <td>11</td>\n",
       "      <td>22</td>\n",
       "      <td>19</td>\n",
       "      <td>9</td>\n",
       "      <td>7</td>\n",
       "      <td>16승</td>\n",
       "      <td>NaN</td>\n",
       "    </tr>\n",
       "    <tr>\n",
       "      <th>3</th>\n",
       "      <td>클리블랜드</td>\n",
       "      <td>CEN</td>\n",
       "      <td>82</td>\n",
       "      <td>50</td>\n",
       "      <td>32</td>\n",
       "      <td>0.610</td>\n",
       "      <td>9.0</td>\n",
       "      <td>29</td>\n",
       "      <td>12</td>\n",
       "      <td>21</td>\n",
       "      <td>20</td>\n",
       "      <td>11</td>\n",
       "      <td>5</td>\n",
       "      <td>1패</td>\n",
       "      <td>NaN</td>\n",
       "    </tr>\n",
       "    <tr>\n",
       "      <th>4</th>\n",
       "      <td>인디애나</td>\n",
       "      <td>CEN</td>\n",
       "      <td>82</td>\n",
       "      <td>48</td>\n",
       "      <td>34</td>\n",
       "      <td>0.585</td>\n",
       "      <td>11.0</td>\n",
       "      <td>27</td>\n",
       "      <td>14</td>\n",
       "      <td>21</td>\n",
       "      <td>20</td>\n",
       "      <td>10</td>\n",
       "      <td>6</td>\n",
       "      <td>1패</td>\n",
       "      <td>NaN</td>\n",
       "    </tr>\n",
       "    <tr>\n",
       "      <th>5</th>\n",
       "      <td>마이애미</td>\n",
       "      <td>SEA</td>\n",
       "      <td>82</td>\n",
       "      <td>44</td>\n",
       "      <td>38</td>\n",
       "      <td>0.537</td>\n",
       "      <td>15.0</td>\n",
       "      <td>26</td>\n",
       "      <td>15</td>\n",
       "      <td>18</td>\n",
       "      <td>23</td>\n",
       "      <td>11</td>\n",
       "      <td>5</td>\n",
       "      <td>1승</td>\n",
       "      <td>NaN</td>\n",
       "    </tr>\n",
       "    <tr>\n",
       "      <th>6</th>\n",
       "      <td>밀워키</td>\n",
       "      <td>CEN</td>\n",
       "      <td>82</td>\n",
       "      <td>44</td>\n",
       "      <td>38</td>\n",
       "      <td>0.537</td>\n",
       "      <td>15.0</td>\n",
       "      <td>25</td>\n",
       "      <td>16</td>\n",
       "      <td>19</td>\n",
       "      <td>22</td>\n",
       "      <td>6</td>\n",
       "      <td>10</td>\n",
       "      <td>1패</td>\n",
       "      <td>NaN</td>\n",
       "    </tr>\n",
       "    <tr>\n",
       "      <th>7</th>\n",
       "      <td>워싱턴</td>\n",
       "      <td>SEA</td>\n",
       "      <td>82</td>\n",
       "      <td>43</td>\n",
       "      <td>39</td>\n",
       "      <td>0.524</td>\n",
       "      <td>16.0</td>\n",
       "      <td>23</td>\n",
       "      <td>18</td>\n",
       "      <td>20</td>\n",
       "      <td>21</td>\n",
       "      <td>8</td>\n",
       "      <td>8</td>\n",
       "      <td>1패</td>\n",
       "      <td>NaN</td>\n",
       "    </tr>\n",
       "    <tr>\n",
       "      <th>8</th>\n",
       "      <td>디트로이트</td>\n",
       "      <td>CEN</td>\n",
       "      <td>82</td>\n",
       "      <td>39</td>\n",
       "      <td>43</td>\n",
       "      <td>0.476</td>\n",
       "      <td>20.0</td>\n",
       "      <td>25</td>\n",
       "      <td>16</td>\n",
       "      <td>14</td>\n",
       "      <td>27</td>\n",
       "      <td>9</td>\n",
       "      <td>7</td>\n",
       "      <td>1승</td>\n",
       "      <td>NaN</td>\n",
       "    </tr>\n",
       "    <tr>\n",
       "      <th>9</th>\n",
       "      <td>샬럿</td>\n",
       "      <td>SEA</td>\n",
       "      <td>82</td>\n",
       "      <td>36</td>\n",
       "      <td>46</td>\n",
       "      <td>0.439</td>\n",
       "      <td>23.0</td>\n",
       "      <td>21</td>\n",
       "      <td>20</td>\n",
       "      <td>15</td>\n",
       "      <td>26</td>\n",
       "      <td>11</td>\n",
       "      <td>5</td>\n",
       "      <td>1승</td>\n",
       "      <td>NaN</td>\n",
       "    </tr>\n",
       "    <tr>\n",
       "      <th>10</th>\n",
       "      <td>뉴욕</td>\n",
       "      <td>ATL</td>\n",
       "      <td>82</td>\n",
       "      <td>29</td>\n",
       "      <td>53</td>\n",
       "      <td>0.354</td>\n",
       "      <td>30.0</td>\n",
       "      <td>19</td>\n",
       "      <td>22</td>\n",
       "      <td>10</td>\n",
       "      <td>31</td>\n",
       "      <td>6</td>\n",
       "      <td>10</td>\n",
       "      <td>1승</td>\n",
       "      <td>NaN</td>\n",
       "    </tr>\n",
       "    <tr>\n",
       "      <th>11</th>\n",
       "      <td>브루클린</td>\n",
       "      <td>ATL</td>\n",
       "      <td>82</td>\n",
       "      <td>28</td>\n",
       "      <td>54</td>\n",
       "      <td>0.341</td>\n",
       "      <td>31.0</td>\n",
       "      <td>15</td>\n",
       "      <td>26</td>\n",
       "      <td>13</td>\n",
       "      <td>28</td>\n",
       "      <td>1</td>\n",
       "      <td>15</td>\n",
       "      <td>1패</td>\n",
       "      <td>NaN</td>\n",
       "    </tr>\n",
       "    <tr>\n",
       "      <th>12</th>\n",
       "      <td>시카고</td>\n",
       "      <td>CEN</td>\n",
       "      <td>82</td>\n",
       "      <td>27</td>\n",
       "      <td>55</td>\n",
       "      <td>0.329</td>\n",
       "      <td>32.0</td>\n",
       "      <td>17</td>\n",
       "      <td>24</td>\n",
       "      <td>10</td>\n",
       "      <td>31</td>\n",
       "      <td>4</td>\n",
       "      <td>12</td>\n",
       "      <td>4패</td>\n",
       "      <td>NaN</td>\n",
       "    </tr>\n",
       "    <tr>\n",
       "      <th>13</th>\n",
       "      <td>올랜도</td>\n",
       "      <td>SEA</td>\n",
       "      <td>82</td>\n",
       "      <td>25</td>\n",
       "      <td>57</td>\n",
       "      <td>0.305</td>\n",
       "      <td>34.0</td>\n",
       "      <td>17</td>\n",
       "      <td>24</td>\n",
       "      <td>8</td>\n",
       "      <td>33</td>\n",
       "      <td>5</td>\n",
       "      <td>11</td>\n",
       "      <td>1승</td>\n",
       "      <td>NaN</td>\n",
       "    </tr>\n",
       "    <tr>\n",
       "      <th>14</th>\n",
       "      <td>애틀랜타</td>\n",
       "      <td>SEA</td>\n",
       "      <td>82</td>\n",
       "      <td>24</td>\n",
       "      <td>58</td>\n",
       "      <td>0.293</td>\n",
       "      <td>35.0</td>\n",
       "      <td>16</td>\n",
       "      <td>25</td>\n",
       "      <td>8</td>\n",
       "      <td>33</td>\n",
       "      <td>5</td>\n",
       "      <td>11</td>\n",
       "      <td>1패</td>\n",
       "      <td>NaN</td>\n",
       "    </tr>\n",
       "  </tbody>\n",
       "</table>\n",
       "</div>"
      ],
      "text/plain": [
       "       순위    팀  디비전  경기수   승      패    승률  승차  홈승  홈패  원정승  원정패  디비전승 디비전패  연속\n",
       "0     토론토  ATL   82   59  23  0.720   0.0  34   7  25   16   12     4   1패 NaN\n",
       "1     보스턴  ATL   82   55  27  0.671   4.0  27  14  28   13   12     4   1승 NaN\n",
       "2   필라델피아  ATL   82   52  30  0.634   7.0  30  11  22   19    9     7  16승 NaN\n",
       "3   클리블랜드  CEN   82   50  32  0.610   9.0  29  12  21   20   11     5   1패 NaN\n",
       "4    인디애나  CEN   82   48  34  0.585  11.0  27  14  21   20   10     6   1패 NaN\n",
       "5    마이애미  SEA   82   44  38  0.537  15.0  26  15  18   23   11     5   1승 NaN\n",
       "6     밀워키  CEN   82   44  38  0.537  15.0  25  16  19   22    6    10   1패 NaN\n",
       "7     워싱턴  SEA   82   43  39  0.524  16.0  23  18  20   21    8     8   1패 NaN\n",
       "8   디트로이트  CEN   82   39  43  0.476  20.0  25  16  14   27    9     7   1승 NaN\n",
       "9      샬럿  SEA   82   36  46  0.439  23.0  21  20  15   26   11     5   1승 NaN\n",
       "10     뉴욕  ATL   82   29  53  0.354  30.0  19  22  10   31    6    10   1승 NaN\n",
       "11   브루클린  ATL   82   28  54  0.341  31.0  15  26  13   28    1    15   1패 NaN\n",
       "12    시카고  CEN   82   27  55  0.329  32.0  17  24  10   31    4    12   4패 NaN\n",
       "13    올랜도  SEA   82   25  57  0.305  34.0  17  24   8   33    5    11   1승 NaN\n",
       "14   애틀랜타  SEA   82   24  58  0.293  35.0  16  25   8   33    5    11   1패 NaN"
      ]
     },
     "execution_count": 33,
     "metadata": {},
     "output_type": "execute_result"
    }
   ],
   "source": [
    "column_data"
   ]
  },
  {
   "cell_type": "code",
   "execution_count": 34,
   "metadata": {},
   "outputs": [
    {
     "data": {
      "text/html": [
       "<div>\n",
       "<style scoped>\n",
       "    .dataframe tbody tr th:only-of-type {\n",
       "        vertical-align: middle;\n",
       "    }\n",
       "\n",
       "    .dataframe tbody tr th {\n",
       "        vertical-align: top;\n",
       "    }\n",
       "\n",
       "    .dataframe thead th {\n",
       "        text-align: right;\n",
       "    }\n",
       "</style>\n",
       "<table border=\"1\" class=\"dataframe\">\n",
       "  <thead>\n",
       "    <tr style=\"text-align: right;\">\n",
       "      <th></th>\n",
       "      <th></th>\n",
       "      <th></th>\n",
       "      <th></th>\n",
       "      <th></th>\n",
       "      <th></th>\n",
       "      <th></th>\n",
       "      <th></th>\n",
       "      <th></th>\n",
       "      <th></th>\n",
       "      <th></th>\n",
       "      <th></th>\n",
       "      <th>1</th>\n",
       "    </tr>\n",
       "  </thead>\n",
       "  <tbody>\n",
       "    <tr>\n",
       "      <th>제임스 하든 (휴스턴)</th>\n",
       "      <th>72</th>\n",
       "      <th>30.4</th>\n",
       "      <th>8.8</th>\n",
       "      <th>5.4</th>\n",
       "      <th>1.8</th>\n",
       "      <th>0.7</th>\n",
       "      <th>9.0</th>\n",
       "      <th>3.7</th>\n",
       "      <th>8.7</th>\n",
       "      <th>44.9</th>\n",
       "      <th>36.7</th>\n",
       "      <td>85.8</td>\n",
       "    </tr>\n",
       "    <tr>\n",
       "      <th>앤서니 데이비스 (뉴올리언즈)</th>\n",
       "      <th>75</th>\n",
       "      <th>28.1</th>\n",
       "      <th>2.3</th>\n",
       "      <th>11.1</th>\n",
       "      <th>1.5</th>\n",
       "      <th>2.6</th>\n",
       "      <th>10.4</th>\n",
       "      <th>0.7</th>\n",
       "      <th>6.6</th>\n",
       "      <th>53.4</th>\n",
       "      <th>34.0</th>\n",
       "      <td>82.8</td>\n",
       "    </tr>\n",
       "    <tr>\n",
       "      <th>르브론 제임스 (클리블랜드)</th>\n",
       "      <th>82</th>\n",
       "      <th>27.5</th>\n",
       "      <th>9.1</th>\n",
       "      <th>8.6</th>\n",
       "      <th>1.4</th>\n",
       "      <th>0.9</th>\n",
       "      <th>10.4</th>\n",
       "      <th>1.8</th>\n",
       "      <th>4.7</th>\n",
       "      <th>54.2</th>\n",
       "      <th>36.7</th>\n",
       "      <td>73.1</td>\n",
       "    </tr>\n",
       "    <tr>\n",
       "      <th>데미안 릴라드 (포틀랜드)</th>\n",
       "      <th>73</th>\n",
       "      <th>26.9</th>\n",
       "      <th>6.6</th>\n",
       "      <th>4.5</th>\n",
       "      <th>1.0</th>\n",
       "      <th>0.4</th>\n",
       "      <th>8.5</th>\n",
       "      <th>3.1</th>\n",
       "      <th>6.8</th>\n",
       "      <th>43.9</th>\n",
       "      <th>36.1</th>\n",
       "      <td>91.6</td>\n",
       "    </tr>\n",
       "    <tr>\n",
       "      <th>야니스 아데토쿤보 (밀워키)</th>\n",
       "      <th>75</th>\n",
       "      <th>26.9</th>\n",
       "      <th>4.8</th>\n",
       "      <th>10.0</th>\n",
       "      <th>1.4</th>\n",
       "      <th>1.4</th>\n",
       "      <th>9.9</th>\n",
       "      <th>0.6</th>\n",
       "      <th>6.5</th>\n",
       "      <th>52.9</th>\n",
       "      <th>30.7</th>\n",
       "      <td>76.0</td>\n",
       "    </tr>\n",
       "    <tr>\n",
       "      <th>케빈 듀란트 (골든스테이트)</th>\n",
       "      <th>68</th>\n",
       "      <th>26.4</th>\n",
       "      <th>5.4</th>\n",
       "      <th>6.8</th>\n",
       "      <th>0.7</th>\n",
       "      <th>1.8</th>\n",
       "      <th>9.3</th>\n",
       "      <th>2.5</th>\n",
       "      <th>5.3</th>\n",
       "      <th>51.6</th>\n",
       "      <th>41.9</th>\n",
       "      <td>88.9</td>\n",
       "    </tr>\n",
       "    <tr>\n",
       "      <th>러셀 웨스트브룩 (오클라호마)</th>\n",
       "      <th>80</th>\n",
       "      <th>25.4</th>\n",
       "      <th>10.3</th>\n",
       "      <th>10.1</th>\n",
       "      <th>1.8</th>\n",
       "      <th>0.2</th>\n",
       "      <th>9.5</th>\n",
       "      <th>1.2</th>\n",
       "      <th>5.2</th>\n",
       "      <th>44.9</th>\n",
       "      <th>29.8</th>\n",
       "      <td>73.7</td>\n",
       "    </tr>\n",
       "    <tr>\n",
       "      <th>카이리 어빙 (보스턴)</th>\n",
       "      <th>60</th>\n",
       "      <th>24.4</th>\n",
       "      <th>5.1</th>\n",
       "      <th>3.8</th>\n",
       "      <th>1.1</th>\n",
       "      <th>0.3</th>\n",
       "      <th>8.9</th>\n",
       "      <th>2.8</th>\n",
       "      <th>3.9</th>\n",
       "      <th>49.1</th>\n",
       "      <th>40.8</th>\n",
       "      <td>88.9</td>\n",
       "    </tr>\n",
       "    <tr>\n",
       "      <th>라마커스 알드리...(샌안토니오)</th>\n",
       "      <th>75</th>\n",
       "      <th>23.1</th>\n",
       "      <th>2.0</th>\n",
       "      <th>8.5</th>\n",
       "      <th>0.6</th>\n",
       "      <th>1.2</th>\n",
       "      <th>9.2</th>\n",
       "      <th>0.4</th>\n",
       "      <th>4.4</th>\n",
       "      <th>51.0</th>\n",
       "      <th>29.3</th>\n",
       "      <td>83.7</td>\n",
       "    </tr>\n",
       "    <tr>\n",
       "      <th>빅터 올라디포 (인디애나)</th>\n",
       "      <th>75</th>\n",
       "      <th>23.1</th>\n",
       "      <th>4.3</th>\n",
       "      <th>5.2</th>\n",
       "      <th>2.4</th>\n",
       "      <th>0.8</th>\n",
       "      <th>8.5</th>\n",
       "      <th>2.2</th>\n",
       "      <th>3.9</th>\n",
       "      <th>47.7</th>\n",
       "      <th>37.1</th>\n",
       "      <td>79.9</td>\n",
       "    </tr>\n",
       "    <tr>\n",
       "      <th>더마 드로잔 (토론토)</th>\n",
       "      <th>80</th>\n",
       "      <th>23.0</th>\n",
       "      <th>5.2</th>\n",
       "      <th>3.9</th>\n",
       "      <th>1.1</th>\n",
       "      <th>0.3</th>\n",
       "      <th>8.1</th>\n",
       "      <th>1.1</th>\n",
       "      <th>5.8</th>\n",
       "      <th>45.6</th>\n",
       "      <th>31.0</th>\n",
       "      <td>82.5</td>\n",
       "    </tr>\n",
       "    <tr>\n",
       "      <th>조엘 엠비드 (필라델피아)</th>\n",
       "      <th>63</th>\n",
       "      <th>22.9</th>\n",
       "      <th>3.2</th>\n",
       "      <th>11.0</th>\n",
       "      <th>0.6</th>\n",
       "      <th>1.8</th>\n",
       "      <th>8.1</th>\n",
       "      <th>1.0</th>\n",
       "      <th>5.7</th>\n",
       "      <th>48.3</th>\n",
       "      <th>30.8</th>\n",
       "      <td>76.9</td>\n",
       "    </tr>\n",
       "    <tr>\n",
       "      <th>루이스 윌리암스 (LAC)</th>\n",
       "      <th>79</th>\n",
       "      <th>22.6</th>\n",
       "      <th>5.3</th>\n",
       "      <th>2.5</th>\n",
       "      <th>1.1</th>\n",
       "      <th>0.2</th>\n",
       "      <th>7.4</th>\n",
       "      <th>2.4</th>\n",
       "      <th>5.5</th>\n",
       "      <th>43.5</th>\n",
       "      <th>35.9</th>\n",
       "      <td>88.0</td>\n",
       "    </tr>\n",
       "    <tr>\n",
       "      <th>브래들리 빌 (워싱턴)</th>\n",
       "      <th>82</th>\n",
       "      <th>22.6</th>\n",
       "      <th>4.5</th>\n",
       "      <th>4.4</th>\n",
       "      <th>1.2</th>\n",
       "      <th>0.4</th>\n",
       "      <th>8.3</th>\n",
       "      <th>2.4</th>\n",
       "      <th>3.6</th>\n",
       "      <th>46.0</th>\n",
       "      <th>37.5</th>\n",
       "      <td>79.1</td>\n",
       "    </tr>\n",
       "    <tr>\n",
       "      <th>지미 버틀러 (미네소타)</th>\n",
       "      <th>59</th>\n",
       "      <th>22.2</th>\n",
       "      <th>4.9</th>\n",
       "      <th>5.3</th>\n",
       "      <th>2.0</th>\n",
       "      <th>0.4</th>\n",
       "      <th>7.4</th>\n",
       "      <th>1.2</th>\n",
       "      <th>6.2</th>\n",
       "      <th>47.4</th>\n",
       "      <th>35.0</th>\n",
       "      <td>85.4</td>\n",
       "    </tr>\n",
       "    <tr>\n",
       "      <th>켐바 워커 (샬럿)</th>\n",
       "      <th>80</th>\n",
       "      <th>22.1</th>\n",
       "      <th>5.6</th>\n",
       "      <th>3.1</th>\n",
       "      <th>1.1</th>\n",
       "      <th>0.3</th>\n",
       "      <th>7.4</th>\n",
       "      <th>2.9</th>\n",
       "      <th>4.5</th>\n",
       "      <th>43.1</th>\n",
       "      <th>38.4</th>\n",
       "      <td>86.4</td>\n",
       "    </tr>\n",
       "    <tr>\n",
       "      <th>폴 조지 (오클라호마)</th>\n",
       "      <th>79</th>\n",
       "      <th>21.9</th>\n",
       "      <th>3.3</th>\n",
       "      <th>5.7</th>\n",
       "      <th>2.0</th>\n",
       "      <th>0.5</th>\n",
       "      <th>7.3</th>\n",
       "      <th>3.1</th>\n",
       "      <th>4.3</th>\n",
       "      <th>43.0</th>\n",
       "      <th>40.1</th>\n",
       "      <td>82.2</td>\n",
       "    </tr>\n",
       "    <tr>\n",
       "      <th>C.J 맥컬럼 (포틀랜드)</th>\n",
       "      <th>81</th>\n",
       "      <th>21.4</th>\n",
       "      <th>3.4</th>\n",
       "      <th>4.0</th>\n",
       "      <th>1.0</th>\n",
       "      <th>0.4</th>\n",
       "      <th>8.2</th>\n",
       "      <th>2.3</th>\n",
       "      <th>2.6</th>\n",
       "      <th>44.3</th>\n",
       "      <th>39.7</th>\n",
       "      <td>83.6</td>\n",
       "    </tr>\n",
       "    <tr>\n",
       "      <th>블레이크 그리핀 (디트로이트)</th>\n",
       "      <th>58</th>\n",
       "      <th>21.4</th>\n",
       "      <th>5.8</th>\n",
       "      <th>7.4</th>\n",
       "      <th>0.7</th>\n",
       "      <th>0.3</th>\n",
       "      <th>7.5</th>\n",
       "      <th>1.9</th>\n",
       "      <th>4.5</th>\n",
       "      <th>43.8</th>\n",
       "      <th>34.5</th>\n",
       "      <td>78.5</td>\n",
       "    </tr>\n",
       "    <tr>\n",
       "      <th>칼-앤서니 타운스 (미네소타)</th>\n",
       "      <th>82</th>\n",
       "      <th>21.3</th>\n",
       "      <th>2.4</th>\n",
       "      <th>12.3</th>\n",
       "      <th>0.8</th>\n",
       "      <th>1.4</th>\n",
       "      <th>7.8</th>\n",
       "      <th>1.5</th>\n",
       "      <th>4.2</th>\n",
       "      <th>54.5</th>\n",
       "      <th>42.1</th>\n",
       "      <td>85.8</td>\n",
       "    </tr>\n",
       "  </tbody>\n",
       "</table>\n",
       "</div>"
      ],
      "text/plain": [
       "                                                                        1\n",
       "제임스 하든 (휴스턴)       72 30.4 8.8  5.4  1.8 0.7 9.0  3.7 8.7 44.9 36.7  85.8\n",
       "앤서니 데이비스 (뉴올리언즈)   75 28.1 2.3  11.1 1.5 2.6 10.4 0.7 6.6 53.4 34.0  82.8\n",
       "르브론 제임스 (클리블랜드)    82 27.5 9.1  8.6  1.4 0.9 10.4 1.8 4.7 54.2 36.7  73.1\n",
       "데미안 릴라드 (포틀랜드)     73 26.9 6.6  4.5  1.0 0.4 8.5  3.1 6.8 43.9 36.1  91.6\n",
       "야니스 아데토쿤보 (밀워키)    75 26.9 4.8  10.0 1.4 1.4 9.9  0.6 6.5 52.9 30.7  76.0\n",
       "케빈 듀란트 (골든스테이트)    68 26.4 5.4  6.8  0.7 1.8 9.3  2.5 5.3 51.6 41.9  88.9\n",
       "러셀 웨스트브룩 (오클라호마)   80 25.4 10.3 10.1 1.8 0.2 9.5  1.2 5.2 44.9 29.8  73.7\n",
       "카이리 어빙 (보스턴)       60 24.4 5.1  3.8  1.1 0.3 8.9  2.8 3.9 49.1 40.8  88.9\n",
       "라마커스 알드리...(샌안토니오) 75 23.1 2.0  8.5  0.6 1.2 9.2  0.4 4.4 51.0 29.3  83.7\n",
       "빅터 올라디포 (인디애나)     75 23.1 4.3  5.2  2.4 0.8 8.5  2.2 3.9 47.7 37.1  79.9\n",
       "더마 드로잔 (토론토)       80 23.0 5.2  3.9  1.1 0.3 8.1  1.1 5.8 45.6 31.0  82.5\n",
       "조엘 엠비드 (필라델피아)     63 22.9 3.2  11.0 0.6 1.8 8.1  1.0 5.7 48.3 30.8  76.9\n",
       "루이스 윌리암스 (LAC)     79 22.6 5.3  2.5  1.1 0.2 7.4  2.4 5.5 43.5 35.9  88.0\n",
       "브래들리 빌 (워싱턴)       82 22.6 4.5  4.4  1.2 0.4 8.3  2.4 3.6 46.0 37.5  79.1\n",
       "지미 버틀러 (미네소타)      59 22.2 4.9  5.3  2.0 0.4 7.4  1.2 6.2 47.4 35.0  85.4\n",
       "켐바 워커 (샬럿)         80 22.1 5.6  3.1  1.1 0.3 7.4  2.9 4.5 43.1 38.4  86.4\n",
       "폴 조지 (오클라호마)       79 21.9 3.3  5.7  2.0 0.5 7.3  3.1 4.3 43.0 40.1  82.2\n",
       "C.J 맥컬럼 (포틀랜드)     81 21.4 3.4  4.0  1.0 0.4 8.2  2.3 2.6 44.3 39.7  83.6\n",
       "블레이크 그리핀 (디트로이트)   58 21.4 5.8  7.4  0.7 0.3 7.5  1.9 4.5 43.8 34.5  78.5\n",
       "칼-앤서니 타운스 (미네소타)   82 21.3 2.4  12.3 0.8 1.4 7.8  1.5 4.2 54.5 42.1  85.8"
      ]
     },
     "execution_count": 34,
     "metadata": {},
     "output_type": "execute_result"
    }
   ],
   "source": [
    "row_data"
   ]
  },
  {
   "cell_type": "code",
   "execution_count": 35,
   "metadata": {},
   "outputs": [
    {
     "data": {
      "text/plain": [
       "(20, 1)"
      ]
     },
     "execution_count": 35,
     "metadata": {},
     "output_type": "execute_result"
    }
   ],
   "source": [
    "row_data.shape"
   ]
  }
 ],
 "metadata": {
  "kernelspec": {
   "display_name": "Python 3",
   "language": "python",
   "name": "python3"
  },
  "language_info": {
   "codemirror_mode": {
    "name": "ipython",
    "version": 3
   },
   "file_extension": ".py",
   "mimetype": "text/x-python",
   "name": "python",
   "nbconvert_exporter": "python",
   "pygments_lexer": "ipython3",
   "version": "3.6.4"
  }
 },
 "nbformat": 4,
 "nbformat_minor": 2
}
