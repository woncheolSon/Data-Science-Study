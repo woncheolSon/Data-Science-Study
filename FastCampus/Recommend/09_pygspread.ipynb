{
 "cells": [
  {
   "cell_type": "markdown",
   "metadata": {},
   "source": [
    "#### 0. oauth\n",
    "- https://oauth.net/2/\n",
    "- 2006년에 IETF(Internet Engineering Task Force) OAuth Working Group에서 개발되고 유지보수 되는 인증을 위한 표준 프로토콜\n",
    "- secret key, request token, access token, refresh token\n",
    "- https://confluence.atlassian.com/bitbucket/oauth-endpoint-300220600.html"
   ]
  },
  {
   "cell_type": "markdown",
   "metadata": {},
   "source": [
    "#### 1. Install Package\n",
    "- mac\n",
    "    - `$ pip install pygsheets oauth2client`\n",
    "- windows\n",
    "    - `$ conda install -c marta-sd pygsheets`"
   ]
  },
  {
   "cell_type": "markdown",
   "metadata": {},
   "source": [
    "windows에서 아래의 에러가 발생하면 pip로 설치합니다.\n",
    "- TypeError: parse() got an unexpected keyword argument 'transport_encoding'\n",
    "    - `$ conda install pip`\n",
    "    - `$ pip install pygsheets`"
   ]
  },
  {
   "cell_type": "code",
   "execution_count": 1,
   "metadata": {},
   "outputs": [],
   "source": [
    "import pygsheets"
   ]
  },
  {
   "cell_type": "markdown",
   "metadata": {},
   "source": [
    "- authorizing : access token 받기\n",
    "- connecting : google spreadsheet에 연결 (자신의 계정)\n",
    "- spreadsheet 파일 열기\n",
    "- sheet 생성\n",
    "- sheet 복사\n",
    "- sheet 삭제\n",
    "- sheet 선택 : 데이터 가져오기\n",
    "- 업데이트, insert\n",
    "- sheet -> pandas df 변환\n",
    "- cell 컨트롤\n",
    "- spreadsheet 파일 공유\n",
    "- pandas df -> sheet 변환"
   ]
  },
  {
   "cell_type": "markdown",
   "metadata": {},
   "source": [
    "#### 2. authorizing - secret token 받기\n",
    "- reference\n",
    "    - http://pygsheets.readthedocs.io/en/latest/authorizing.html\n",
    "\n",
    "1. 콘솔 페이지로 이동 - https://console.developers.google.com\n",
    "2. 왼쪽 상단의 프로젝트 만들기로 DSS8 프로젝트를 만듦\n",
    "3. 좌측의 라이브러리 탭에서 Google Sheets API, Google Drive API를 추가(사용설정 클릭)\n",
    "4. 사용자 인정 정보 탭으로 이동\n",
    "5. Oauth 동의 화면으로 이동\n",
    "6. 저장 클릭\n",
    "7. 사용자 인증정보 클릭\n",
    "8. Oauth 클라이언트 ID 클릭\n",
    "9. 기타 선택후 dss8로 이름 설정후 확인 클릭\n",
    "10. 우측의 다운로드 버튼 클릭 (json 확장자의 키 파일이 다운로드 된다.)\n",
    "11. 다운로드 받은 파일을 노트북과 같은 디렉토리에 위치하도록 파일을 이동 및 파일이름을 \"client_secret.json\"으로 변경"
   ]
  },
  {
   "cell_type": "markdown",
   "metadata": {},
   "source": [
    "windows에서 아래의 에러가 발생하면 `no_cache = True` 옵션을 설정해 줍니다.\n",
    "- FileNotFoundError: [Errno 2] No such file or directory:\n",
    "    - gc = pygsheets.authorize(outh_file='client_secret.json', no_cache = True)"
   ]
  },
  {
   "cell_type": "code",
   "execution_count": 4,
   "metadata": {},
   "outputs": [
    {
     "data": {
      "text/plain": [
       "<pygsheets.client.Client at 0x117539c18>"
      ]
     },
     "execution_count": 4,
     "metadata": {},
     "output_type": "execute_result"
    }
   ],
   "source": [
    "# 아래 코드를 실행하면 auth 인증창이 실행되고 로그인후에 허용을 하면 access_token을 받아온다.\n",
    "gc = pygsheets.authorize(outh_file=\\\n",
    "                        'client_secret_1079143501749-i1btbeeb48dds4clsu70duv6rvsjkun8.apps.googleusercontent.com.json')\n",
    "gc"
   ]
  },
  {
   "cell_type": "markdown",
   "metadata": {},
   "source": [
    "#### 3. open sheet\n",
    "- 구글 드라이브로 가서 새로운 시트를 만듭니다.\n",
    "- 시트 파일 이름으로 시트를 오픈합니다.\n",
    "- open 함수에 시트의 이름을 파라미터로 넣어 구글 드라이버에 있는 시트 파일을 아래와 같이 열수 있습니다.\n",
    "- sh로 오픈한 시트 파일의 시트는 sh.sheet1으로 첫번째 시트를 가져올수 있습니다.\n",
    "- 처음에는 항상 첫번째 시트를 가져오고 selecting기능으로 다른 시트에 접근할수 있습니다."
   ]
  },
  {
   "cell_type": "code",
   "execution_count": 8,
   "metadata": {},
   "outputs": [],
   "source": [
    "sh = gc.open('fc-email') # 파일 열기 (sh : 전체 시트에 대한 객체)"
   ]
  },
  {
   "cell_type": "code",
   "execution_count": 9,
   "metadata": {},
   "outputs": [
    {
     "data": {
      "text/plain": [
       "<Worksheet '이메일 시트' index:0>"
      ]
     },
     "execution_count": 9,
     "metadata": {},
     "output_type": "execute_result"
    }
   ],
   "source": [
    "sheet1 = sh.sheet1 # 시트 접근 (sheet1 : 첫번째 시트에 대한 객체)\n",
    "sheet1"
   ]
  },
  {
   "cell_type": "markdown",
   "metadata": {},
   "source": [
    "#### 4. create sheet\n",
    "- 시트 생성\n",
    "- add_worksheet 함수를 이용하여 생성할 시트이름, 행과 열의 크기를 파라미터로 넘겨 새로운 시트를 생성할수 있습니다."
   ]
  },
  {
   "cell_type": "code",
   "execution_count": 10,
   "metadata": {},
   "outputs": [
    {
     "data": {
      "text/plain": [
       "<Worksheet 'new_sheet' index:1>"
      ]
     },
     "execution_count": 10,
     "metadata": {},
     "output_type": "execute_result"
    }
   ],
   "source": [
    "# 5칸, 20줄을 가지는 new_sheet라는 이름의 새로운 시트를 생성하여 sheet2라는 변수에 넣어줌\n",
    "sheet2 = sh.add_worksheet(\"new_sheet\", rows=20, cols=5)\n",
    "sheet2"
   ]
  },
  {
   "cell_type": "markdown",
   "metadata": {},
   "source": [
    "#### 5. copy sheet\n",
    "- 시트 복사\n",
    "- add_worksheet를 이용하여 src_worksheet 파라미터에 복사할 시트를 파라미터로 넘기면 새로운 시트를 생성할때 src_worksheet에 설정한 시트가 복사 됩니다."
   ]
  },
  {
   "cell_type": "code",
   "execution_count": 11,
   "metadata": {},
   "outputs": [
    {
     "data": {
      "text/plain": [
       "<Worksheet 'email_copied' index:2>"
      ]
     },
     "execution_count": 11,
     "metadata": {},
     "output_type": "execute_result"
    }
   ],
   "source": [
    "# sheet1을 복사하여 email_copied라는 title의 새로운 시트를 생성하여 sheet3이라는 변수에 넣어줌\n",
    "sheet3 = sh.add_worksheet(\"email_copied\", src_worksheet = sheet1)\n",
    "sheet3"
   ]
  },
  {
   "cell_type": "markdown",
   "metadata": {},
   "source": [
    "#### 6. delete sheet\n",
    "- 시트 삭제\n",
    "- del_worksheet에 삭제한 시트 객체를 파라미터로 넘기면 해당 시트가 삭제됩니다."
   ]
  },
  {
   "cell_type": "code",
   "execution_count": 12,
   "metadata": {},
   "outputs": [],
   "source": [
    "# sheet3 변수가 가지는 sheet를 삭제\n",
    "sh.del_worksheet(sheet3)"
   ]
  },
  {
   "cell_type": "markdown",
   "metadata": {},
   "source": [
    "#### 7. selecting  sheet\n",
    "- 시트가 모여있는 객체인 sh 객체에서 원하는 시트하나에 대한객체를 선택해서 가져오는 방법입니다.\n",
    "- 제목과 순서에 대한 값으로 시트를 가져올수 있습니다."
   ]
  },
  {
   "cell_type": "code",
   "execution_count": 14,
   "metadata": {},
   "outputs": [
    {
     "data": {
      "text/plain": [
       "[<Worksheet '이메일 시트' index:0>, <Worksheet 'new_sheet' index:1>]"
      ]
     },
     "execution_count": 14,
     "metadata": {},
     "output_type": "execute_result"
    }
   ],
   "source": [
    "# 모든 시트 리스트로 가져오기\n",
    "sheet_list = sh.worksheets()\n",
    "sheet_list"
   ]
  },
  {
   "cell_type": "code",
   "execution_count": 15,
   "metadata": {},
   "outputs": [
    {
     "name": "stdout",
     "output_type": "stream",
     "text": [
      "<Worksheet 'new_sheet' index:1>\n"
     ]
    }
   ],
   "source": [
    "# 시트 제목으로 가져오기\n",
    "new_sheet = sh.worksheet_by_title(\"new_sheet\")\n",
    "print(new_sheet)"
   ]
  },
  {
   "cell_type": "code",
   "execution_count": 16,
   "metadata": {},
   "outputs": [
    {
     "name": "stdout",
     "output_type": "stream",
     "text": [
      "<Worksheet '이메일 시트' index:0>\n"
     ]
    }
   ],
   "source": [
    "# index로 시트 가져오기\n",
    "sheet0 = sh.worksheet(\"index\", 0)\n",
    "print(sheet0)"
   ]
  },
  {
   "cell_type": "code",
   "execution_count": 24,
   "metadata": {},
   "outputs": [
    {
     "data": {
      "text/plain": [
       "True"
      ]
     },
     "execution_count": 24,
     "metadata": {},
     "output_type": "execute_result"
    }
   ],
   "source": [
    "# 위에 저장한 첫번째 시트인 sheet1과 같은지 확인하기\n",
    "sheet0 == sheet1 # object 사이의 주소값을 비교"
   ]
  },
  {
   "cell_type": "code",
   "execution_count": 18,
   "metadata": {},
   "outputs": [
    {
     "name": "stdout",
     "output_type": "stream",
     "text": [
      "<Worksheet '이메일 시트' index:0>\n"
     ]
    }
   ],
   "source": [
    "# offset으로 가져오기\n",
    "sheet0 = sh[0]\n",
    "print(sheet0)"
   ]
  },
  {
   "cell_type": "code",
   "execution_count": 19,
   "metadata": {},
   "outputs": [
    {
     "data": {
      "text/plain": [
       "True"
      ]
     },
     "execution_count": 19,
     "metadata": {},
     "output_type": "execute_result"
    }
   ],
   "source": [
    "# 위에 저장한 첫번째 시트인 sheet1과 같은지 확인하기\n",
    "sheet0 == sheet1"
   ]
  },
  {
   "cell_type": "markdown",
   "metadata": {},
   "source": [
    "#### 8. get values"
   ]
  },
  {
   "cell_type": "code",
   "execution_count": 25,
   "metadata": {},
   "outputs": [
    {
     "data": {
      "text/plain": [
       "[{'순번': 1, '이름': '박두진', '이메일': 'pdj1224@gmail.com'},\n",
       " {'순번': 2, '이름': '손원철', '이메일': 'dnjscjf92@ajou.ac.kr'},\n",
       " {'순번': 3, '이름': '곽규리', '이메일': 'uiopl4@ajou.ac.kr'}]"
      ]
     },
     "execution_count": 25,
     "metadata": {},
     "output_type": "execute_result"
    }
   ],
   "source": [
    "# 전체 데이터 리스트로 가져오기 (딕셔너리타입)\n",
    "sheet1.get_all_records()"
   ]
  },
  {
   "cell_type": "code",
   "execution_count": 41,
   "metadata": {},
   "outputs": [],
   "source": [
    "# rows와 columns 설정\n",
    "sh[0].rows = 10\n",
    "sh[0].cols = 3"
   ]
  },
  {
   "cell_type": "code",
   "execution_count": 27,
   "metadata": {},
   "outputs": [
    {
     "data": {
      "text/plain": [
       "[['순번', '이름', '이메일'],\n",
       " ['1', '박두진', 'pdj1224@gmail.com'],\n",
       " ['2', '손원철', 'dnjscjf92@ajou.ac.kr'],\n",
       " ['3', '곽규리', 'uiopl4@ajou.ac.kr']]"
      ]
     },
     "execution_count": 27,
     "metadata": {},
     "output_type": "execute_result"
    }
   ],
   "source": [
    "# 모든 데이터 행렬로 가져오기 (리스트타입)\n",
    "all_data_sheet1 = sheet1.get_all_values(returnas='matrix')\n",
    "all_data_sheet1"
   ]
  },
  {
   "cell_type": "code",
   "execution_count": 29,
   "metadata": {},
   "outputs": [
    {
     "data": {
      "text/plain": [
       "[['손원철', 'dnjscjf92@ajou.ac.kr'], ['곽규리', 'uiopl4@ajou.ac.kr']]"
      ]
     },
     "execution_count": 29,
     "metadata": {},
     "output_type": "execute_result"
    }
   ],
   "source": [
    "# 위치를 지정하여 행렬 형태로 데이터 가져오기\n",
    "some_data_sheet1 = sheet1.get_values(start=(3,2), end=(4,3), returnas='matrix')\n",
    "some_data_sheet1"
   ]
  },
  {
   "cell_type": "code",
   "execution_count": 33,
   "metadata": {},
   "outputs": [
    {
     "data": {
      "text/plain": [
       "['2', '손원철', 'dnjscjf92@ajou.ac.kr']"
      ]
     },
     "execution_count": 33,
     "metadata": {},
     "output_type": "execute_result"
    }
   ],
   "source": [
    "# \"시트[행][열]\"과 같은 방법으로 특정 셀의 데이터를 가져올수 있습니다.\n",
    "value = sheet1[2]\n",
    "value"
   ]
  },
  {
   "cell_type": "code",
   "execution_count": 34,
   "metadata": {},
   "outputs": [
    {
     "data": {
      "text/plain": [
       "'손원철'"
      ]
     },
     "execution_count": 34,
     "metadata": {},
     "output_type": "execute_result"
    }
   ],
   "source": [
    "value = sheet1[2][1]\n",
    "value"
   ]
  },
  {
   "cell_type": "code",
   "execution_count": 37,
   "metadata": {},
   "outputs": [
    {
     "name": "stdout",
     "output_type": "stream",
     "text": [
      "[<Cell B4 '곽규리'>]\n"
     ]
    }
   ],
   "source": [
    "# 문자열 찾기 (C2 - 3번째 열, 2번째 줄)\n",
    "cell_list = sh[0].find(\"곽규리\")\n",
    "print(cell_list)"
   ]
  },
  {
   "cell_type": "code",
   "execution_count": 38,
   "metadata": {},
   "outputs": [
    {
     "data": {
      "text/plain": [
       "[<Cell C2 'radajin1224@gmail.com'>]"
      ]
     },
     "execution_count": 38,
     "metadata": {},
     "output_type": "execute_result"
    }
   ],
   "source": [
    "# 특정 문자열이 있는 셀을 찾아서 다른 문자열로 바꾸기\n",
    "cell_list = sh[0].find(\"pdj1224@gmail.com\", replace=\"radajin1224@gmail.com\")\n",
    "cell_list"
   ]
  },
  {
   "cell_type": "code",
   "execution_count": 43,
   "metadata": {},
   "outputs": [
    {
     "data": {
      "text/plain": [
       "<ExportType.CSV: 'text/csv:.csv'>"
      ]
     },
     "execution_count": 43,
     "metadata": {},
     "output_type": "execute_result"
    }
   ],
   "source": [
    "# csv 파일로 export하기\n",
    "pygsheets.ExportType.CSV"
   ]
  },
  {
   "cell_type": "code",
   "execution_count": 44,
   "metadata": {},
   "outputs": [
    {
     "name": "stdout",
     "output_type": "stream",
     "text": [
      "sheet1.csv\n"
     ]
    }
   ],
   "source": [
    "sheet1.export(pygsheets.ExportType.CSV, filename=\"sheet1.csv\")"
   ]
  },
  {
   "cell_type": "markdown",
   "metadata": {},
   "source": [
    "#### 9. Update & Insert"
   ]
  },
  {
   "cell_type": "code",
   "execution_count": 45,
   "metadata": {},
   "outputs": [],
   "source": [
    "# A1에서 C4까지의 위치에 some_data_sheet1 데이터로 업데이트함\n",
    "# some_data_sheet1에는 [['박두진', 'pdj1224@gmail.com'], ['손원철', 'dnjscjf92@ajou.ac.kr']] 데이터가 들어있음으로 4개의 value가 들어감\n",
    "sh[1].update_cells(crange='A1:C4', values=some_data_sheet1)"
   ]
  },
  {
   "cell_type": "code",
   "execution_count": 46,
   "metadata": {},
   "outputs": [
    {
     "data": {
      "text/plain": [
       "[['손원철', 'dnjscjf92@ajou.ac.kr', '', '', ''],\n",
       " ['곽규리', 'uiopl4@ajou.ac.kr', '', '', '']]"
      ]
     },
     "execution_count": 46,
     "metadata": {},
     "output_type": "execute_result"
    }
   ],
   "source": [
    "# sh[1] 위치에 있는 두번째 시트에 대한 모든 데이터를 가져옴\n",
    "all_data_sheet2 = sh[1].get_all_values()\n",
    "all_data_sheet2"
   ]
  },
  {
   "cell_type": "code",
   "execution_count": 47,
   "metadata": {},
   "outputs": [],
   "source": [
    "# 4번째줄 아래로 2줄 삽입 (5,6번째줄에 데이터 삽입)\n",
    "sh[1].insert_rows(row=4, number=2, values=all_data_sheet2)"
   ]
  },
  {
   "cell_type": "code",
   "execution_count": 48,
   "metadata": {},
   "outputs": [],
   "source": [
    "# 시트의 열과 행을 재설정해줌\n",
    "sh[1].rows = 7\n",
    "sh[1].cols = 2"
   ]
  },
  {
   "cell_type": "code",
   "execution_count": 49,
   "metadata": {},
   "outputs": [
    {
     "name": "stdout",
     "output_type": "stream",
     "text": [
      "['손원철', 'dnjscjf92@ajou.ac.kr']\n",
      "['곽규리', 'uiopl4@ajou.ac.kr']\n",
      "['', '']\n",
      "['', '']\n",
      "['손원철', 'dnjscjf92@ajou.ac.kr']\n",
      "['곽규리', 'uiopl4@ajou.ac.kr']\n"
     ]
    }
   ],
   "source": [
    "# 반복문을 통해 한줄씩 읽어 올수 있음\n",
    "for row in sh[1]:\n",
    "    print(row)"
   ]
  },
  {
   "cell_type": "code",
   "execution_count": 50,
   "metadata": {},
   "outputs": [],
   "source": [
    "# 시트의 제목을 업데이트\n",
    "sh[1].title = \"NewSheet\""
   ]
  },
  {
   "cell_type": "code",
   "execution_count": 60,
   "metadata": {},
   "outputs": [],
   "source": [
    "# 시트의 마지막 데이터를 찾아 마지막 데이터의 아래에 데이터를 추가\n",
    "sh[1].append_table(values=[\"박두진\",\"pdj1224@gmail.com\"])"
   ]
  },
  {
   "cell_type": "code",
   "execution_count": 61,
   "metadata": {},
   "outputs": [
    {
     "data": {
      "text/plain": [
       "7"
      ]
     },
     "execution_count": 61,
     "metadata": {},
     "output_type": "execute_result"
    }
   ],
   "source": [
    "sh[1].rows"
   ]
  },
  {
   "cell_type": "code",
   "execution_count": 30,
   "metadata": {},
   "outputs": [],
   "source": [
    "# 시트 내용 모두 삭제하기\n",
    "sh[1].clear()"
   ]
  },
  {
   "cell_type": "markdown",
   "metadata": {},
   "source": [
    "#### 10. change to pandas\n",
    "- google sheet를 데이터 분석을 위한 파이썬 패키지인 pandas의 DataFrame으로 변환할수 있다."
   ]
  },
  {
   "cell_type": "code",
   "execution_count": 62,
   "metadata": {},
   "outputs": [
    {
     "data": {
      "text/plain": [
       "<Worksheet '이메일 시트' index:0>"
      ]
     },
     "execution_count": 62,
     "metadata": {},
     "output_type": "execute_result"
    }
   ],
   "source": [
    "sheet1"
   ]
  },
  {
   "cell_type": "code",
   "execution_count": 75,
   "metadata": {},
   "outputs": [
    {
     "data": {
      "text/html": [
       "<div>\n",
       "<style scoped>\n",
       "    .dataframe tbody tr th:only-of-type {\n",
       "        vertical-align: middle;\n",
       "    }\n",
       "\n",
       "    .dataframe tbody tr th {\n",
       "        vertical-align: top;\n",
       "    }\n",
       "\n",
       "    .dataframe thead th {\n",
       "        text-align: right;\n",
       "    }\n",
       "</style>\n",
       "<table border=\"1\" class=\"dataframe\">\n",
       "  <thead>\n",
       "    <tr style=\"text-align: right;\">\n",
       "      <th></th>\n",
       "      <th>순번</th>\n",
       "      <th>이름</th>\n",
       "      <th>이메일</th>\n",
       "    </tr>\n",
       "  </thead>\n",
       "  <tbody>\n",
       "    <tr>\n",
       "      <th>0</th>\n",
       "      <td>1</td>\n",
       "      <td>박두진</td>\n",
       "      <td>radajin1224@gmail.com</td>\n",
       "    </tr>\n",
       "    <tr>\n",
       "      <th>1</th>\n",
       "      <td>2</td>\n",
       "      <td>손원철</td>\n",
       "      <td>dnjscjf92@ajou.ac.kr</td>\n",
       "    </tr>\n",
       "    <tr>\n",
       "      <th>2</th>\n",
       "      <td>3</td>\n",
       "      <td>곽규리</td>\n",
       "      <td>uiopl4@ajou.ac.kr</td>\n",
       "    </tr>\n",
       "  </tbody>\n",
       "</table>\n",
       "</div>"
      ],
      "text/plain": [
       "   순번   이름                    이메일\n",
       "0   1  박두진  radajin1224@gmail.com\n",
       "1   2  손원철   dnjscjf92@ajou.ac.kr\n",
       "2   3  곽규리      uiopl4@ajou.ac.kr"
      ]
     },
     "execution_count": 75,
     "metadata": {},
     "output_type": "execute_result"
    }
   ],
   "source": [
    "df = sheet1.get_as_df()\n",
    "df"
   ]
  },
  {
   "cell_type": "code",
   "execution_count": 76,
   "metadata": {},
   "outputs": [],
   "source": [
    "# csv 파일로 저장\n",
    "df.to_csv(\"email.csv\", index=False)"
   ]
  },
  {
   "cell_type": "code",
   "execution_count": 77,
   "metadata": {},
   "outputs": [
    {
     "data": {
      "text/html": [
       "<div>\n",
       "<style scoped>\n",
       "    .dataframe tbody tr th:only-of-type {\n",
       "        vertical-align: middle;\n",
       "    }\n",
       "\n",
       "    .dataframe tbody tr th {\n",
       "        vertical-align: top;\n",
       "    }\n",
       "\n",
       "    .dataframe thead th {\n",
       "        text-align: right;\n",
       "    }\n",
       "</style>\n",
       "<table border=\"1\" class=\"dataframe\">\n",
       "  <thead>\n",
       "    <tr style=\"text-align: right;\">\n",
       "      <th></th>\n",
       "      <th>순번</th>\n",
       "      <th>이름</th>\n",
       "      <th>이메일</th>\n",
       "    </tr>\n",
       "  </thead>\n",
       "  <tbody>\n",
       "    <tr>\n",
       "      <th>0</th>\n",
       "      <td>1</td>\n",
       "      <td>박두진</td>\n",
       "      <td>radajin1224@gmail.com</td>\n",
       "    </tr>\n",
       "    <tr>\n",
       "      <th>1</th>\n",
       "      <td>2</td>\n",
       "      <td>손원철</td>\n",
       "      <td>dnjscjf92@ajou.ac.kr</td>\n",
       "    </tr>\n",
       "    <tr>\n",
       "      <th>2</th>\n",
       "      <td>3</td>\n",
       "      <td>곽규리</td>\n",
       "      <td>uiopl4@ajou.ac.kr</td>\n",
       "    </tr>\n",
       "  </tbody>\n",
       "</table>\n",
       "</div>"
      ],
      "text/plain": [
       "   순번   이름                    이메일\n",
       "0   1  박두진  radajin1224@gmail.com\n",
       "1   2  손원철   dnjscjf92@ajou.ac.kr\n",
       "2   3  곽규리      uiopl4@ajou.ac.kr"
      ]
     },
     "execution_count": 77,
     "metadata": {},
     "output_type": "execute_result"
    }
   ],
   "source": [
    "# csv 파일 읽어오기\n",
    "df = pd.read_csv(\"email.csv\")\n",
    "df"
   ]
  },
  {
   "cell_type": "markdown",
   "metadata": {},
   "source": [
    "#### 11. Cell"
   ]
  },
  {
   "cell_type": "code",
   "execution_count": 78,
   "metadata": {},
   "outputs": [
    {
     "data": {
      "text/plain": [
       "<Worksheet 'cell_test' index:2>"
      ]
     },
     "execution_count": 78,
     "metadata": {},
     "output_type": "execute_result"
    }
   ],
   "source": [
    "# sheet1을 cell_test 시트를 만들어 복사한다.\n",
    "test_sheet = sh.add_worksheet(\"cell_test\", src_worksheet=sheet1)\n",
    "test_sheet"
   ]
  },
  {
   "cell_type": "code",
   "execution_count": 82,
   "metadata": {},
   "outputs": [
    {
     "name": "stdout",
     "output_type": "stream",
     "text": [
      "손원철\n"
     ]
    }
   ],
   "source": [
    "# 특정 셀의 객체 가져오기\n",
    "b3 = test_sheet.cell('B3')\n",
    "\n",
    "# 셀 값 확인\n",
    "print(b3.value)"
   ]
  },
  {
   "cell_type": "code",
   "execution_count": 83,
   "metadata": {},
   "outputs": [
    {
     "name": "stdout",
     "output_type": "stream",
     "text": [
      "dnjscjf92@ajou.ac.kr\n"
     ]
    }
   ],
   "source": [
    "# b2 객체의 3번째 칸의 데이터를 b2에 할당\n",
    "b3.col = 3\n",
    "\n",
    "# 셀 값 확인\n",
    "print(b3.value)"
   ]
  },
  {
   "cell_type": "code",
   "execution_count": 84,
   "metadata": {},
   "outputs": [
    {
     "data": {
      "text/plain": [
       "'pdj1224@gmail.com'"
      ]
     },
     "execution_count": 84,
     "metadata": {},
     "output_type": "execute_result"
    }
   ],
   "source": [
    "# b2에 해당하는 위치의 데이터를 \"radajin1224@gmail.com\"로 바꿈\n",
    "b3.value = \"pdj1224@gmail.com\"\n",
    "b3.value"
   ]
  },
  {
   "cell_type": "code",
   "execution_count": 85,
   "metadata": {},
   "outputs": [],
   "source": [
    "# C3 위치의 데이터를 'radajin1224@gmail.com'로 업데이트함\n",
    "test_sheet.update_cell('C3', 'dnjscjf92@ajou.ac.kr')"
   ]
  },
  {
   "cell_type": "code",
   "execution_count": 86,
   "metadata": {},
   "outputs": [
    {
     "name": "stdout",
     "output_type": "stream",
     "text": [
      "[[<Cell A1 '순번'>, <Cell B1 '이름'>, <Cell C1 '이메일'>], [<Cell A2 '1'>, <Cell B2 '박두진'>, <Cell C2 'radajin1224@gmail.com'>], [<Cell A3 '2'>, <Cell B3 '손원철'>, <Cell C3 'dnjscjf92@ajou.ac.kr'>], [<Cell A4 '3'>, <Cell B4 '곽규리'>, <Cell C4 'uiopl4@ajou.ac.kr'>]]\n"
     ]
    }
   ],
   "source": [
    "# A1에서 C4의 셀 리스트 가져옴\n",
    "cell_list = test_sheet.range('A1:C4')\n",
    "print(cell_list)"
   ]
  },
  {
   "cell_type": "code",
   "execution_count": 88,
   "metadata": {},
   "outputs": [],
   "source": [
    "cell_list[3][2].value = '규리 이메일'"
   ]
  },
  {
   "cell_type": "code",
   "execution_count": 89,
   "metadata": {},
   "outputs": [
    {
     "name": "stdout",
     "output_type": "stream",
     "text": [
      "[[<Cell A1 '순번'>, <Cell B1 '이름'>, <Cell C1 '이메일'>], [<Cell A2 '1'>, <Cell B2 '박두진'>, <Cell C2 'radajin1224@gmail.com'>], [<Cell A3 '2'>, <Cell B3 '손원철'>, <Cell C3 'dnjscjf92@ajou.ac.kr'>], [<Cell A4 '3'>, <Cell B4 '곽규리'>, <Cell C4 '규리 이메일'>]]\n"
     ]
    }
   ],
   "source": [
    "# A1에서 C4의 셀 리스트 가져옴\n",
    "cell_list = test_sheet.get_values('A1','C4', returnas='cells')\n",
    "print(cell_list)"
   ]
  },
  {
   "cell_type": "code",
   "execution_count": 91,
   "metadata": {},
   "outputs": [
    {
     "name": "stdout",
     "output_type": "stream",
     "text": [
      "[<Cell A3 '2'>, <Cell B3 '손원철'>, <Cell C3 'dnjscjf92@ajou.ac.kr'>]\n"
     ]
    }
   ],
   "source": [
    "# 두번째 줄의 셀 리스트 가져옴\n",
    "cell_list = test_sheet.get_row(3, returnas='cells')\n",
    "print(cell_list)"
   ]
  },
  {
   "cell_type": "code",
   "execution_count": 94,
   "metadata": {},
   "outputs": [
    {
     "name": "stdout",
     "output_type": "stream",
     "text": [
      "CPU times: user 147 ms, sys: 9.24 ms, total: 156 ms\n",
      "Wall time: 1.72 s\n"
     ]
    }
   ],
   "source": [
    "%%time\n",
    "cell = test_sheet.cell('C2')\n",
    "\n",
    "# 노트 추가\n",
    "cell.note = \"this is email data.\"\n",
    "\n",
    "# 셀 배경 색상 변경 (Red, Green, Blue, Alpha\n",
    "cell.color = (1.0,0.7,0.0,1.0) \n",
    "\n",
    "# 텍스트 포멧 변경\n",
    "cell.text_format['fontSize'] = 12\n",
    "cell.text_format['bold'] = True\n",
    "\n",
    "# sync the changes\n",
    "cell.update()"
   ]
  },
  {
   "cell_type": "markdown",
   "metadata": {},
   "source": [
    "#### 12. Share"
   ]
  },
  {
   "cell_type": "code",
   "execution_count": 95,
   "metadata": {},
   "outputs": [],
   "source": [
    "# add\n",
    "# 'owner','writer','commenter','reader'\n",
    "sh.share(\"radajin1224@gmail.com\", role='reader')"
   ]
  },
  {
   "cell_type": "code",
   "execution_count": 96,
   "metadata": {},
   "outputs": [
    {
     "data": {
      "text/plain": [
       "''"
      ]
     },
     "execution_count": 96,
     "metadata": {},
     "output_type": "execute_result"
    }
   ],
   "source": [
    "# remove\n",
    "sh.remove_permissions(\"radajin1224@gmail.com\")"
   ]
  },
  {
   "cell_type": "code",
   "execution_count": 97,
   "metadata": {},
   "outputs": [],
   "source": [
    "# add\n",
    "# 'owner','writer','commenter','reader'\n",
    "sh.share(\"radajin1224@gmail.com\", role='writer')"
   ]
  },
  {
   "cell_type": "code",
   "execution_count": 98,
   "metadata": {},
   "outputs": [
    {
     "data": {
      "text/plain": [
       "''"
      ]
     },
     "execution_count": 98,
     "metadata": {},
     "output_type": "execute_result"
    }
   ],
   "source": [
    "# remove\n",
    "sh.remove_permissions(\"radajin1224@gmail.com\")"
   ]
  },
  {
   "cell_type": "markdown",
   "metadata": {},
   "source": [
    "#### 13. delete sheet"
   ]
  },
  {
   "cell_type": "code",
   "execution_count": 99,
   "metadata": {},
   "outputs": [],
   "source": [
    "sh.del_worksheet(sh[1])"
   ]
  },
  {
   "cell_type": "code",
   "execution_count": 100,
   "metadata": {},
   "outputs": [],
   "source": [
    "sh.del_worksheet(sh[0])"
   ]
  },
  {
   "cell_type": "markdown",
   "metadata": {},
   "source": [
    "#### 14. seaborn에서 iris 데이터를 가져와서 구글 데이터 시트에 넣기"
   ]
  },
  {
   "cell_type": "code",
   "execution_count": 101,
   "metadata": {},
   "outputs": [
    {
     "data": {
      "text/html": [
       "<div>\n",
       "<style scoped>\n",
       "    .dataframe tbody tr th:only-of-type {\n",
       "        vertical-align: middle;\n",
       "    }\n",
       "\n",
       "    .dataframe tbody tr th {\n",
       "        vertical-align: top;\n",
       "    }\n",
       "\n",
       "    .dataframe thead th {\n",
       "        text-align: right;\n",
       "    }\n",
       "</style>\n",
       "<table border=\"1\" class=\"dataframe\">\n",
       "  <thead>\n",
       "    <tr style=\"text-align: right;\">\n",
       "      <th></th>\n",
       "      <th>sepal_length</th>\n",
       "      <th>sepal_width</th>\n",
       "      <th>petal_length</th>\n",
       "      <th>petal_width</th>\n",
       "      <th>species</th>\n",
       "    </tr>\n",
       "  </thead>\n",
       "  <tbody>\n",
       "    <tr>\n",
       "      <th>145</th>\n",
       "      <td>6.7</td>\n",
       "      <td>3.0</td>\n",
       "      <td>5.2</td>\n",
       "      <td>2.3</td>\n",
       "      <td>virginica</td>\n",
       "    </tr>\n",
       "    <tr>\n",
       "      <th>146</th>\n",
       "      <td>6.3</td>\n",
       "      <td>2.5</td>\n",
       "      <td>5.0</td>\n",
       "      <td>1.9</td>\n",
       "      <td>virginica</td>\n",
       "    </tr>\n",
       "    <tr>\n",
       "      <th>147</th>\n",
       "      <td>6.5</td>\n",
       "      <td>3.0</td>\n",
       "      <td>5.2</td>\n",
       "      <td>2.0</td>\n",
       "      <td>virginica</td>\n",
       "    </tr>\n",
       "    <tr>\n",
       "      <th>148</th>\n",
       "      <td>6.2</td>\n",
       "      <td>3.4</td>\n",
       "      <td>5.4</td>\n",
       "      <td>2.3</td>\n",
       "      <td>virginica</td>\n",
       "    </tr>\n",
       "    <tr>\n",
       "      <th>149</th>\n",
       "      <td>5.9</td>\n",
       "      <td>3.0</td>\n",
       "      <td>5.1</td>\n",
       "      <td>1.8</td>\n",
       "      <td>virginica</td>\n",
       "    </tr>\n",
       "  </tbody>\n",
       "</table>\n",
       "</div>"
      ],
      "text/plain": [
       "     sepal_length  sepal_width  petal_length  petal_width    species\n",
       "145           6.7          3.0           5.2          2.3  virginica\n",
       "146           6.3          2.5           5.0          1.9  virginica\n",
       "147           6.5          3.0           5.2          2.0  virginica\n",
       "148           6.2          3.4           5.4          2.3  virginica\n",
       "149           5.9          3.0           5.1          1.8  virginica"
      ]
     },
     "execution_count": 101,
     "metadata": {},
     "output_type": "execute_result"
    }
   ],
   "source": [
    "import seaborn as sns\n",
    "iris = sns.load_dataset(\"iris\")\n",
    "iris.tail()"
   ]
  },
  {
   "cell_type": "code",
   "execution_count": 102,
   "metadata": {},
   "outputs": [],
   "source": [
    "# 새로운 시트 만들기\n",
    "iris_sheet = sh.add_worksheet(\"iris\")"
   ]
  },
  {
   "cell_type": "code",
   "execution_count": 103,
   "metadata": {},
   "outputs": [],
   "source": [
    "iris_sheet.set_dataframe(iris, 'A1', copy_index=True) # (df, cell_start)"
   ]
  },
  {
   "cell_type": "markdown",
   "metadata": {},
   "source": [
    "---"
   ]
  },
  {
   "cell_type": "code",
   "execution_count": 13,
   "metadata": {},
   "outputs": [],
   "source": [
    "bigcon_sh = gc.open('2018 빅콘 - 포화란') # 파일 열기 (sh : 전체 시트에 대한 객체)"
   ]
  },
  {
   "cell_type": "code",
   "execution_count": 23,
   "metadata": {},
   "outputs": [
    {
     "data": {
      "text/plain": [
       "<Worksheet '손원철 - 모델링' index:3>"
      ]
     },
     "execution_count": 23,
     "metadata": {},
     "output_type": "execute_result"
    }
   ],
   "source": [
    "bigcon_sh.worksheet('index',3)"
   ]
  }
 ],
 "metadata": {
  "kernelspec": {
   "display_name": "Python 3",
   "language": "python",
   "name": "python3"
  },
  "language_info": {
   "codemirror_mode": {
    "name": "ipython",
    "version": 3
   },
   "file_extension": ".py",
   "mimetype": "text/x-python",
   "name": "python",
   "nbconvert_exporter": "python",
   "pygments_lexer": "ipython3",
   "version": "3.6.4"
  }
 },
 "nbformat": 4,
 "nbformat_minor": 2
}
