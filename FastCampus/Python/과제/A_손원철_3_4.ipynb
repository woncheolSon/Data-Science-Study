{
 "cells": [
  {
   "cell_type": "markdown",
   "metadata": {},
   "source": [
    "# Misson: level_3 (2)"
   ]
  },
  {
   "cell_type": "markdown",
   "metadata": {},
   "source": [
    "## Q17. level_4 - 숫자의 표현 (1/3)"
   ]
  },
  {
   "cell_type": "code",
   "execution_count": 14,
   "metadata": {},
   "outputs": [
    {
     "name": "stdout",
     "output_type": "stream",
     "text": [
      "4\n"
     ]
    }
   ],
   "source": [
    "def expressions(num):\n",
    "    \n",
    "    answer = 0\n",
    "    \n",
    "    for i in range(1,num+1):\n",
    "        result = 0\n",
    "        while result<num:\n",
    "            result+=i\n",
    "            i+=1\n",
    "        if result==num:\n",
    "            answer+=1\n",
    "    \n",
    "    return answer\n",
    "\n",
    "# 아래는 테스트로 출력해 보기 위한 코드입니다.\n",
    "print(expressions(15));"
   ]
  },
  {
   "cell_type": "markdown",
   "metadata": {},
   "source": [
    "## Q18. level_4 - 땅따먹기 게임 (2/3)"
   ]
  },
  {
   "cell_type": "code",
   "execution_count": 267,
   "metadata": {},
   "outputs": [
    {
     "name": "stdout",
     "output_type": "stream",
     "text": [
      "16\n"
     ]
    }
   ],
   "source": [
    "def hopscotch(board, size):\n",
    "    \n",
    "    for i in range(1,size):\n",
    "        board[i][0] += max(board[i-1][1],board[i-1][2],board[i-1][3])\n",
    "        board[i][1] += max(board[i-1][0],board[i-1][2],board[i-1][3])\n",
    "        board[i][2] += max(board[i-1][0],board[i-1][1],board[i-1][3])\n",
    "        board[i][3] += max(board[i-1][0],board[i-1][1],board[i-1][2])\n",
    "    \n",
    "    return max(board[size-1])\n",
    "\n",
    "\n",
    "#아래는 테스트로 출력해 보기 위한 코드입니다.\n",
    "board =  [[ 1, 2, 3, 5 ], [ 5, 6, 7, 8 ], [4, 3, 2, 1]]\n",
    "print(hopscotch(board, 3))"
   ]
  },
  {
   "cell_type": "markdown",
   "metadata": {},
   "source": [
    "### 배울게 있는 코드"
   ]
  },
  {
   "cell_type": "code",
   "execution_count": 268,
   "metadata": {},
   "outputs": [
    {
     "name": "stdout",
     "output_type": "stream",
     "text": [
      "16\n"
     ]
    }
   ],
   "source": [
    "def hopscotch(board, size):\n",
    "\n",
    "    for i in range(size):\n",
    "        if i == size -1:\n",
    "            return max(board[i])\n",
    "        for j in range(4):\n",
    "            board[i + 1][j] += max(board[i][:j] + board[i][j+1:])\n",
    "\n",
    "#아래는 테스트로 출력해 보기 위한 코드입니다.\n",
    "board =  [[ 1, 2, 3, 5 ], [5, 6, 7, 8 ], [4, 3, 2, 1]]\n",
    "print(hopscotch(board, 3))"
   ]
  },
  {
   "cell_type": "markdown",
   "metadata": {},
   "source": [
    "#### 알게된점"
   ]
  },
  {
   "cell_type": "markdown",
   "metadata": {},
   "source": [
    "- max() 함수안에 리스트를 + 해서 해당하지 않는 열을 제외하는 테크닉이 놀라웠다.\n",
    "- 그 덕분에 내가 작성한 코드에 비해 훨씬 간결한 코드로 작성이 되었다."
   ]
  },
  {
   "cell_type": "markdown",
   "metadata": {},
   "source": [
    "## Q19. level_4 - 공항 건설하기 (3/3)"
   ]
  },
  {
   "cell_type": "code",
   "execution_count": 529,
   "metadata": {},
   "outputs": [
    {
     "name": "stdout",
     "output_type": "stream",
     "text": [
      "1\n"
     ]
    }
   ],
   "source": [
    "def chooseCity(n,city):\n",
    "    city = list(zip(*city))\n",
    "    loc=[]\n",
    "    pop=[]\n",
    "    result=[]\n",
    "    \n",
    "    for i in range(n):\n",
    "        loc.append(city[0][:i]+city[0][i+1:])\n",
    "        pop.append(city[1][:i]+city[1][i+1:])\n",
    "        dis=[]\n",
    "        for j in range(2):\n",
    "            dis.append(abs(city[0][i]-loc[i][j]) * pop[i][j])\n",
    "        result.append(sum(dis))\n",
    "    \n",
    "    dic=dict(zip(city[0], result))\n",
    "    \n",
    "    return list(dic.keys())[result.index(min(result))]\n",
    "\n",
    "#아래 코드는 출력을 위한 테스트 코드입니다.\n",
    "print(chooseCity(3,[[1,5],[2,2],[3,3]]))"
   ]
  },
  {
   "cell_type": "markdown",
   "metadata": {},
   "source": [
    "- 코드는 맞는거 같은데 확실히 좀 비효율적인 코드라 시간초과로 제출이되지 않았는데, 아무리 고민해보아도 해결을 못하겠어서 결국 다른 사람의 코드를 찾아보았다."
   ]
  },
  {
   "cell_type": "markdown",
   "metadata": {},
   "source": [
    "### 배울게 있는 코드"
   ]
  },
  {
   "cell_type": "code",
   "execution_count": 536,
   "metadata": {},
   "outputs": [
    {
     "name": "stdout",
     "output_type": "stream",
     "text": [
      "1\n"
     ]
    }
   ],
   "source": [
    "def chooseCity(n,city):\n",
    "\n",
    "    #city.sort(key=lambda x: x[0])\n",
    "    city.sort()\n",
    "    total = sum([x[1] for x in city]) #인구수 총합\n",
    "    s = 0\n",
    "\n",
    "    for i in range(n):\n",
    "        s += city[i][1] #인구수 누적\n",
    "        if s >= (total // 2):#인구수의 절반보다 크다면\n",
    "            break\n",
    "\n",
    "    return city[i][0]\n",
    "\n",
    "print(chooseCity(3,[[1,5],[2,2],[3,3]]))"
   ]
  },
  {
   "cell_type": "markdown",
   "metadata": {},
   "source": [
    "### 배운점"
   ]
  },
  {
   "cell_type": "markdown",
   "metadata": {},
   "source": [
    "- 역시 알고리즘은 어떤 아이디어에서 시작하느냐에 따라 과정과 결과가 많이 차이나는듯 하다. \n",
    "- \"인구수에 따라서 최적의 이동 거리를 산출하기 때문에 총 인구수를 구한 뒤, 중간 위치를 기준으로 좌측에 총 인구수의 절반이 우측에 그 나머지 절반이 분포하고 있을 것이라 예측하는 방식을 전제로 한다. 즉, 인구가 평균에 가까울수록, 혹은 클수록 최적의 이동 거리를 만들어낸다.\"\n",
    "- 라는 멋진 아이디어에 감탄하였다.. 생각을 많이 하다보니 문제안에 너무 갇혀있었던것같다!"
   ]
  },
  {
   "cell_type": "code",
   "execution_count": null,
   "metadata": {},
   "outputs": [],
   "source": []
  },
  {
   "cell_type": "code",
   "execution_count": null,
   "metadata": {},
   "outputs": [],
   "source": []
  }
 ],
 "metadata": {
  "kernelspec": {
   "display_name": "Python 3",
   "language": "python",
   "name": "python3"
  },
  "language_info": {
   "codemirror_mode": {
    "name": "ipython",
    "version": 3
   },
   "file_extension": ".py",
   "mimetype": "text/x-python",
   "name": "python",
   "nbconvert_exporter": "python",
   "pygments_lexer": "ipython3",
   "version": "3.6.4"
  }
 },
 "nbformat": 4,
 "nbformat_minor": 2
}
