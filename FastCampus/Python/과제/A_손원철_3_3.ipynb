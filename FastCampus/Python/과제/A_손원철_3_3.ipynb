{
 "cells": [
  {
   "cell_type": "markdown",
   "metadata": {},
   "source": [
    "# Misson: level_3 (1)"
   ]
  },
  {
   "cell_type": "markdown",
   "metadata": {},
   "source": [
    "## Q14. level_3 - 야근 지수 (1/3)"
   ]
  },
  {
   "cell_type": "code",
   "execution_count": 61,
   "metadata": {},
   "outputs": [
    {
     "data": {
      "text/plain": [
       "12"
      ]
     },
     "execution_count": 61,
     "metadata": {},
     "output_type": "execute_result"
    }
   ],
   "source": [
    "def noOvertime(n, works):\n",
    "    \n",
    "    while n>0:\n",
    "        works[works.index(max(works))] -= 1\n",
    "        n-=1\n",
    "        \n",
    "    return sum(n**2 for n in works)\n",
    "\n",
    "noOvertime(4,[4,3,3])"
   ]
  },
  {
   "cell_type": "markdown",
   "metadata": {},
   "source": [
    "## Q15. level_3 - 다음 큰 숫자 (2/3)"
   ]
  },
  {
   "cell_type": "code",
   "execution_count": 3,
   "metadata": {},
   "outputs": [
    {
     "name": "stdout",
     "output_type": "stream",
     "text": [
      "83\n"
     ]
    }
   ],
   "source": [
    "def nextBigNumber(n):\n",
    "\n",
    "    count = bin(n).count(\"1\")\n",
    "    \n",
    "    while 1:\n",
    "        n+=1\n",
    "        if count == bin(n).count(\"1\"):\n",
    "            break\n",
    "    \n",
    "    return n\n",
    "\n",
    "#아래 코드는 테스트를 위한 출력 코드입니다.\n",
    "print(nextBigNumber(78))"
   ]
  },
  {
   "cell_type": "markdown",
   "metadata": {},
   "source": [
    "## Q16. level_3 - 시저 암호 (3/3)"
   ]
  },
  {
   "cell_type": "code",
   "execution_count": 10,
   "metadata": {},
   "outputs": [
    {
     "name": "stdout",
     "output_type": "stream",
     "text": [
      "s는 \"a B z\", n은 4인 경우: e F d\n"
     ]
    }
   ],
   "source": [
    "from string import ascii_lowercase, ascii_uppercase\n",
    "\n",
    "low_list = list(ascii_lowercase)\n",
    "up_list = list(ascii_uppercase)\n",
    "\n",
    "def caesar(s, n):\n",
    "    lis = list(s)\n",
    "    result=[]\n",
    "    for i, val in enumerate(lis):\n",
    "        if lis[i].islower():\n",
    "            result.insert(i,low_list[(low_list.index(lis[i])+n)%26])\n",
    "        elif lis[i].isupper():\n",
    "            result.insert(i,up_list[(up_list.index(lis[i])+n)%26])\n",
    "        else:\n",
    "            result.insert(i,\" \")\n",
    "        \n",
    "    return \"\".join(result)\n",
    "\n",
    "\n",
    "# 실행을 위한 테스트코드입니다.\n",
    "print('s는 \"a B z\", n은 4인 경우: ' + caesar(\"a B z\", 4))\n",
    "# caesar(\"a B z\", 4)"
   ]
  },
  {
   "cell_type": "markdown",
   "metadata": {},
   "source": [
    "#### 배울게 있는 코드"
   ]
  },
  {
   "cell_type": "code",
   "execution_count": 12,
   "metadata": {},
   "outputs": [
    {
     "name": "stdout",
     "output_type": "stream",
     "text": [
      "s는 \"a B z\", n은 4인 경우: e F d\n"
     ]
    }
   ],
   "source": [
    "def caesar(plain, no):\n",
    "    result = \"\"\n",
    "    for k in plain:\n",
    "        if k.isalpha():\n",
    "            if k.islower():\n",
    "                result += chr((ord(k) - ord(\"a\") + no) % 26 + ord(\"a\"))\n",
    "            else:\n",
    "                result += chr((ord(k) - ord(\"A\") + no) % 26 + ord(\"A\"))\n",
    "        else:\n",
    "            result += k\n",
    "    return result\n",
    "\n",
    "# 실행을 위한 테스트코드입니다.\n",
    "print('s는 \"a B z\", n은 4인 경우: ' + caesar(\"a B z\", 4))"
   ]
  },
  {
   "cell_type": "markdown",
   "metadata": {},
   "source": [
    "#### 알게된점"
   ]
  },
  {
   "cell_type": "markdown",
   "metadata": {},
   "source": [
    "- chr(i)는 아스키(ASCII) 코드값을 입력으로 받아 그 코드에 해당하는 문자를 출력하는 함수이다.\n",
    "- ord(c)는 문자의 아스키 코드값을 리턴하는 함수이다. `(※ ord 함수는 chr 함수와 반대이다.)`"
   ]
  }
 ],
 "metadata": {
  "kernelspec": {
   "display_name": "Python 3",
   "language": "python",
   "name": "python3"
  },
  "language_info": {
   "codemirror_mode": {
    "name": "ipython",
    "version": 3
   },
   "file_extension": ".py",
   "mimetype": "text/x-python",
   "name": "python",
   "nbconvert_exporter": "python",
   "pygments_lexer": "ipython3",
   "version": "3.6.4"
  }
 },
 "nbformat": 4,
 "nbformat_minor": 2
}
