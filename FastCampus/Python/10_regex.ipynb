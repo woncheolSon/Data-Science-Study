{
 "cells": [
  {
   "cell_type": "markdown",
   "metadata": {},
   "source": [
    "##### 정규표현식 - regex\n",
    "- 문자열을 처리할때 특정 패턴으로 문자열을 처리하는 방법입니다.\n",
    "\n",
    "- 정규표현식 함수\n",
    "    - match : 문자열의 가장 앞에서 일치하는 패턴 찾기\n",
    "    - search : 문자열에서 가장 첫번째로 일치하는 패턴 찾기\n",
    "    - findall : 일치하는 패턴을 모두 찾기\n",
    "    - split : 문자열을 특정 패턴으로 나누기\n",
    "    - sub : 특정 패턴에 맞는 문자열을 대체 하기\n",
    "- pattern\n",
    "\n",
    "- 중고나라\n",
    "    - 01o일이삼3구칠82 -> (정규표현식 패턴 + sub) -> 01012339782"
   ]
  },
  {
   "cell_type": "code",
   "execution_count": 2,
   "metadata": {},
   "outputs": [],
   "source": [
    "import re\n",
    "s = \"fast campus datascience fighting. datascience fighting. fast campus fighting.\""
   ]
  },
  {
   "cell_type": "markdown",
   "metadata": {},
   "source": [
    "##### 1. match"
   ]
  },
  {
   "cell_type": "code",
   "execution_count": 7,
   "metadata": {},
   "outputs": [
    {
     "name": "stdout",
     "output_type": "stream",
     "text": [
      "<_sre.SRE_Match object; span=(0, 4), match='fast'>\n",
      "None\n"
     ]
    }
   ],
   "source": [
    "# 가장 앞에서 부터 일치하는 패턴 찾기\n",
    "result1 = re.match(\"fast\", s) # (패턴, 문자열)\n",
    "result2 = re.match(\"campus\", s) # (패턴, 문자열)\n",
    "print(result1)\n",
    "print(result2)"
   ]
  },
  {
   "cell_type": "markdown",
   "metadata": {},
   "source": [
    "##### 2. search"
   ]
  },
  {
   "cell_type": "code",
   "execution_count": 8,
   "metadata": {},
   "outputs": [
    {
     "name": "stdout",
     "output_type": "stream",
     "text": [
      "<_sre.SRE_Match object; span=(0, 4), match='fast'>\n",
      "<_sre.SRE_Match object; span=(5, 11), match='campus'>\n"
     ]
    }
   ],
   "source": [
    "# 문자열에서 가장 첫번째로 일치하는 패턴을 찾기는것 입니다.\n",
    "result1 = re.search(\"fast\", s) # (패턴, 문자열)\n",
    "result2 = re.search(\"campus\", s) # (패턴, 문자열)\n",
    "print(result1)\n",
    "print(result2)"
   ]
  },
  {
   "cell_type": "markdown",
   "metadata": {},
   "source": [
    "##### 3. findall"
   ]
  },
  {
   "cell_type": "code",
   "execution_count": 9,
   "metadata": {},
   "outputs": [
    {
     "name": "stdout",
     "output_type": "stream",
     "text": [
      "['fast', 'fast']\n",
      "['campus', 'campus']\n"
     ]
    }
   ],
   "source": [
    "# 일치하는 패턴을 모두 찾습니다.\n",
    "result1 = re.findall(\"fast\", s) # (패턴, 문자열)\n",
    "result2 = re.findall(\"campus\", s) # (패턴, 문자열)\n",
    "print(result1)\n",
    "print(result2)"
   ]
  },
  {
   "cell_type": "markdown",
   "metadata": {},
   "source": [
    "##### 4. split"
   ]
  },
  {
   "cell_type": "code",
   "execution_count": 11,
   "metadata": {},
   "outputs": [
    {
     "data": {
      "text/plain": [
       "['fast campus datasc', 'ence f', 'ght', 'ng!']"
      ]
     },
     "execution_count": 11,
     "metadata": {},
     "output_type": "execute_result"
    }
   ],
   "source": [
    "# 패턴으로 문자열을 나누서 리스트로 만들어 줍니다. \n",
    "# 여러가지 문자로 나누고 싶을때, string.split(\",\" \"%\") 체이닝을 이용해서 여러번 함수를 호출해야 합니다.\n",
    "# 패턴을 이용하여 한번만 함수를 호출해도 됩니다.\n",
    "s1 = \"fast campus datascience fighting!\"\n",
    "result = re.split(\"i\", s1)\n",
    "result"
   ]
  },
  {
   "cell_type": "markdown",
   "metadata": {},
   "source": [
    "##### 5. sub"
   ]
  },
  {
   "cell_type": "code",
   "execution_count": 13,
   "metadata": {},
   "outputs": [
    {
     "name": "stdout",
     "output_type": "stream",
     "text": [
      "fast campus datascience fighting. datascience fighting. fast campus fighting.\n"
     ]
    },
    {
     "data": {
      "text/plain": [
       "'slow campus datascience fighting. datascience fighting. slow campus fighting.'"
      ]
     },
     "execution_count": 13,
     "metadata": {},
     "output_type": "execute_result"
    }
   ],
   "source": [
    "# 일치하는 패턴을 대체\n",
    "print(s)\n",
    "re.sub(\"fast\", \"slow\", s) # (\"패턴\", \"해당되는 패턴을 바꿀문자열\", 전체 문자열)"
   ]
  },
  {
   "cell_type": "markdown",
   "metadata": {},
   "source": [
    "##### 6. pattern\n",
    "- 문자\n",
    "    - 숫자인지 문자인지 특수문자인지등을 구분\n",
    "    - `\\d` : 숫자\n",
    "    - `\\D` : 비숫자\n",
    "    - `\\w` : 숫자, 문자, _\n",
    "    - `\\W` : 숫자, 문자, _ 제외\n",
    "    - `\\s` : 공백문자\n",
    "    - `\\S` : 비공백문자\n",
    "- 지정자\n",
    "    - 범위가 몇회 반복과 같은 패턴을 구분"
   ]
  },
  {
   "cell_type": "code",
   "execution_count": 15,
   "metadata": {},
   "outputs": [
    {
     "data": {
      "text/plain": [
       "(100,\n",
       " '0123456789abcdefghijklmnopqrstuvwxyzABCDEFGHIJKLMNOPQRSTUVWXYZ!\"#$%&\\'()*+,-./:;<=>?@[\\\\]^_`{|}~ \\t\\n\\r\\x0b\\x0c')"
      ]
     },
     "execution_count": 15,
     "metadata": {},
     "output_type": "execute_result"
    }
   ],
   "source": [
    "import string\n",
    "pt = string.printable\n",
    "len(pt), pt"
   ]
  },
  {
   "cell_type": "code",
   "execution_count": 18,
   "metadata": {},
   "outputs": [
    {
     "data": {
      "text/plain": [
       "'0123456789'"
      ]
     },
     "execution_count": 18,
     "metadata": {},
     "output_type": "execute_result"
    }
   ],
   "source": [
    "# \\d, \\D - 숫자와 비숫자를 찾는 패턴\n",
    "result = re.findall(\"\\d\", pt)\n",
    "''.join(result)"
   ]
  },
  {
   "cell_type": "code",
   "execution_count": 19,
   "metadata": {},
   "outputs": [
    {
     "data": {
      "text/plain": [
       "'abcdefghijklmnopqrstuvwxyzABCDEFGHIJKLMNOPQRSTUVWXYZ!\"#$%&\\'()*+,-./:;<=>?@[\\\\]^_`{|}~ \\t\\n\\r\\x0b\\x0c'"
      ]
     },
     "execution_count": 19,
     "metadata": {},
     "output_type": "execute_result"
    }
   ],
   "source": [
    "result = re.findall(\"\\D\", pt)\n",
    "''.join(result)"
   ]
  },
  {
   "cell_type": "code",
   "execution_count": 21,
   "metadata": {},
   "outputs": [
    {
     "name": "stdout",
     "output_type": "stream",
     "text": [
      "0123456789abcdefghijklmnopqrstuvwxyzABCDEFGHIJKLMNOPQRSTUVWXYZ_\n"
     ]
    },
    {
     "data": {
      "text/plain": [
       "'!\"#$%&\\'()*+,-./:;<=>?@[\\\\]^`{|}~ \\t\\n\\r\\x0b\\x0c'"
      ]
     },
     "execution_count": 21,
     "metadata": {},
     "output_type": "execute_result"
    }
   ],
   "source": [
    "# 문자\n",
    "result = re.findall(\"\\w\", pt)\n",
    "print(''.join(result))\n",
    "result = re.findall(\"\\W\", pt)\n",
    "''.join(result)"
   ]
  },
  {
   "cell_type": "code",
   "execution_count": 24,
   "metadata": {},
   "outputs": [
    {
     "name": "stdout",
     "output_type": "stream",
     "text": [
      "0123456789abcdefghijklmnopqrstuvwxyzABCDEFGHIJKLMNOPQRSTUVWXYZ!\"#$%&'()*+,-./:;<=>?@[\\]^_`{|}~\n"
     ]
    },
    {
     "data": {
      "text/plain": [
       "' \\t\\n\\r\\x0b\\x0c'"
      ]
     },
     "execution_count": 24,
     "metadata": {},
     "output_type": "execute_result"
    }
   ],
   "source": [
    "# 공백문자\n",
    "result = re.findall(\"\\S\", pt)\n",
    "print(''.join(result))\n",
    "result = re.findall(\"\\s\", pt)\n",
    "''.join(result)"
   ]
  },
  {
   "cell_type": "markdown",
   "metadata": {},
   "source": [
    "##### 지정자\n",
    "- `[]`: 문자\n",
    "- `-` : 범위\n",
    "- `.` : 하나의 문자\n",
    "- `?` : 0회 또는 1회 반복\n",
    "- `*` : 0회 이상 반복\n",
    "- `+` : 1회 이상 반복\n",
    "- `{m,n}` : m~n회 반복\n",
    "- `()` : 그룹핑"
   ]
  },
  {
   "cell_type": "code",
   "execution_count": 27,
   "metadata": {},
   "outputs": [
    {
     "data": {
      "text/plain": [
       "['1', 'a', 'b', 'c']"
      ]
     },
     "execution_count": 27,
     "metadata": {},
     "output_type": "execute_result"
    }
   ],
   "source": [
    "# [] : 문자\n",
    "re.findall(\"[abc1]\", pt)"
   ]
  },
  {
   "cell_type": "code",
   "execution_count": 28,
   "metadata": {},
   "outputs": [
    {
     "data": {
      "text/plain": [
       "['0', '1', '2', '3', '4', '5', '6', '7', '8', '9']"
      ]
     },
     "execution_count": 28,
     "metadata": {},
     "output_type": "execute_result"
    }
   ],
   "source": [
    "# - : 범위\n",
    "re.findall(\"[0123456789]\", pt)"
   ]
  },
  {
   "cell_type": "code",
   "execution_count": 29,
   "metadata": {},
   "outputs": [
    {
     "data": {
      "text/plain": [
       "['0', '1', '2', '3', '4', '5', '6', '7', '8', '9']"
      ]
     },
     "execution_count": 29,
     "metadata": {},
     "output_type": "execute_result"
    }
   ],
   "source": [
    "re.findall(\"[0-9]\", pt)"
   ]
  },
  {
   "cell_type": "code",
   "execution_count": 31,
   "metadata": {},
   "outputs": [
    {
     "data": {
      "text/plain": [
       "['a', 'b', 'c', 'd', 'e', 'f']"
      ]
     },
     "execution_count": 31,
     "metadata": {},
     "output_type": "execute_result"
    }
   ],
   "source": [
    "re.findall(\"[a-f]\", pt)"
   ]
  },
  {
   "cell_type": "code",
   "execution_count": 32,
   "metadata": {},
   "outputs": [
    {
     "data": {
      "text/plain": [
       "['a', 'b', 'c', 'd', 'e', 'f', 'A', 'B', 'C', 'D', 'E', 'F']"
      ]
     },
     "execution_count": 32,
     "metadata": {},
     "output_type": "execute_result"
    }
   ],
   "source": [
    "re.findall(\"[a-fA-F]\", pt)"
   ]
  },
  {
   "cell_type": "code",
   "execution_count": 34,
   "metadata": {},
   "outputs": [
    {
     "name": "stdout",
     "output_type": "stream",
     "text": [
      "123aab123 ['aab']\n",
      "a0b ['a0b']\n",
      "abc []\n"
     ]
    }
   ],
   "source": [
    "# . : 문자하나\n",
    "ls = [\"123aab123\", \"a0b\", \"abc\"]\n",
    "for s in ls:\n",
    "    result = re.findall(\"a.b\", s)\n",
    "    print(s, result)"
   ]
  },
  {
   "cell_type": "code",
   "execution_count": 36,
   "metadata": {},
   "outputs": [
    {
     "name": "stdout",
     "output_type": "stream",
     "text": [
      "aab ['aab']\n",
      "a3b ['a3b']\n",
      "abc ['ab']\n",
      "accb []\n"
     ]
    }
   ],
   "source": [
    "# ? : ? 앞에 있는 패턴을 0회 또는 1회 반복\n",
    "ls = [\"aab\", \"a3b\", \"abc\", \"accb\"]\n",
    "for s in ls:\n",
    "    result = re.findall(\"a.?b\", s) # a + 어떤문자0개 또는 1개 + b\n",
    "    print(s, result)"
   ]
  },
  {
   "cell_type": "code",
   "execution_count": 39,
   "metadata": {},
   "outputs": [
    {
     "name": "stdout",
     "output_type": "stream",
     "text": [
      "ac ['ac']\n",
      "abc ['abc']\n",
      "abbbbc ['abbbbc']\n",
      "a3bec []\n"
     ]
    }
   ],
   "source": [
    "# * : 0회이상 반복\n",
    "ls = [\"ac\", \"abc\", \"abbbbc\", \"a3bec\"]\n",
    "for s in ls:\n",
    "    result = re.findall(\"ab*c\", s) # a + b가 0회 이상 반복 + c\n",
    "    print(s, result)"
   ]
  },
  {
   "cell_type": "code",
   "execution_count": 42,
   "metadata": {},
   "outputs": [
    {
     "name": "stdout",
     "output_type": "stream",
     "text": [
      "ac []\n",
      "abc ['abc']\n",
      "abbbbc ['abbbbc']\n",
      "a3bec []\n"
     ]
    }
   ],
   "source": [
    "# + : 1회이상 반복\n",
    "ls = [\"ac\", \"abc\", \"abbbbc\", \"a3bec\"]\n",
    "for s in ls:\n",
    "    result = re.findall(\"ab+c\", s) # a + b가 1회 이상 반복 + c\n",
    "    print(s, result)"
   ]
  },
  {
   "cell_type": "code",
   "execution_count": 45,
   "metadata": {},
   "outputs": [
    {
     "name": "stdout",
     "output_type": "stream",
     "text": [
      "ac []\n",
      "abc ['abc']\n",
      "abbbbbc ['abbbbbc']\n",
      "abbbbbbbbbbc []\n"
     ]
    }
   ],
   "source": [
    "# {m, n} m에서 n회 반복\n",
    "# + : 1회이상 반복\n",
    "ls = [\"ac\", \"abc\", \"abbbbbc\", \"abbbbbbbbbbc\"] # 5회, 10회\n",
    "for s in ls:\n",
    "    result = re.findall(\"ab{1,8}c\", s) # a + b가 m회 ~ n회 반복 + c\n",
    "    print(s, result)"
   ]
  },
  {
   "cell_type": "code",
   "execution_count": 46,
   "metadata": {},
   "outputs": [
    {
     "name": "stdout",
     "output_type": "stream",
     "text": [
      "aaa5.djfi ['5.dj']\n",
      "abdddc5 []\n",
      "1abbbbc []\n",
      "a3.bec ['3.be']\n"
     ]
    }
   ],
   "source": [
    "# () : 그룹핑\n",
    "ls = [\"aaa5.djfi\",\"abdddc5\",\"1abbbbc\",\"a3.bec\"]\n",
    "for s in ls:\n",
    "    result = re.findall(\"([0-9]+)[.]([a-z]{2})\", s) # a + b가 m회 ~ n회 반복 + c\n",
    "    print(s, result)"
   ]
  },
  {
   "cell_type": "markdown",
   "metadata": {},
   "source": [
    "##### example"
   ]
  },
  {
   "cell_type": "code",
   "execution_count": 47,
   "metadata": {},
   "outputs": [
    {
     "data": {
      "text/plain": [
       "['pdj1224@gmail.com', 'radajin1224@gmail.com']"
      ]
     },
     "execution_count": 47,
     "metadata": {},
     "output_type": "execute_result"
    }
   ],
   "source": [
    "# 이메일 주소 찾기\n",
    "s = \"저의 이메일 주소는 pdj1224@gmail.com 입니다. 또한 radajin1224@gmail.com 도 가지고 있습니다.\"\n",
    "p = \"[0-9a-zA-Z]+@[0-9a-z]+\\.[0-9a-z]+\"\n",
    "re.findall(p, s)"
   ]
  },
  {
   "cell_type": "code",
   "execution_count": 52,
   "metadata": {},
   "outputs": [
    {
     "name": "stdout",
     "output_type": "stream",
     "text": [
      "[('761211', '1023334')]\n"
     ]
    },
    {
     "data": {
      "text/plain": [
       "'저의 주민번호는 761211-******* 입니다.'"
      ]
     },
     "execution_count": 52,
     "metadata": {},
     "output_type": "execute_result"
    }
   ],
   "source": [
    "# 주민등록번호 : group 나눠서 변경 : 761211-1023334 -> 761211-*******\n",
    "# () 그룹핑을 사용\n",
    "s = \"저의 주민번호는 761211-1023334 입니다.\"\n",
    "p = \"([0-9]{6})\\-([0-9]{7})\"\n",
    "print(re.findall(p, s))\n",
    "re.sub(p, \"\\g<1>-*******\", s)"
   ]
  },
  {
   "cell_type": "code",
   "execution_count": 53,
   "metadata": {},
   "outputs": [],
   "source": [
    "# 문자열에서 전화번호를 추출해서 바꾸기\n",
    "# 01o일이삼3구칠82 -> (정규표현식 패턴 + sub) -> 01012339782"
   ]
  },
  {
   "cell_type": "code",
   "execution_count": 58,
   "metadata": {},
   "outputs": [
    {
     "data": {
      "text/plain": [
       "['영일공-48구삼삼7이사', '010사팔구삼삼구삼일']"
      ]
     },
     "execution_count": 58,
     "metadata": {},
     "output_type": "execute_result"
    }
   ],
   "source": [
    "s = \"안녕하세요, 저의 전화번호는 영일공-48구삼삼7이사 그리고 010사팔구삼삼구삼일 입니다. 둘중에 하나로 연락하세요\"\n",
    "\n",
    "# 전화번호 패턴\n",
    "p = \"[0-9영공일이둘삼사오육칠팔구빵oO]{3}[-]?[0-9영공일이둘삼사오육칠팔구빵oO]{3,4}[-]?\\\n",
    "[0-9영공일이둘삼사오육칠팔구빵oO]{4}\"\n",
    "\n",
    "# 패턴 찾기\n",
    "numbers = re.findall.(p, s)\n",
    "numbers"
   ]
  },
  {
   "cell_type": "code",
   "execution_count": 59,
   "metadata": {},
   "outputs": [],
   "source": [
    "# 숫자로 바꿔주기\n",
    "dic = {\n",
    "    \"영\":0,\n",
    "    \"공\":0,\n",
    "    \"일\":1,\n",
    "    \"이\":2,\n",
    "    \"둘\":2,\n",
    "    \"삼\":3,\n",
    "    \"사\":4,\n",
    "    \"오\":5,\n",
    "    \"육\":6,\n",
    "    \"칠\":7,\n",
    "    \"팔\":8,\n",
    "    \"구\":9,\n",
    "    \"빵\":0.\n",
    "}"
   ]
  },
  {
   "cell_type": "code",
   "execution_count": 62,
   "metadata": {},
   "outputs": [
    {
     "name": "stdout",
     "output_type": "stream",
     "text": [
      "01048933724\n",
      "01048933931\n"
     ]
    }
   ],
   "source": [
    "result = []\n",
    "for number in numbers:\n",
    "    # number 영일공-48구삼삼7이사\n",
    "    #\"영\":0,\"공\":0,\"일\":1,\n",
    "    for key, value in dic.items():\n",
    "        number = number.replace(key, str(value))\n",
    "    number = number.replace(\"-\", \"\")\n",
    "    print(number)"
   ]
  }
 ],
 "metadata": {
  "kernelspec": {
   "display_name": "Python 3",
   "language": "python",
   "name": "python3"
  },
  "language_info": {
   "codemirror_mode": {
    "name": "ipython",
    "version": 3
   },
   "file_extension": ".py",
   "mimetype": "text/x-python",
   "name": "python",
   "nbconvert_exporter": "python",
   "pygments_lexer": "ipython3",
   "version": "3.6.4"
  }
 },
 "nbformat": 4,
 "nbformat_minor": 2
}
