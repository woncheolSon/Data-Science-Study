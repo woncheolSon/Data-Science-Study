{
 "cells": [
  {
   "cell_type": "markdown",
   "metadata": {},
   "source": [
    "### Function\n",
    "- 선언, 호출\n",
    "- parameter, argument 개념\n",
    "- return \n",
    "- `*args`, `**kwargs`\n",
    "- docstring\n",
    "- scope (global, local)\n",
    "- inner function (익명함수)\n",
    "- lambda function\n",
    "- map, filter, reduce\n",
    "- decolator"
   ]
  },
  {
   "cell_type": "markdown",
   "metadata": {},
   "source": [
    "##### 선언과 호출\n",
    "```\n",
    "# 선언\n",
    "def <function_name>():\n",
    "    <code>\n",
    "```\n",
    "```\n",
    "# 호출\n",
    "<function_name>()\n",
    "```\n"
   ]
  },
  {
   "cell_type": "code",
   "execution_count": 1,
   "metadata": {},
   "outputs": [],
   "source": [
    "def sum_func(a, b):\n",
    "    print(a + b)"
   ]
  },
  {
   "cell_type": "code",
   "execution_count": 2,
   "metadata": {},
   "outputs": [
    {
     "name": "stdout",
     "output_type": "stream",
     "text": [
      "3\n"
     ]
    }
   ],
   "source": [
    "sum_func(1, 2)"
   ]
  },
  {
   "cell_type": "code",
   "execution_count": 3,
   "metadata": {},
   "outputs": [
    {
     "data": {
      "text/plain": [
       "function"
      ]
     },
     "execution_count": 3,
     "metadata": {},
     "output_type": "execute_result"
    }
   ],
   "source": [
    "type(sum_func)"
   ]
  },
  {
   "cell_type": "markdown",
   "metadata": {},
   "source": [
    "##### Parameter, Argument"
   ]
  },
  {
   "cell_type": "code",
   "execution_count": 9,
   "metadata": {},
   "outputs": [],
   "source": [
    "def sum_func(a, b): # a, b : parameter\n",
    "    print(a + b)"
   ]
  },
  {
   "cell_type": "code",
   "execution_count": 10,
   "metadata": {},
   "outputs": [
    {
     "name": "stdout",
     "output_type": "stream",
     "text": [
      "3\n"
     ]
    }
   ],
   "source": [
    "sum_func(1, 2) # 1, 2 : argument"
   ]
  },
  {
   "cell_type": "code",
   "execution_count": null,
   "metadata": {},
   "outputs": [],
   "source": [
    "print(\"{num1}, {num2}\".format(num2=1, num1=2))"
   ]
  },
  {
   "cell_type": "code",
   "execution_count": 11,
   "metadata": {},
   "outputs": [],
   "source": [
    "def div_func(a, b):\n",
    "    print(a / b)"
   ]
  },
  {
   "cell_type": "code",
   "execution_count": 13,
   "metadata": {},
   "outputs": [
    {
     "name": "stdout",
     "output_type": "stream",
     "text": [
      "0.2\n"
     ]
    }
   ],
   "source": [
    "# keyword argument\n",
    "div_func(b=10, a=2)"
   ]
  },
  {
   "cell_type": "code",
   "execution_count": 15,
   "metadata": {},
   "outputs": [
    {
     "name": "stdout",
     "output_type": "stream",
     "text": [
      "dss\tdss8\n"
     ]
    }
   ],
   "source": [
    "# default parameter\n",
    "print(\"dss\", end=\"\\t\")\n",
    "print(\"dss8\")"
   ]
  },
  {
   "cell_type": "code",
   "execution_count": 18,
   "metadata": {},
   "outputs": [],
   "source": [
    "def sum_func(a, b=0):\n",
    "    print(a + b)"
   ]
  },
  {
   "cell_type": "code",
   "execution_count": 20,
   "metadata": {},
   "outputs": [
    {
     "name": "stdout",
     "output_type": "stream",
     "text": [
      "2\n"
     ]
    }
   ],
   "source": [
    "sum_func(2)"
   ]
  },
  {
   "cell_type": "code",
   "execution_count": 21,
   "metadata": {},
   "outputs": [
    {
     "name": "stdout",
     "output_type": "stream",
     "text": [
      "5\n"
     ]
    }
   ],
   "source": [
    "sum_func(2, 3)"
   ]
  },
  {
   "cell_type": "code",
   "execution_count": 25,
   "metadata": {},
   "outputs": [],
   "source": [
    "def sum_func(a, b, c=1, d=3):\n",
    "    print(a + b)"
   ]
  },
  {
   "cell_type": "code",
   "execution_count": 24,
   "metadata": {},
   "outputs": [],
   "source": [
    "sum_func(1)"
   ]
  },
  {
   "cell_type": "code",
   "execution_count": 22,
   "metadata": {},
   "outputs": [],
   "source": [
    "def sum_func(a, b=0):\n",
    "    if b == 0:\n",
    "        code1\n",
    "    else:\n",
    "        code2"
   ]
  },
  {
   "cell_type": "code",
   "execution_count": null,
   "metadata": {},
   "outputs": [],
   "source": [
    "sum_func(1,2)"
   ]
  },
  {
   "cell_type": "markdown",
   "metadata": {},
   "source": [
    "##### return\n",
    "- 함수를 호출했을때 결과를 반환하는 용도로 사용합니다."
   ]
  },
  {
   "cell_type": "code",
   "execution_count": 28,
   "metadata": {},
   "outputs": [
    {
     "data": {
      "text/plain": [
       "3"
      ]
     },
     "execution_count": 28,
     "metadata": {},
     "output_type": "execute_result"
    }
   ],
   "source": [
    "def sum_func(a, b):\n",
    "    return a + b\n",
    "\n",
    "result = sum_func(1, 2)\n",
    "result"
   ]
  },
  {
   "cell_type": "markdown",
   "metadata": {},
   "source": [
    "##### `*args`, `**kwargs` \n",
    "- parameter로 사용\n",
    "- 함수를 만들고, 호출할때 아규먼트나 파라미터의 갯수에 구애받지 않고 싶을때 사용합니다.\n",
    "- `*` : 전부, 모두, All\n",
    "- `*args` : keyword가 없는 아규먼트를 파라미터로 받을때 사용\n",
    "- `*kwargs` : keyword가 있는 아규먼트를 파라미터로 받을때 사용"
   ]
  },
  {
   "cell_type": "code",
   "execution_count": 33,
   "metadata": {},
   "outputs": [
    {
     "name": "stdout",
     "output_type": "stream",
     "text": [
      "(1, 2, 3)\n",
      "<class 'tuple'>\n",
      "3\n"
     ]
    }
   ],
   "source": [
    "# *args\n",
    "def sum_func(*args):\n",
    "    print(args)\n",
    "    print(type(args))\n",
    "    print(args[2])\n",
    "    \n",
    "sum_func(1, 2, 3)"
   ]
  },
  {
   "cell_type": "code",
   "execution_count": 35,
   "metadata": {},
   "outputs": [
    {
     "name": "stdout",
     "output_type": "stream",
     "text": [
      "{'math': 90, 'science': 70}\n",
      "<class 'dict'>\n",
      "90\n"
     ]
    }
   ],
   "source": [
    "# **kwargs\n",
    "def points(**kwargs):\n",
    "    print(kwargs)\n",
    "    print(type(kwargs))\n",
    "    print(kwargs[\"math\"])\n",
    "    \n",
    "points(math=90, science=70)"
   ]
  },
  {
   "cell_type": "code",
   "execution_count": 36,
   "metadata": {},
   "outputs": [
    {
     "name": "stdout",
     "output_type": "stream",
     "text": [
      "(1, 2, 3)\n",
      "{'num1': 10, 'num2': 20}\n"
     ]
    }
   ],
   "source": [
    "# *args, **kwargs\n",
    "def dss(*args, **kwargs):\n",
    "    print(args)\n",
    "    print(kwargs)\n",
    "\n",
    "dss(1, 2, 3, num1=10, num2=20)"
   ]
  },
  {
   "cell_type": "code",
   "execution_count": 48,
   "metadata": {},
   "outputs": [
    {
     "name": "stdout",
     "output_type": "stream",
     "text": [
      "<class 'tuple'>\n"
     ]
    }
   ],
   "source": [
    "def dss(*args):\n",
    "    print(type(args))\n",
    "\n",
    "ls = [1,2,3,4]\n",
    "dss(*ls)"
   ]
  },
  {
   "cell_type": "markdown",
   "metadata": {},
   "source": [
    "##### docstring\n",
    "- 함수에 대한 설명을 넣는것 입니다.\n",
    "```\n",
    "def dss():\n",
    "\n",
    "    \"description\"\n",
    "    \n",
    "    \"\"\"\n",
    "    description_1\n",
    "    description_2\n",
    "    \"\"\"\n",
    "```\n",
    "- PEP 20 : The Zen of Python \n",
    "    - realablity counts : 가독성은 중요하다.\n",
    "- PEP 8 : Style Guide for Python Code"
   ]
  },
  {
   "cell_type": "code",
   "execution_count": 42,
   "metadata": {},
   "outputs": [
    {
     "name": "stdout",
     "output_type": "stream",
     "text": [
      "The Zen of Python, by Tim Peters\n",
      "\n",
      "Beautiful is better than ugly.\n",
      "Explicit is better than implicit.\n",
      "Simple is better than complex.\n",
      "Complex is better than complicated.\n",
      "Flat is better than nested.\n",
      "Sparse is better than dense.\n",
      "Readability counts.\n",
      "Special cases aren't special enough to break the rules.\n",
      "Although practicality beats purity.\n",
      "Errors should never pass silently.\n",
      "Unless explicitly silenced.\n",
      "In the face of ambiguity, refuse the temptation to guess.\n",
      "There should be one-- and preferably only one --obvious way to do it.\n",
      "Although that way may not be obvious at first unless you're Dutch.\n",
      "Now is better than never.\n",
      "Although never is often better than *right* now.\n",
      "If the implementation is hard to explain, it's a bad idea.\n",
      "If the implementation is easy to explain, it may be a good idea.\n",
      "Namespaces are one honking great idea -- let's do more of those!\n"
     ]
    }
   ],
   "source": [
    "import this"
   ]
  },
  {
   "cell_type": "code",
   "execution_count": 52,
   "metadata": {},
   "outputs": [],
   "source": [
    "def echo(anything):\n",
    "    \"echo return it's input argument\"\n",
    "    return anything"
   ]
  },
  {
   "cell_type": "code",
   "execution_count": 53,
   "metadata": {},
   "outputs": [],
   "source": [
    "echo?"
   ]
  },
  {
   "cell_type": "code",
   "execution_count": 54,
   "metadata": {},
   "outputs": [],
   "source": [
    "echo??"
   ]
  },
  {
   "cell_type": "code",
   "execution_count": 55,
   "metadata": {},
   "outputs": [],
   "source": [
    "def echo(anything):\n",
    "    \"\"\"\n",
    "    echo return it's input argument\n",
    "    The option is:\n",
    "        1. print anything\n",
    "        2. return anything\n",
    "    \"\"\"\n",
    "    return anything"
   ]
  },
  {
   "cell_type": "code",
   "execution_count": 57,
   "metadata": {},
   "outputs": [
    {
     "name": "stdout",
     "output_type": "stream",
     "text": [
      "Help on function echo in module __main__:\n",
      "\n",
      "echo(anything)\n",
      "    echo return it's input argument\n",
      "    The option is:\n",
      "        1. print anything\n",
      "        2. return anything\n",
      "\n"
     ]
    }
   ],
   "source": [
    "help(echo)"
   ]
  },
  {
   "cell_type": "code",
   "execution_count": 58,
   "metadata": {},
   "outputs": [],
   "source": [
    "print?"
   ]
  },
  {
   "cell_type": "code",
   "execution_count": null,
   "metadata": {},
   "outputs": [],
   "source": [
    "np.sum"
   ]
  },
  {
   "cell_type": "markdown",
   "metadata": {},
   "source": [
    "##### scope\n",
    "- global, local"
   ]
  },
  {
   "cell_type": "code",
   "execution_count": 59,
   "metadata": {},
   "outputs": [
    {
     "name": "stdout",
     "output_type": "stream",
     "text": [
      "10\n"
     ]
    }
   ],
   "source": [
    "gv = 10\n",
    "def print_gv():\n",
    "    print(gv)\n",
    "print_gv()"
   ]
  },
  {
   "cell_type": "code",
   "execution_count": 60,
   "metadata": {},
   "outputs": [
    {
     "name": "stdout",
     "output_type": "stream",
     "text": [
      "100\n"
     ]
    }
   ],
   "source": [
    "gv = 10\n",
    "def print_gv():\n",
    "    gv = 100\n",
    "    print(gv)\n",
    "print_gv()"
   ]
  },
  {
   "cell_type": "code",
   "execution_count": 61,
   "metadata": {},
   "outputs": [
    {
     "data": {
      "text/plain": [
       "10"
      ]
     },
     "execution_count": 61,
     "metadata": {},
     "output_type": "execute_result"
    }
   ],
   "source": [
    "gv"
   ]
  },
  {
   "cell_type": "code",
   "execution_count": 8,
   "metadata": {},
   "outputs": [],
   "source": [
    "# locals\n",
    "gv = 10\n",
    "def print_gv():\n",
    "    gv = 100\n",
    "    gv2 = 200\n",
    "    print(locals())"
   ]
  },
  {
   "cell_type": "code",
   "execution_count": 9,
   "metadata": {},
   "outputs": [
    {
     "name": "stdout",
     "output_type": "stream",
     "text": [
      "{'gv2': 200, 'gv': 100}\n"
     ]
    }
   ],
   "source": [
    "print_gv()"
   ]
  },
  {
   "cell_type": "code",
   "execution_count": 3,
   "metadata": {},
   "outputs": [
    {
     "name": "stdout",
     "output_type": "stream",
     "text": [
      "{'__name__': '__main__', '__doc__': 'Automatically created module for IPython interactive environment', '__package__': None, '__loader__': None, '__spec__': None, '__builtin__': <module 'builtins' (built-in)>, '__builtins__': <module 'builtins' (built-in)>, '_ih': ['', 'gv = 10\\ndef print_gv():\\n    gv = 100\\n    print(gv)', '# globals()\\nglobals()', '# globals()\\nprint(globals())'], '_oh': {2: {...}}, '_dh': ['/Users/rada/Documents/fastcampus/dss8/01_python/A'], 'In': ['', 'gv = 10\\ndef print_gv():\\n    gv = 100\\n    print(gv)', '# globals()\\nglobals()', '# globals()\\nprint(globals())'], 'Out': {2: {...}}, 'get_ipython': <bound method InteractiveShell.get_ipython of <ipykernel.zmqshell.ZMQInteractiveShell object at 0x1060c0cc0>>, 'exit': <IPython.core.autocall.ZMQExitAutocall object at 0x1061214a8>, 'quit': <IPython.core.autocall.ZMQExitAutocall object at 0x1061214a8>, '_': {...}, '__': '', '___': '', 'np': <module 'numpy' from '/usr/local/Cellar/python3/3.6.4_2/Frameworks/Python.framework/Versions/3.6/lib/python3.6/site-packages/numpy/__init__.py'>, 'pd': <module 'pandas' from '/usr/local/Cellar/python3/3.6.4_2/Frameworks/Python.framework/Versions/3.6/lib/python3.6/site-packages/pandas/__init__.py'>, 'mpl': <module 'matplotlib' from '/usr/local/Cellar/python3/3.6.4_2/Frameworks/Python.framework/Versions/3.6/lib/python3.6/site-packages/matplotlib/__init__.py'>, 'plt': <module 'matplotlib.pyplot' from '/usr/local/Cellar/python3/3.6.4_2/Frameworks/Python.framework/Versions/3.6/lib/python3.6/site-packages/matplotlib/pyplot.py'>, 'sns': <module 'seaborn' from '/usr/local/Cellar/python3/3.6.4_2/Frameworks/Python.framework/Versions/3.6/lib/python3.6/site-packages/seaborn/__init__.py'>, 'time': <module 'time' (built-in)>, 'pickle': <module 'pickle' from '/usr/local/Cellar/python3/3.6.4_2/Frameworks/Python.framework/Versions/3.6/lib/python3.6/pickle.py'>, 'webdriver': <module 'selenium.webdriver' from '/usr/local/Cellar/python3/3.6.4_2/Frameworks/Python.framework/Versions/3.6/lib/python3.6/site-packages/selenium/webdriver/__init__.py'>, '_i': '# globals()\\nglobals()', '_ii': 'gv = 10\\ndef print_gv():\\n    gv = 100\\n    print(gv)', '_iii': '', '_i1': 'gv = 10\\ndef print_gv():\\n    gv = 100\\n    print(gv)', 'gv': 10, 'print_gv': <function print_gv at 0x10b4980d0>, '_i2': '# globals()\\nglobals()', '_2': {...}, '_i3': '# globals()\\nprint(globals())'}\n"
     ]
    }
   ],
   "source": [
    "# globals()\n",
    "print(globals())"
   ]
  },
  {
   "cell_type": "code",
   "execution_count": 5,
   "metadata": {},
   "outputs": [
    {
     "data": {
      "text/plain": [
       "(dict, 10)"
      ]
     },
     "execution_count": 5,
     "metadata": {},
     "output_type": "execute_result"
    }
   ],
   "source": [
    "type(globals()), globals()[\"gv\"]"
   ]
  },
  {
   "cell_type": "code",
   "execution_count": 10,
   "metadata": {},
   "outputs": [
    {
     "name": "stdout",
     "output_type": "stream",
     "text": [
      "{'__name__': '__main__', '__doc__': 'Automatically created module for IPython interactive environment', '__package__': None, '__loader__': None, '__spec__': None, '__builtin__': <module 'builtins' (built-in)>, '__builtins__': <module 'builtins' (built-in)>, '_ih': ['', 'gv = 10\\ndef print_gv():\\n    gv = 100\\n    print(gv)', '# globals()\\nglobals()', '# globals()\\nprint(globals())', 'type(globals())', 'type(globals()), globals()[\"gv\"]', '# locals\\ngv = 10\\ndef print_gv():\\n    gv = 100\\n    print(locals())', 'print_gv()', '# locals\\ngv = 10\\ndef print_gv():\\n    gv = 100\\n    gv2 = 200\\n    print(locals())', 'print_gv()', 'print(locals())'], '_oh': {2: {...}, 4: <class 'dict'>, 5: (<class 'dict'>, 10)}, '_dh': ['/Users/rada/Documents/fastcampus/dss8/01_python/A'], 'In': ['', 'gv = 10\\ndef print_gv():\\n    gv = 100\\n    print(gv)', '# globals()\\nglobals()', '# globals()\\nprint(globals())', 'type(globals())', 'type(globals()), globals()[\"gv\"]', '# locals\\ngv = 10\\ndef print_gv():\\n    gv = 100\\n    print(locals())', 'print_gv()', '# locals\\ngv = 10\\ndef print_gv():\\n    gv = 100\\n    gv2 = 200\\n    print(locals())', 'print_gv()', 'print(locals())'], 'Out': {2: {...}, 4: <class 'dict'>, 5: (<class 'dict'>, 10)}, 'get_ipython': <bound method InteractiveShell.get_ipython of <ipykernel.zmqshell.ZMQInteractiveShell object at 0x1060c0cc0>>, 'exit': <IPython.core.autocall.ZMQExitAutocall object at 0x1061214a8>, 'quit': <IPython.core.autocall.ZMQExitAutocall object at 0x1061214a8>, '_': (<class 'dict'>, 10), '__': <class 'dict'>, '___': {...}, 'np': <module 'numpy' from '/usr/local/Cellar/python3/3.6.4_2/Frameworks/Python.framework/Versions/3.6/lib/python3.6/site-packages/numpy/__init__.py'>, 'pd': <module 'pandas' from '/usr/local/Cellar/python3/3.6.4_2/Frameworks/Python.framework/Versions/3.6/lib/python3.6/site-packages/pandas/__init__.py'>, 'mpl': <module 'matplotlib' from '/usr/local/Cellar/python3/3.6.4_2/Frameworks/Python.framework/Versions/3.6/lib/python3.6/site-packages/matplotlib/__init__.py'>, 'plt': <module 'matplotlib.pyplot' from '/usr/local/Cellar/python3/3.6.4_2/Frameworks/Python.framework/Versions/3.6/lib/python3.6/site-packages/matplotlib/pyplot.py'>, 'sns': <module 'seaborn' from '/usr/local/Cellar/python3/3.6.4_2/Frameworks/Python.framework/Versions/3.6/lib/python3.6/site-packages/seaborn/__init__.py'>, 'time': <module 'time' (built-in)>, 'pickle': <module 'pickle' from '/usr/local/Cellar/python3/3.6.4_2/Frameworks/Python.framework/Versions/3.6/lib/python3.6/pickle.py'>, 'webdriver': <module 'selenium.webdriver' from '/usr/local/Cellar/python3/3.6.4_2/Frameworks/Python.framework/Versions/3.6/lib/python3.6/site-packages/selenium/webdriver/__init__.py'>, '_i': 'print_gv()', '_ii': '# locals\\ngv = 10\\ndef print_gv():\\n    gv = 100\\n    gv2 = 200\\n    print(locals())', '_iii': 'print_gv()', '_i1': 'gv = 10\\ndef print_gv():\\n    gv = 100\\n    print(gv)', 'gv': 10, 'print_gv': <function print_gv at 0x10b4eb840>, '_i2': '# globals()\\nglobals()', '_2': {...}, '_i3': '# globals()\\nprint(globals())', '_i4': 'type(globals())', '_4': <class 'dict'>, '_i5': 'type(globals()), globals()[\"gv\"]', '_5': (<class 'dict'>, 10), '_i6': '# locals\\ngv = 10\\ndef print_gv():\\n    gv = 100\\n    print(locals())', '_i7': 'print_gv()', '_i8': '# locals\\ngv = 10\\ndef print_gv():\\n    gv = 100\\n    gv2 = 200\\n    print(locals())', '_i9': 'print_gv()', '_i10': 'print(locals())'}\n"
     ]
    }
   ],
   "source": [
    "print(locals())"
   ]
  },
  {
   "cell_type": "code",
   "execution_count": 11,
   "metadata": {},
   "outputs": [],
   "source": [
    "gv = 10\n",
    "def dss():\n",
    "    global gv\n",
    "    gv = 100\n",
    "    print(gv)"
   ]
  },
  {
   "cell_type": "code",
   "execution_count": 12,
   "metadata": {},
   "outputs": [
    {
     "data": {
      "text/plain": [
       "10"
      ]
     },
     "execution_count": 12,
     "metadata": {},
     "output_type": "execute_result"
    }
   ],
   "source": [
    "gv"
   ]
  },
  {
   "cell_type": "code",
   "execution_count": 13,
   "metadata": {},
   "outputs": [
    {
     "name": "stdout",
     "output_type": "stream",
     "text": [
      "100\n"
     ]
    }
   ],
   "source": [
    "dss()"
   ]
  },
  {
   "cell_type": "code",
   "execution_count": 14,
   "metadata": {},
   "outputs": [
    {
     "data": {
      "text/plain": [
       "100"
      ]
     },
     "execution_count": 14,
     "metadata": {},
     "output_type": "execute_result"
    }
   ],
   "source": [
    "gv"
   ]
  },
  {
   "cell_type": "markdown",
   "metadata": {},
   "source": [
    "##### inner function\n",
    "- global : 전역변수, 전역함수\n",
    "- local : 지역변수, 지역함수\n",
    "- 지역함수 local function (익명함수)\n",
    "- 로컬영역에 함수를 숨겨서 글로벌영역에서 사용할수 없도록 합니다."
   ]
  },
  {
   "cell_type": "code",
   "execution_count": 18,
   "metadata": {},
   "outputs": [],
   "source": [
    "def outer(a, b):\n",
    "    def inner(c, d):\n",
    "        return c + d\n",
    "    return inner\n",
    "\n",
    "i = outer(1, 2)"
   ]
  },
  {
   "cell_type": "code",
   "execution_count": 20,
   "metadata": {},
   "outputs": [
    {
     "data": {
      "text/plain": [
       "3"
      ]
     },
     "execution_count": 20,
     "metadata": {},
     "output_type": "execute_result"
    }
   ],
   "source": [
    "i(1, 2)"
   ]
  },
  {
   "cell_type": "code",
   "execution_count": 17,
   "metadata": {},
   "outputs": [
    {
     "ename": "NameError",
     "evalue": "name 'inner' is not defined",
     "output_type": "error",
     "traceback": [
      "\u001b[0;31m---------------------------------------------------------------------------\u001b[0m",
      "\u001b[0;31mNameError\u001b[0m                                 Traceback (most recent call last)",
      "\u001b[0;32m<ipython-input-17-05766c987c36>\u001b[0m in \u001b[0;36m<module>\u001b[0;34m()\u001b[0m\n\u001b[0;32m----> 1\u001b[0;31m \u001b[0minner\u001b[0m\u001b[0;34m(\u001b[0m\u001b[0;36m1\u001b[0m\u001b[0;34m,\u001b[0m\u001b[0;36m2\u001b[0m\u001b[0;34m)\u001b[0m\u001b[0;34m\u001b[0m\u001b[0m\n\u001b[0m",
      "\u001b[0;31mNameError\u001b[0m: name 'inner' is not defined"
     ]
    }
   ],
   "source": [
    "inner(1,2)"
   ]
  },
  {
   "cell_type": "markdown",
   "metadata": {},
   "source": [
    "##### lambda function\n",
    "- 간단한 파라미터를 받아서 리턴해주는 함수를 람다함수를 이용해서 간단하게 만들어 줄수 있습니다.\n",
    "- `lambda <parameters> : <return_value>`"
   ]
  },
  {
   "cell_type": "code",
   "execution_count": 21,
   "metadata": {},
   "outputs": [
    {
     "data": {
      "text/plain": [
       "3"
      ]
     },
     "execution_count": 21,
     "metadata": {},
     "output_type": "execute_result"
    }
   ],
   "source": [
    "def sum_func(a, b):\n",
    "    return a + b\n",
    "sum_func(1,2)"
   ]
  },
  {
   "cell_type": "code",
   "execution_count": 22,
   "metadata": {},
   "outputs": [
    {
     "data": {
      "text/plain": [
       "3"
      ]
     },
     "execution_count": 22,
     "metadata": {},
     "output_type": "execute_result"
    }
   ],
   "source": [
    "sum_func2 = lambda a, b : a + b\n",
    "sum_func2(1, 2)"
   ]
  },
  {
   "cell_type": "code",
   "execution_count": 23,
   "metadata": {},
   "outputs": [
    {
     "data": {
      "text/plain": [
       "function"
      ]
     },
     "execution_count": 23,
     "metadata": {},
     "output_type": "execute_result"
    }
   ],
   "source": [
    "type(sum_func2)"
   ]
  },
  {
   "cell_type": "code",
   "execution_count": 24,
   "metadata": {},
   "outputs": [],
   "source": [
    "def calc(fn, a, b):\n",
    "    return fn(a, b)"
   ]
  },
  {
   "cell_type": "code",
   "execution_count": 26,
   "metadata": {},
   "outputs": [
    {
     "data": {
      "text/plain": [
       "-1"
      ]
     },
     "execution_count": 26,
     "metadata": {},
     "output_type": "execute_result"
    }
   ],
   "source": [
    "def sum_func(a, b):\n",
    "    return a + b\n",
    "\n",
    "def minus_func(a, b):\n",
    "    return a - b\n",
    "\n",
    "calc(minus_func, 1, 2)"
   ]
  },
  {
   "cell_type": "code",
   "execution_count": 28,
   "metadata": {},
   "outputs": [
    {
     "data": {
      "text/plain": [
       "-1"
      ]
     },
     "execution_count": 28,
     "metadata": {},
     "output_type": "execute_result"
    }
   ],
   "source": [
    "calc(lambda a, b : a - b, 1, 2)"
   ]
  },
  {
   "cell_type": "markdown",
   "metadata": {},
   "source": [
    "##### Map, Filter, Reduce"
   ]
  },
  {
   "cell_type": "markdown",
   "metadata": {},
   "source": [
    "##### Map\n",
    "- 함수와 리스트를 입력받아서 각 요소에 함수를 적용한 결과를 리스트로 리턴해주는 함수 입니다.\n",
    "- `map(function, *list)`"
   ]
  },
  {
   "cell_type": "code",
   "execution_count": 1,
   "metadata": {},
   "outputs": [
    {
     "data": {
      "text/plain": [
       "[0, 1, 2, 3, 4]"
      ]
     },
     "execution_count": 1,
     "metadata": {},
     "output_type": "execute_result"
    }
   ],
   "source": [
    "ls = [1,2,3,4,5]\n",
    "\n",
    "def minus_one(num):\n",
    "    return num - 1\n",
    "\n",
    "result = []\n",
    "for value in ls:\n",
    "    result.append(minus_one(value))\n",
    "\n",
    "result"
   ]
  },
  {
   "cell_type": "code",
   "execution_count": 2,
   "metadata": {},
   "outputs": [
    {
     "data": {
      "text/plain": [
       "[0, 1, 2, 3, 4]"
      ]
     },
     "execution_count": 2,
     "metadata": {},
     "output_type": "execute_result"
    }
   ],
   "source": [
    "result = list(map(minus_one, ls))\n",
    "result"
   ]
  },
  {
   "cell_type": "code",
   "execution_count": 3,
   "metadata": {},
   "outputs": [
    {
     "data": {
      "text/plain": [
       "[0, 1, 2, 3, 4]"
      ]
     },
     "execution_count": 3,
     "metadata": {},
     "output_type": "execute_result"
    }
   ],
   "source": [
    "result = list(map(lambda num : num - 1, ls))\n",
    "result"
   ]
  },
  {
   "cell_type": "code",
   "execution_count": 4,
   "metadata": {},
   "outputs": [
    {
     "data": {
      "text/plain": [
       "[6, 8, 10, 12]"
      ]
     },
     "execution_count": 4,
     "metadata": {},
     "output_type": "execute_result"
    }
   ],
   "source": [
    "ls1 = [1,2,3,4]\n",
    "ls2 = [5,6,7,8]\n",
    "\n",
    "result = list(map(lambda num1, num2 : num1 + num2, ls1, ls2))\n",
    "result"
   ]
  },
  {
   "cell_type": "code",
   "execution_count": 5,
   "metadata": {},
   "outputs": [
    {
     "data": {
      "text/plain": [
       "['kim', 'park', 'lee', 'jung']"
      ]
     },
     "execution_count": 5,
     "metadata": {},
     "output_type": "execute_result"
    }
   ],
   "source": [
    "# 퀴즈 1 - 이름 리스트에서 map을 이용하여 성만 리스트 결과 출력하는 코드를 작성하세요.\n",
    "names = [\"kim dss\", \"park python\", \"lee science\", \"jung school\"]\n",
    "result = list(map(lambda name : name.split(\" \")[0], names))\n",
    "result"
   ]
  },
  {
   "cell_type": "code",
   "execution_count": 9,
   "metadata": {},
   "outputs": [
    {
     "name": "stdout",
     "output_type": "stream",
     "text": [
      "{1: 'odd', 2: 'even', 3: 'odd', 4: 'even', 5: 'odd', 6: 'even', 7: 'odd', 8: 'even', 9: 'odd', 10: 'even'}\n"
     ]
    }
   ],
   "source": [
    "# 퀴즈 2 - 1 ~ 10까지의 숫자 리스트에서 홀수는 odd, 짝수는 even을 출력하고\n",
    "# key, value 형태의 dict 데이터 타입으로 출력하는 코드를 작성하세요\n",
    "number_list = list(range(1,11))\n",
    "\n",
    "result = list(map(lambda num : \"even\" if num % 2 == 0 else \"odd\", number_list))\n",
    "result = dict(zip(number_list, result))\n",
    "\n",
    "print(result)\n",
    "# {1:'odd', 2:'even', 3:'odd', 4:'even' ...}"
   ]
  },
  {
   "cell_type": "code",
   "execution_count": 17,
   "metadata": {},
   "outputs": [
    {
     "data": {
      "text/plain": [
       "[6, 8, 10]"
      ]
     },
     "execution_count": 17,
     "metadata": {},
     "output_type": "execute_result"
    }
   ],
   "source": [
    "# 퀴즈 3 - map 함수를 구현\n",
    "ls1, ls2, ls3 = [1,2,3], [5,6,7], [9,10,11]\n",
    "\n",
    "def sum_func(*args):\n",
    "    return sum(args)\n",
    "\n",
    "def map_func(func, *args):\n",
    "    result = []\n",
    "    # TODO\n",
    "    values_count = len(args[0]) # 4\n",
    "    params_count = len(args) # 3\n",
    "    \n",
    "    for idx_1 in range(values_count):\n",
    "        params = []\n",
    "        for idx_2 in range(params_count):\n",
    "            params.append(args[idx_2][idx_1])\n",
    "        result.append(func(*params))\n",
    "            \n",
    "    return result\n",
    "\n",
    "map_func(sum_func, ls1, ls2)\n",
    "# result - [15, 18, 21, 24]"
   ]
  },
  {
   "cell_type": "code",
   "execution_count": 14,
   "metadata": {},
   "outputs": [
    {
     "ename": "TypeError",
     "evalue": "unsupported operand type(s) for +: 'int' and 'list'",
     "output_type": "error",
     "traceback": [
      "\u001b[0;31m---------------------------------------------------------------------------\u001b[0m",
      "\u001b[0;31mTypeError\u001b[0m                                 Traceback (most recent call last)",
      "\u001b[0;32m<ipython-input-14-3a70491638a8>\u001b[0m in \u001b[0;36m<module>\u001b[0;34m()\u001b[0m\n\u001b[0;32m----> 1\u001b[0;31m \u001b[0msum_func\u001b[0m\u001b[0;34m(\u001b[0m\u001b[0mls1\u001b[0m\u001b[0;34m,\u001b[0m \u001b[0mls2\u001b[0m\u001b[0;34m,\u001b[0m \u001b[0mls3\u001b[0m\u001b[0;34m)\u001b[0m\u001b[0;34m\u001b[0m\u001b[0m\n\u001b[0m",
      "\u001b[0;32m<ipython-input-13-9beab4263dda>\u001b[0m in \u001b[0;36msum_func\u001b[0;34m(*args)\u001b[0m\n\u001b[1;32m      3\u001b[0m \u001b[0;34m\u001b[0m\u001b[0m\n\u001b[1;32m      4\u001b[0m \u001b[0;32mdef\u001b[0m \u001b[0msum_func\u001b[0m\u001b[0;34m(\u001b[0m\u001b[0;34m*\u001b[0m\u001b[0margs\u001b[0m\u001b[0;34m)\u001b[0m\u001b[0;34m:\u001b[0m\u001b[0;34m\u001b[0m\u001b[0m\n\u001b[0;32m----> 5\u001b[0;31m     \u001b[0;32mreturn\u001b[0m \u001b[0msum\u001b[0m\u001b[0;34m(\u001b[0m\u001b[0margs\u001b[0m\u001b[0;34m)\u001b[0m\u001b[0;34m\u001b[0m\u001b[0m\n\u001b[0m\u001b[1;32m      6\u001b[0m \u001b[0;34m\u001b[0m\u001b[0m\n\u001b[1;32m      7\u001b[0m \u001b[0;32mdef\u001b[0m \u001b[0mmap_func\u001b[0m\u001b[0;34m(\u001b[0m\u001b[0mfunc\u001b[0m\u001b[0;34m,\u001b[0m \u001b[0;34m*\u001b[0m\u001b[0margs\u001b[0m\u001b[0;34m)\u001b[0m\u001b[0;34m:\u001b[0m\u001b[0;34m\u001b[0m\u001b[0m\n",
      "\u001b[0;31mTypeError\u001b[0m: unsupported operand type(s) for +: 'int' and 'list'"
     ]
    }
   ],
   "source": [
    "sum_func(ls1, ls2, ls3)"
   ]
  },
  {
   "cell_type": "code",
   "execution_count": null,
   "metadata": {},
   "outputs": [],
   "source": [
    "ls = [1,2,3]\n",
    "func([1,2,3])\n",
    "func(1,2,3)\n",
    "func(*ls)"
   ]
  },
  {
   "cell_type": "markdown",
   "metadata": {},
   "source": [
    "##### Filter\n",
    "- 리스트 데이터에서 조건 맞는 value 데이터를 필터링 해주는 함수 입니다.\n",
    "- 사용되는 함수의 결과 값은 항상 True 아니면 False 가 되어야 합니다.\n",
    "- `filter(<function>, <list(iterable)>)`"
   ]
  },
  {
   "cell_type": "code",
   "execution_count": 18,
   "metadata": {},
   "outputs": [
    {
     "data": {
      "text/plain": [
       "[1, 3, 5]"
      ]
     },
     "execution_count": 18,
     "metadata": {},
     "output_type": "execute_result"
    }
   ],
   "source": [
    "ls = [1,2,3,4,5]\n",
    "result = list(filter(lambda num : True if num % 2 == 1 else False, ls))\n",
    "result"
   ]
  },
  {
   "cell_type": "code",
   "execution_count": 23,
   "metadata": {},
   "outputs": [
    {
     "data": {
      "text/plain": [
       "['Lee science', 'Lee java']"
      ]
     },
     "execution_count": 23,
     "metadata": {},
     "output_type": "execute_result"
    }
   ],
   "source": [
    "# 퀴즈 - filter를 이용해서 사람 이름의 성이 lee인 사람의 이름만 결과로 출력하는 코드를 작성 하세요.\n",
    "names = [\"kim dss\", \"Park python\", \"lee science\", \"jung school\", \"Lee java\"]\n",
    "\n",
    "names = list(map(lambda name : name[:1].upper() + name[1:] , names))\n",
    "result = list(filter(lambda name : name.split(\" \")[0] == \"Lee\", names))\n",
    "\n",
    "result\n",
    "# result - [\"Lee science\", \"Lee java\"]"
   ]
  },
  {
   "cell_type": "code",
   "execution_count": 24,
   "metadata": {},
   "outputs": [
    {
     "data": {
      "text/plain": [
       "([1, 3, 5, 7, 9], [2, 4, 6, 8, 10])"
      ]
     },
     "execution_count": 24,
     "metadata": {},
     "output_type": "execute_result"
    }
   ],
   "source": [
    "# 퀴즈 2 - 1~10 까지 숫자중에 짝수를 필터링하는 함수와 홀수를 필터링하는 함수를 적용하여 filter 코드를 구현하세요.\n",
    "ls = list(range(1,11))\n",
    "\n",
    "def odd(number):\n",
    "    return number % 2 == 1\n",
    "\n",
    "def even(number):\n",
    "    return number % 2 == 0\n",
    "\n",
    "is_odd_even = {\n",
    "    \"odd\":odd,\n",
    "    \"even\":even,\n",
    "}\n",
    "\n",
    "def filter_func(func, data_list):\n",
    "    result = []\n",
    "    # TODO\n",
    "    for data in data_list:\n",
    "        if func(data):\n",
    "            result.append(data)\n",
    "            \n",
    "    return result\n",
    "\n",
    "result_1 = list(filter_func(is_odd_even[\"odd\"], ls))\n",
    "result_2 = list(filter_func(is_odd_even[\"even\"], ls))\n",
    "result_1, result_2"
   ]
  },
  {
   "cell_type": "markdown",
   "metadata": {},
   "source": [
    "##### Reduce\n",
    "- 리스트 데이터를 처음 부터 순서대로 함수로 실행하여\n",
    "- 실행결과를 다시 함수의 파라미터로 넣어 함수를 실행해서 결국엔 하나의 값이 리턴되는 함수입니다.\n",
    "- `reduce(<function>, <list>)`"
   ]
  },
  {
   "cell_type": "code",
   "execution_count": 26,
   "metadata": {},
   "outputs": [
    {
     "data": {
      "text/plain": [
       "15"
      ]
     },
     "execution_count": 26,
     "metadata": {},
     "output_type": "execute_result"
    }
   ],
   "source": [
    "from functools import reduce\n",
    "\n",
    "ls = [1,2,3,4,5]\n",
    "\n",
    "reduce(lambda x, y : x + y, ls)"
   ]
  },
  {
   "cell_type": "code",
   "execution_count": 28,
   "metadata": {},
   "outputs": [
    {
     "data": {
      "text/plain": [
       "8"
      ]
     },
     "execution_count": 28,
     "metadata": {},
     "output_type": "execute_result"
    }
   ],
   "source": [
    "ls = [1,2,5,8,3,4,7]\n",
    "\n",
    "# 가장 큰수를 구하는 코드\n",
    "reduce(lambda x, y : x if x > y else y, ls)"
   ]
  },
  {
   "cell_type": "code",
   "execution_count": 31,
   "metadata": {},
   "outputs": [
    {
     "data": {
      "text/plain": [
       "'Park python'"
      ]
     },
     "execution_count": 31,
     "metadata": {},
     "output_type": "execute_result"
    }
   ],
   "source": [
    "# 퀴즈 - reduce를 이용해서 이름의 길이가 가장 긴 사람을 출력하세요.\n",
    "names = [\"kim dss\", \"Park python\", \"lee science\", \"jung school\", \"Lee java\"]\n",
    "\n",
    "reduce(lambda x, y : x if len(x) >= len(y) else y, names)\n",
    "\n",
    "# \"jung fastschool\""
   ]
  },
  {
   "cell_type": "code",
   "execution_count": null,
   "metadata": {},
   "outputs": [],
   "source": [
    "# 퀴즈 - reduce 함수를 직접 구현하세요.\n",
    "ls = [1,2,3,4,5]\n",
    "\n",
    "def reduce_func(func, data_list):\n",
    "    # TODO\n",
    "    \n",
    "    return result\n",
    "reduce_func(lambda num1, num2 : num1 + num2, ls)\n",
    "# result - 15"
   ]
  },
  {
   "cell_type": "markdown",
   "metadata": {},
   "source": [
    "#### Decolator\n",
    "- 여러개의 함수를 작성하는데 여러개의 함수에서 공통된 코드를 뽑아서 묶어 사용할때 사용합니다.\n",
    "- 코드를 바꾸지 않고 (공통된) 코드를 수정하거나 추가하고 싶을때 사용합니다.\n",
    "- 아래의 A와 B 함수에서 공통된 코드인 code1과 code3을 따로 빼서 묶어 사용하고 싶을때 사용합니다.\n",
    "\n",
    "```\n",
    "def A():\n",
    "    code1\n",
    "    code2\n",
    "    code3\n",
    "\n",
    "def B():\n",
    "    code1\n",
    "    code4\n",
    "    code3\n",
    "```\n",
    "\n",
    "\n",
    "```\n",
    "def C(func):\n",
    "    def wrapper(*args, **kwargs)\n",
    "        if func.__name__ == \"test\":\n",
    "            code1\n",
    "        else:\n",
    "            code5        \n",
    "        result = func(*args, **kwargs)\n",
    "        code3\n",
    "        return result\n",
    "    return wrapper\n",
    "\n",
    "@C\n",
    "def A():\n",
    "    code2\n",
    "  \n",
    "@C\n",
    "def B():\n",
    "    code4\n",
    "\n",
    "\n",
    "A() - code1, code2, code3\n",
    "B() - code1, code4, code3\n",
    "\n",
    "```\n",
    "\n",
    "C(A)()\n"
   ]
  },
  {
   "cell_type": "code",
   "execution_count": 33,
   "metadata": {},
   "outputs": [],
   "source": [
    "# A\n",
    "def sum_func(a, b):\n",
    "    return a + b # code 2"
   ]
  },
  {
   "cell_type": "code",
   "execution_count": 34,
   "metadata": {},
   "outputs": [],
   "source": [
    "# B \n",
    "def minus_func(a, b):\n",
    "    return a - b # code 4"
   ]
  },
  {
   "cell_type": "code",
   "execution_count": 35,
   "metadata": {},
   "outputs": [],
   "source": [
    "# C (decolator function)\n",
    "def disp(func):\n",
    "    def wrapper(*args, **kwargs):\n",
    "        # code 1\n",
    "        print(\"running function :\", func.__name__)\n",
    "        print(\"args :\", args)\n",
    "        print(\"kwargs :\", kwargs)\n",
    "        result = func(*args, **kwargs) \n",
    "        # code 3\n",
    "        print(\"result :\", result)\n",
    "        return result\n",
    "    return wrapper"
   ]
  },
  {
   "cell_type": "code",
   "execution_count": 37,
   "metadata": {},
   "outputs": [
    {
     "data": {
      "text/plain": [
       "3"
      ]
     },
     "execution_count": 37,
     "metadata": {},
     "output_type": "execute_result"
    }
   ],
   "source": [
    "sum_func(1,2)"
   ]
  },
  {
   "cell_type": "code",
   "execution_count": 38,
   "metadata": {},
   "outputs": [],
   "source": [
    "@disp\n",
    "def sum_func(a, b):\n",
    "    return a + b # code 2"
   ]
  },
  {
   "cell_type": "code",
   "execution_count": 39,
   "metadata": {},
   "outputs": [
    {
     "name": "stdout",
     "output_type": "stream",
     "text": [
      "running function : sum_func\n",
      "args : (1, 2)\n",
      "kwargs : {}\n",
      "result : 3\n"
     ]
    },
    {
     "data": {
      "text/plain": [
       "3"
      ]
     },
     "execution_count": 39,
     "metadata": {},
     "output_type": "execute_result"
    }
   ],
   "source": [
    "sum_func(1,2)"
   ]
  },
  {
   "cell_type": "code",
   "execution_count": 41,
   "metadata": {},
   "outputs": [
    {
     "data": {
      "text/plain": [
       "2"
      ]
     },
     "execution_count": 41,
     "metadata": {},
     "output_type": "execute_result"
    }
   ],
   "source": [
    "minus_func(5, 3)"
   ]
  },
  {
   "cell_type": "code",
   "execution_count": 42,
   "metadata": {},
   "outputs": [],
   "source": [
    "@disp\n",
    "def minus_func(a, b):\n",
    "    return a - b # code 4"
   ]
  },
  {
   "cell_type": "code",
   "execution_count": 43,
   "metadata": {},
   "outputs": [
    {
     "name": "stdout",
     "output_type": "stream",
     "text": [
      "running function : minus_func\n",
      "args : (5, 3)\n",
      "kwargs : {}\n",
      "result : 2\n"
     ]
    },
    {
     "data": {
      "text/plain": [
       "2"
      ]
     },
     "execution_count": 43,
     "metadata": {},
     "output_type": "execute_result"
    }
   ],
   "source": [
    "minus_func(5, 3)"
   ]
  },
  {
   "cell_type": "code",
   "execution_count": 50,
   "metadata": {},
   "outputs": [],
   "source": [
    "# 함수의 실행 시간을 측정하는 데코레이터 함수를 만들어보겠습니다.\n",
    "import time\n",
    "def run_time(func):\n",
    "    def wrapper(*args, **kwargs):\n",
    "        # code 1\n",
    "        start_time = time.time()\n",
    "        result = func(*args, **kwargs)\n",
    "        # code 3\n",
    "        end_time = time.time()\n",
    "        print(\"run time :\", end_time - start_time)\n",
    "        return result\n",
    "    return wrapper"
   ]
  },
  {
   "cell_type": "code",
   "execution_count": 51,
   "metadata": {},
   "outputs": [],
   "source": [
    "@run_time\n",
    "def sum_func(ls):\n",
    "    return sum(ls)"
   ]
  },
  {
   "cell_type": "code",
   "execution_count": 55,
   "metadata": {},
   "outputs": [],
   "source": [
    "def dss(a, b, num1=10, num2=\"20\"):\n",
    "    return a + b - num1 - num2"
   ]
  },
  {
   "cell_type": "code",
   "execution_count": 52,
   "metadata": {},
   "outputs": [
    {
     "name": "stdout",
     "output_type": "stream",
     "text": [
      "run time : 9.202957153320312e-05\n"
     ]
    },
    {
     "data": {
      "text/plain": [
       "49995000"
      ]
     },
     "execution_count": 52,
     "metadata": {},
     "output_type": "execute_result"
    }
   ],
   "source": [
    "ls = list(range(10000))\n",
    "sum_func(ls)"
   ]
  },
  {
   "cell_type": "code",
   "execution_count": 53,
   "metadata": {},
   "outputs": [],
   "source": [
    "@run_time\n",
    "def pow_func(a, b):\n",
    "    return a ** b"
   ]
  },
  {
   "cell_type": "code",
   "execution_count": 54,
   "metadata": {},
   "outputs": [
    {
     "name": "stdout",
     "output_type": "stream",
     "text": [
      "run time : 1.9073486328125e-06\n"
     ]
    },
    {
     "data": {
      "text/plain": [
       "3234476509624757991344647769100216810857203198904625400933895331391691459636928060001"
      ]
     },
     "execution_count": 54,
     "metadata": {},
     "output_type": "execute_result"
    }
   ],
   "source": [
    "pow_func(7, 100)"
   ]
  },
  {
   "cell_type": "code",
   "execution_count": null,
   "metadata": {},
   "outputs": [],
   "source": []
  },
  {
   "cell_type": "code",
   "execution_count": null,
   "metadata": {},
   "outputs": [],
   "source": []
  },
  {
   "cell_type": "code",
   "execution_count": null,
   "metadata": {},
   "outputs": [],
   "source": []
  },
  {
   "cell_type": "code",
   "execution_count": null,
   "metadata": {},
   "outputs": [],
   "source": []
  },
  {
   "cell_type": "code",
   "execution_count": null,
   "metadata": {},
   "outputs": [],
   "source": []
  }
 ],
 "metadata": {
  "kernelspec": {
   "display_name": "Python 3",
   "language": "python",
   "name": "python3"
  },
  "language_info": {
   "codemirror_mode": {
    "name": "ipython",
    "version": 3
   },
   "file_extension": ".py",
   "mimetype": "text/x-python",
   "name": "python",
   "nbconvert_exporter": "python",
   "pygments_lexer": "ipython3",
   "version": "3.6.4"
  }
 },
 "nbformat": 4,
 "nbformat_minor": 2
}
