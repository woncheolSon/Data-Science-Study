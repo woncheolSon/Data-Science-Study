{
 "cells": [
  {
   "cell_type": "markdown",
   "metadata": {},
   "source": [
    "### Condition & Loop"
   ]
  },
  {
   "cell_type": "code",
   "execution_count": 2,
   "metadata": {},
   "outputs": [
    {
     "name": "stdout",
     "output_type": "stream",
     "text": [
      "insert string : data science\n",
      "<class 'str'> data science\n"
     ]
    }
   ],
   "source": [
    "# input : 입력\n",
    "s = input(\"insert string : \")\n",
    "print(type(s), s)"
   ]
  },
  {
   "cell_type": "code",
   "execution_count": 4,
   "metadata": {},
   "outputs": [
    {
     "name": "stdout",
     "output_type": "stream",
     "text": [
      "insert integer : 1234\n",
      "<class 'int'> 1234\n"
     ]
    }
   ],
   "source": [
    "n = int(input(\"insert integer : \"))\n",
    "print(type(n), n)"
   ]
  },
  {
   "cell_type": "code",
   "execution_count": 5,
   "metadata": {},
   "outputs": [
    {
     "name": "stdout",
     "output_type": "stream",
     "text": [
      "insert list (sep=' '): 1 2 3 abc\n",
      "<class 'list'> ['1', '2', '3', 'abc']\n"
     ]
    }
   ],
   "source": [
    "ls = input(\"insert list (sep=' '): \")\n",
    "ls = ls.split(\" \")\n",
    "print(type(ls), ls)"
   ]
  },
  {
   "cell_type": "code",
   "execution_count": 7,
   "metadata": {},
   "outputs": [
    {
     "name": "stdout",
     "output_type": "stream",
     "text": [
      "number : 5\n",
      "0 1 2 3 4 "
     ]
    }
   ],
   "source": [
    "n = int(input(\"number : \"))\n",
    "for number in range(n):\n",
    "    print(number, end=\" \")"
   ]
  },
  {
   "cell_type": "code",
   "execution_count": 9,
   "metadata": {},
   "outputs": [
    {
     "name": "stdout",
     "output_type": "stream",
     "text": [
      "test page\n"
     ]
    }
   ],
   "source": [
    "# 출력\n",
    "s = \"test\"\n",
    "print(s, \"page\")"
   ]
  },
  {
   "cell_type": "code",
   "execution_count": 25,
   "metadata": {},
   "outputs": [
    {
     "name": "stdout",
     "output_type": "stream",
     "text": [
      "{'A': 'test', 'B': 'data', 'C': 'science', 'D': 'science', 'E': 'science', 'F': 'science', 'G': {'T': 'ttt'}}\n"
     ]
    }
   ],
   "source": [
    "# 출력 - pprint : 딕셔너리와 같은 데이터 복잡할때 사용\n",
    "from pprint import pprint\n",
    "\n",
    "dic = {\"A\":\"test\", \"B\":\"data\", \"C\":\"science\", \"D\":\"science\", \"E\":\"science\", \"F\":\"science\", \"G\":{\"T\":\"ttt\"} }\n",
    "print(dic)"
   ]
  },
  {
   "cell_type": "code",
   "execution_count": 26,
   "metadata": {},
   "outputs": [
    {
     "name": "stdout",
     "output_type": "stream",
     "text": [
      "{'A': 'test',\n",
      " 'B': 'data',\n",
      " 'C': 'science',\n",
      " 'D': 'science',\n",
      " 'E': 'science',\n",
      " 'F': 'science',\n",
      " 'G': {'T': 'ttt'}}\n"
     ]
    }
   ],
   "source": [
    "pprint(dic)"
   ]
  },
  {
   "cell_type": "code",
   "execution_count": 33,
   "metadata": {},
   "outputs": [
    {
     "name": "stdout",
     "output_type": "stream",
     "text": [
      "done\n"
     ]
    }
   ],
   "source": [
    "# 조건문 - if, else, elif\n",
    "flag = False\n",
    "if flag:\n",
    "    print(\"dss\")\n",
    "print(\"done\")"
   ]
  },
  {
   "cell_type": "code",
   "execution_count": 34,
   "metadata": {},
   "outputs": [
    {
     "name": "stdout",
     "output_type": "stream",
     "text": [
      "data\n",
      "done\n"
     ]
    }
   ],
   "source": [
    "# else\n",
    "flag = False\n",
    "if flag:\n",
    "    print(\"dss\")\n",
    "else:\n",
    "    print(\"data\")\n",
    "print(\"done\")"
   ]
  },
  {
   "cell_type": "code",
   "execution_count": 35,
   "metadata": {},
   "outputs": [],
   "source": [
    "# elif\n",
    "# 10~8 - A\n",
    "# 7~4 - B\n",
    "# 3~0 - C"
   ]
  },
  {
   "cell_type": "code",
   "execution_count": 38,
   "metadata": {},
   "outputs": [
    {
     "name": "stdout",
     "output_type": "stream",
     "text": [
      "done B\n"
     ]
    }
   ],
   "source": [
    "point = 7\n",
    "result = \"\"\n",
    "if point >= 8:\n",
    "    result = \"A\"\n",
    "elif point < 8 or point >= 4:\n",
    "    result = \"B\"\n",
    "else:\n",
    "    result = \"C\"\n",
    "print(\"done\", result)"
   ]
  },
  {
   "cell_type": "code",
   "execution_count": 39,
   "metadata": {},
   "outputs": [
    {
     "name": "stdout",
     "output_type": "stream",
     "text": [
      "done B\n"
     ]
    }
   ],
   "source": [
    "if point >= 8:\n",
    "    result = \"A\"\n",
    "if point < 8 or point >= 4:\n",
    "    result = \"B\"\n",
    "if point <= 3:\n",
    "    result = \"C\"\n",
    "print(\"done\", result)"
   ]
  },
  {
   "cell_type": "code",
   "execution_count": 41,
   "metadata": {},
   "outputs": [
    {
     "name": "stdout",
     "output_type": "stream",
     "text": [
      "insert number : 4\n",
      "even\n"
     ]
    }
   ],
   "source": [
    "# 숫자를 하나 입력 받아서 홀수이면 \"odd\", 짝수이면 \"even\" 를 출력하는 코드를 만드세요.\n",
    "number = int(input(\"insert number : \"))\n",
    "if number % 2 == 0:\n",
    "    print(\"even\")\n",
    "else:\n",
    "    print(\"odd\")"
   ]
  },
  {
   "cell_type": "code",
   "execution_count": 43,
   "metadata": {},
   "outputs": [
    {
     "name": "stdout",
     "output_type": "stream",
     "text": [
      "insert number : 8\n",
      "even\n"
     ]
    }
   ],
   "source": [
    "# 삼항연산\n",
    "# (True) if (condition) else (False)\n",
    "number = int(input(\"insert number : \"))\n",
    "result = \"even\" if number % 2 == 0 else \"odd\"\n",
    "print(result)"
   ]
  },
  {
   "cell_type": "markdown",
   "metadata": {},
   "source": [
    "##### 반복 - loop\n",
    "- while, for, break, continue, list comprehension"
   ]
  },
  {
   "cell_type": "markdown",
   "metadata": {},
   "source": [
    "##### while"
   ]
  },
  {
   "cell_type": "code",
   "execution_count": null,
   "metadata": {},
   "outputs": [],
   "source": [
    "while (조건):\n",
    "    code"
   ]
  },
  {
   "cell_type": "code",
   "execution_count": 44,
   "metadata": {},
   "outputs": [
    {
     "name": "stdout",
     "output_type": "stream",
     "text": [
      "3\n",
      "2\n",
      "1\n"
     ]
    },
    {
     "data": {
      "text/plain": [
       "0"
      ]
     },
     "execution_count": 44,
     "metadata": {},
     "output_type": "execute_result"
    }
   ],
   "source": [
    "a = 3\n",
    "while a > 0:\n",
    "    print(a)\n",
    "    a -= 1\n",
    "a"
   ]
  },
  {
   "cell_type": "code",
   "execution_count": 45,
   "metadata": {},
   "outputs": [
    {
     "name": "stdout",
     "output_type": "stream",
     "text": [
      "3\n",
      "2\n"
     ]
    },
    {
     "data": {
      "text/plain": [
       "2"
      ]
     },
     "execution_count": 45,
     "metadata": {},
     "output_type": "execute_result"
    }
   ],
   "source": [
    "# break - break 코드 만나면 강제로 반복문이 종료됩니다.\n",
    "a = 3\n",
    "while a > 0:\n",
    "    print(a)\n",
    "    if a == 2:\n",
    "        break\n",
    "    a -= 1\n",
    "a"
   ]
  },
  {
   "cell_type": "code",
   "execution_count": 46,
   "metadata": {},
   "outputs": [
    {
     "name": "stdout",
     "output_type": "stream",
     "text": [
      "3\n",
      "2\n"
     ]
    },
    {
     "data": {
      "text/plain": [
       "0"
      ]
     },
     "execution_count": 46,
     "metadata": {},
     "output_type": "execute_result"
    }
   ],
   "source": [
    "# continue - continue 코드 만나면 바로 반복문 구문으로 이동됩니다.\n",
    "a = 3\n",
    "while a > 0:\n",
    "    print(a)\n",
    "    if a == 2:\n",
    "        a = 0\n",
    "        continue\n",
    "    a -= 1\n",
    "a"
   ]
  },
  {
   "cell_type": "markdown",
   "metadata": {},
   "source": [
    "##### For\n",
    "- range, zip, enumerate"
   ]
  },
  {
   "cell_type": "code",
   "execution_count": 49,
   "metadata": {},
   "outputs": [
    {
     "data": {
      "text/plain": [
       "[0, 1, 2, 3, 4, 5]"
      ]
     },
     "execution_count": 49,
     "metadata": {},
     "output_type": "execute_result"
    }
   ],
   "source": [
    "# range\n",
    "ls = [0,1,2,3,4,5]\n",
    "ls"
   ]
  },
  {
   "cell_type": "code",
   "execution_count": 53,
   "metadata": {},
   "outputs": [
    {
     "data": {
      "text/plain": [
       "[0, 1, 2, 3, 4, 5]"
      ]
     },
     "execution_count": 53,
     "metadata": {},
     "output_type": "execute_result"
    }
   ],
   "source": [
    "list(range(6))"
   ]
  },
  {
   "cell_type": "code",
   "execution_count": 55,
   "metadata": {},
   "outputs": [
    {
     "data": {
      "text/plain": [
       "[2, 3, 4, 5]"
      ]
     },
     "execution_count": 55,
     "metadata": {},
     "output_type": "execute_result"
    }
   ],
   "source": [
    "list(range(2,6))"
   ]
  },
  {
   "cell_type": "code",
   "execution_count": 57,
   "metadata": {},
   "outputs": [
    {
     "data": {
      "text/plain": [
       "[0, 2, 4]"
      ]
     },
     "execution_count": 57,
     "metadata": {},
     "output_type": "execute_result"
    }
   ],
   "source": [
    "list(range(0,6,2))"
   ]
  },
  {
   "cell_type": "code",
   "execution_count": 58,
   "metadata": {},
   "outputs": [
    {
     "data": {
      "text/plain": [
       "[6, 5, 4, 3, 2, 1]"
      ]
     },
     "execution_count": 58,
     "metadata": {},
     "output_type": "execute_result"
    }
   ],
   "source": [
    "list(range(6,0,-1))"
   ]
  },
  {
   "cell_type": "markdown",
   "metadata": {},
   "source": [
    "```\n",
    "for (value) in (collection):\n",
    "    code (value)\n",
    "```"
   ]
  },
  {
   "cell_type": "code",
   "execution_count": 68,
   "metadata": {},
   "outputs": [
    {
     "name": "stdout",
     "output_type": "stream",
     "text": [
      "data\n",
      "science\n",
      "school\n",
      "school\n",
      "school\n"
     ]
    }
   ],
   "source": [
    "ls = [\"data\", \"science\", \"school\", \"school\", \"school\"]\n",
    "for idx in range(len(ls)):\n",
    "    print(ls[idx])"
   ]
  },
  {
   "cell_type": "code",
   "execution_count": 69,
   "metadata": {},
   "outputs": [
    {
     "data": {
      "text/plain": [
       "{'english': 80, 'math': 100, 'science': 90}"
      ]
     },
     "execution_count": 69,
     "metadata": {},
     "output_type": "execute_result"
    }
   ],
   "source": [
    "# zip - 2개의 리스트를 key value 형태로 묶어주는 함수\n",
    "subs = [\"math\", \"english\", \"science\"]\n",
    "points = [100, 80, 90]\n",
    "\n",
    "dic = {\"math\":100, \"english\":80, \"science\":90}\n",
    "\n",
    "result = {}\n",
    "for idx in range(len(subs)):\n",
    "    result[subs[idx]] = points[idx]\n",
    "result"
   ]
  },
  {
   "cell_type": "code",
   "execution_count": 70,
   "metadata": {},
   "outputs": [
    {
     "data": {
      "text/plain": [
       "{'english': 80, 'math': 100, 'science': 90}"
      ]
     },
     "execution_count": 70,
     "metadata": {},
     "output_type": "execute_result"
    }
   ],
   "source": [
    "for sub, point in zip(subs, points):\n",
    "    result[sub] = point\n",
    "result"
   ]
  },
  {
   "cell_type": "code",
   "execution_count": 73,
   "metadata": {},
   "outputs": [
    {
     "data": {
      "text/plain": [
       "((('math', 100), ('english', 80), ('science', 90)),\n",
       " {'english': 80, 'math': 100, 'science': 90})"
      ]
     },
     "execution_count": 73,
     "metadata": {},
     "output_type": "execute_result"
    }
   ],
   "source": [
    "tuple(zip(subs, points)), dict(zip(subs, points))"
   ]
  },
  {
   "cell_type": "code",
   "execution_count": 76,
   "metadata": {},
   "outputs": [
    {
     "name": "stdout",
     "output_type": "stream",
     "text": [
      "0 math\n",
      "1 science\n",
      "2 korean\n"
     ]
    }
   ],
   "source": [
    "# enumerate - 리스트형태의 데이터를 index와 value를 동시에 사용이 가능합니다.\n",
    "ls = [\"math\", \"science\", \"korean\"]\n",
    "num = 0\n",
    "for value in ls:\n",
    "    print(num, value)\n",
    "    num += 1"
   ]
  },
  {
   "cell_type": "code",
   "execution_count": 79,
   "metadata": {},
   "outputs": [
    {
     "name": "stdout",
     "output_type": "stream",
     "text": [
      "0 math\n",
      "1 science\n",
      "2 korean\n",
      "3 science\n"
     ]
    },
    {
     "data": {
      "text/plain": [
       "[1, 3]"
      ]
     },
     "execution_count": 79,
     "metadata": {},
     "output_type": "execute_result"
    }
   ],
   "source": [
    "ls = [\"math\", \"science\", \"korean\", \"science\"]\n",
    "filtered_ls = []\n",
    "for num, value in enumerate(ls):\n",
    "    if value == \"science\":\n",
    "        filtered_ls.append(num)\n",
    "    print(num, value)\n",
    "filtered_ls"
   ]
  },
  {
   "cell_type": "code",
   "execution_count": 80,
   "metadata": {},
   "outputs": [
    {
     "data": {
      "text/plain": [
       "25"
      ]
     },
     "execution_count": 80,
     "metadata": {},
     "output_type": "execute_result"
    }
   ],
   "source": [
    "# 퀴즈 - for문을 이용해서 numbers에 안에 있는 숫자를 모두 더해서 result 변수에 넣어 출력해주세요.\n",
    "numbers = [1,3,5,7,9]\n",
    "result = 0\n",
    "\n",
    "for number in numbers:\n",
    "    result += number\n",
    "    \n",
    "result"
   ]
  },
  {
   "cell_type": "markdown",
   "metadata": {},
   "source": [
    "##### List Comprehention\n",
    "- 반복되어 출력되는 리스트 형태의 데이터를 만들어 주는 문법.\n",
    "- for문 보다 속도가 빠름.\n",
    "- ls = `[<value> for <value> in <list> (if <condition>)]`"
   ]
  },
  {
   "cell_type": "code",
   "execution_count": 5,
   "metadata": {},
   "outputs": [
    {
     "data": {
      "text/plain": [
       "[1, 2, 3, 4, 5]"
      ]
     },
     "execution_count": 5,
     "metadata": {},
     "output_type": "execute_result"
    }
   ],
   "source": [
    "ls = [1,2,3,4,5]\n",
    "\n",
    "ls = [] \n",
    "ls.append(1)\n",
    "ls.append(2)\n",
    "ls.append(3)\n",
    "\n",
    "ls = []\n",
    "for num in range(1,6):\n",
    "    ls.append(num)\n",
    "\n",
    "ls = [num for num in range(1,6)]\n",
    "    \n",
    "ls"
   ]
  },
  {
   "cell_type": "code",
   "execution_count": 13,
   "metadata": {},
   "outputs": [
    {
     "name": "stdout",
     "output_type": "stream",
     "text": [
      "826 µs ± 9.29 µs per loop (mean ± std. dev. of 7 runs, 1000 loops each)\n"
     ]
    }
   ],
   "source": [
    "%%timeit\n",
    "ls = []\n",
    "for num in range(1,10001):\n",
    "    ls.append(num)\n",
    "len(ls)"
   ]
  },
  {
   "cell_type": "code",
   "execution_count": 9,
   "metadata": {},
   "outputs": [
    {
     "data": {
      "text/plain": [
       "[9996, 9997, 9998, 9999, 10000]"
      ]
     },
     "execution_count": 9,
     "metadata": {},
     "output_type": "execute_result"
    }
   ],
   "source": [
    "ls[-5:]"
   ]
  },
  {
   "cell_type": "code",
   "execution_count": 14,
   "metadata": {},
   "outputs": [
    {
     "name": "stdout",
     "output_type": "stream",
     "text": [
      "339 µs ± 11.6 µs per loop (mean ± std. dev. of 7 runs, 1000 loops each)\n"
     ]
    }
   ],
   "source": [
    "%%timeit\n",
    "ls = [num for num in range(1,10001)]\n",
    "len(ls)"
   ]
  },
  {
   "cell_type": "code",
   "execution_count": 12,
   "metadata": {},
   "outputs": [
    {
     "data": {
      "text/plain": [
       "[9996, 9997, 9998, 9999, 10000]"
      ]
     },
     "execution_count": 12,
     "metadata": {},
     "output_type": "execute_result"
    }
   ],
   "source": [
    "ls[-5:]"
   ]
  },
  {
   "cell_type": "code",
   "execution_count": 18,
   "metadata": {},
   "outputs": [
    {
     "data": {
      "text/plain": [
       "['0:even', '1:odd', '2:even', '3:odd']"
      ]
     },
     "execution_count": 18,
     "metadata": {},
     "output_type": "execute_result"
    }
   ],
   "source": [
    "# 삼항연산 사용\n",
    "# 0 ~ 10까지 숫자를 출력하고 해당 숫가 짝수인지 홀수인지를 판별해서 ood, even 문자열을 추가하는 코드\n",
    "ls = [ str(num) + \":even\" if num % 2 == 0 else str(num) + \":odd\" for num in range(4) ]\n",
    "ls"
   ]
  },
  {
   "cell_type": "code",
   "execution_count": 20,
   "metadata": {},
   "outputs": [
    {
     "data": {
      "text/plain": [
       "[1, 3, 5, 7, 9]"
      ]
     },
     "execution_count": 20,
     "metadata": {},
     "output_type": "execute_result"
    }
   ],
   "source": [
    "# 조건 if 사용\n",
    "# 홀수만 출력되게 코드 작성\n",
    "ls = [num for num in range(11) if num % 2 == 1]\n",
    "ls"
   ]
  },
  {
   "cell_type": "code",
   "execution_count": 22,
   "metadata": {},
   "outputs": [
    {
     "data": {
      "text/plain": [
       "['kim dss', 'python', 'macpro']"
      ]
     },
     "execution_count": 22,
     "metadata": {},
     "output_type": "execute_result"
    }
   ],
   "source": [
    "# 퀴즈 - lee씨 성을 가진사람의 성을 삭제하는 코드를 작성하세요\n",
    "names = [\"kim dss\", \"lee python\", \"park data\", \"lee macpro\"]\n",
    "\n",
    "result = [\n",
    "    # TODO\n",
    "    name.split(\" \")[1] if name.split(\" \")[0] == \"lee\" else name\n",
    "    for name in names\n",
    "    if name.split(\" \")[0] != \"park\"\n",
    "]\n",
    "\n",
    "result \n",
    "# result_1 - [\"kim dss\", \"python\", \"park data\", \"macpro\"] # lee씨 성을 가진 이름에서 성을 제거\n",
    "# result_2 - [\"kim dss\", \"python\", \"macpro\"] # park씨 성을 가진 데이터 제거"
   ]
  },
  {
   "cell_type": "code",
   "execution_count": null,
   "metadata": {},
   "outputs": [],
   "source": []
  },
  {
   "cell_type": "code",
   "execution_count": null,
   "metadata": {},
   "outputs": [],
   "source": []
  },
  {
   "cell_type": "code",
   "execution_count": null,
   "metadata": {},
   "outputs": [],
   "source": []
  },
  {
   "cell_type": "code",
   "execution_count": null,
   "metadata": {},
   "outputs": [],
   "source": []
  }
 ],
 "metadata": {
  "kernelspec": {
   "display_name": "Python 3",
   "language": "python",
   "name": "python3"
  },
  "language_info": {
   "codemirror_mode": {
    "name": "ipython",
    "version": 3
   },
   "file_extension": ".py",
   "mimetype": "text/x-python",
   "name": "python",
   "nbconvert_exporter": "python",
   "pygments_lexer": "ipython3",
   "version": "3.6.4"
  }
 },
 "nbformat": 4,
 "nbformat_minor": 2
}
