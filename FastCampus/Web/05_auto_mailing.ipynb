{
 "cells": [
  {
   "cell_type": "code",
   "execution_count": 3,
   "metadata": {},
   "outputs": [],
   "source": [
    "import smtplib, os, pickle # smtplib : 메일 전송을 위한 패키지\n",
    "from email import encoders # encoders : 파일 전송을 할때 이미지, 문서, 동영상 등의 파일을 문자열로 변환할 때 사용할 패키지\n",
    "from email.mime.text import MIMEText # 본문 내용을 전송할 때 사용되는 모듈\n",
    "from email.mime.multipart import MIMEMultipart # 메세지를 보낼때 매세지에 대한 모듈\n",
    "from email.mime.base import MIMEBase # 파일을 전송할 때 사용되는 모듈"
   ]
  },
  {
   "cell_type": "code",
   "execution_count": 5,
   "metadata": {},
   "outputs": [],
   "source": [
    "toAddr = [\"david.woncheol.son@gmail.com\",\"1chuu@naver.com\",\"sonome92@hanmail.net\"]"
   ]
  },
  {
   "cell_type": "code",
   "execution_count": 16,
   "metadata": {},
   "outputs": [],
   "source": [
    "pw = \"godusj1323\""
   ]
  },
  {
   "cell_type": "markdown",
   "metadata": {},
   "source": [
    "### send text"
   ]
  },
  {
   "cell_type": "code",
   "execution_count": 17,
   "metadata": {},
   "outputs": [
    {
     "data": {
      "text/plain": [
       "(220, b'2.0.0 Ready to start TLS')"
      ]
     },
     "execution_count": 17,
     "metadata": {},
     "output_type": "execute_result"
    }
   ],
   "source": [
    "smtp = smtplib.SMTP('smtp.gmail.com',587) # 587은 이 서버의 포트 번호\n",
    "smtp.ehlo()\n",
    "smtp.starttls() # 서버가 있는지 없는지 체크"
   ]
  },
  {
   "cell_type": "code",
   "execution_count": 18,
   "metadata": {},
   "outputs": [
    {
     "data": {
      "text/plain": [
       "(235, b'2.7.0 Accepted')"
      ]
     },
     "execution_count": 18,
     "metadata": {},
     "output_type": "execute_result"
    }
   ],
   "source": [
    "smtp.login(\"dnjscjf92@ajou.ac.kr\",pw)"
   ]
  },
  {
   "cell_type": "markdown",
   "metadata": {},
   "source": [
    "### make msg"
   ]
  },
  {
   "cell_type": "code",
   "execution_count": 19,
   "metadata": {},
   "outputs": [],
   "source": [
    "msg = MIMEMultipart()\n",
    "msg['subject'] = \"SMTP 테스트 제목\""
   ]
  },
  {
   "cell_type": "markdown",
   "metadata": {},
   "source": [
    "### text msg"
   ]
  },
  {
   "cell_type": "code",
   "execution_count": 20,
   "metadata": {},
   "outputs": [],
   "source": [
    "part = MIMEText(\"메일 보내기 테스트 본문\")\n",
    "msg.attach(part)"
   ]
  },
  {
   "cell_type": "code",
   "execution_count": 21,
   "metadata": {},
   "outputs": [
    {
     "data": {
      "text/plain": [
       "<email.mime.multipart.MIMEMultipart at 0x109142cc0>"
      ]
     },
     "execution_count": 21,
     "metadata": {},
     "output_type": "execute_result"
    }
   ],
   "source": [
    "msg # 메일 제목, 본문내용 들어있음"
   ]
  },
  {
   "cell_type": "markdown",
   "metadata": {},
   "source": [
    "### send mail"
   ]
  },
  {
   "cell_type": "code",
   "execution_count": 25,
   "metadata": {},
   "outputs": [
    {
     "name": "stdout",
     "output_type": "stream",
     "text": [
      "david.woncheol.son@gmail.com\n",
      "1chuu@naver.com\n",
      "sonome92@hanmail.net\n"
     ]
    }
   ],
   "source": [
    "for addr in toAddr:\n",
    "    print(addr)\n",
    "    msg[\"To\"] = addr\n",
    "    smtp.sendmail(\"dnjscjf92@ajou.ac.kr\",addr,msg.as_string())"
   ]
  },
  {
   "cell_type": "markdown",
   "metadata": {},
   "source": [
    "### 링크 보내기"
   ]
  },
  {
   "cell_type": "code",
   "execution_count": 27,
   "metadata": {},
   "outputs": [],
   "source": [
    "part_html = MIMEText('<br><a href=\"https://datascienceschool.net/\">데이터 사이언스 스쿨</a>','html')\n",
    "msg.attach(part_html)"
   ]
  },
  {
   "cell_type": "code",
   "execution_count": 28,
   "metadata": {},
   "outputs": [
    {
     "data": {
      "text/plain": [
       "<email.mime.multipart.MIMEMultipart at 0x109142cc0>"
      ]
     },
     "execution_count": 28,
     "metadata": {},
     "output_type": "execute_result"
    }
   ],
   "source": [
    "msg # 제목, 본문, html 코드"
   ]
  },
  {
   "cell_type": "code",
   "execution_count": 29,
   "metadata": {},
   "outputs": [
    {
     "name": "stdout",
     "output_type": "stream",
     "text": [
      "david.woncheol.son@gmail.com\n",
      "1chuu@naver.com\n",
      "sonome92@hanmail.net\n"
     ]
    }
   ],
   "source": [
    "for addr in toAddr:\n",
    "    print(addr)\n",
    "    msg[\"To\"] = addr\n",
    "    smtp.sendmail(\"dnjscjf92@ajou.ac.kr\",addr,msg.as_string())"
   ]
  },
  {
   "cell_type": "markdown",
   "metadata": {},
   "source": [
    "### 파일 전송"
   ]
  },
  {
   "cell_type": "code",
   "execution_count": 37,
   "metadata": {},
   "outputs": [
    {
     "data": {
      "text/plain": [
       "(235, b'2.7.0 Accepted')"
      ]
     },
     "execution_count": 37,
     "metadata": {},
     "output_type": "execute_result"
    }
   ],
   "source": [
    "smtp = smtplib.SMTP('smtp.gmail.com',587) # 587은 이 서버의 포트 번호\n",
    "smtp.ehlo()\n",
    "smtp.starttls() # 서버가 있는지 없는지 체크\n",
    "smtp.login(\"dnjscjf92@ajou.ac.kr\",pw)"
   ]
  },
  {
   "cell_type": "code",
   "execution_count": 33,
   "metadata": {},
   "outputs": [],
   "source": [
    "msg = MIMEMultipart()\n",
    "msg['subject'] = \"파일 전송 테스트\""
   ]
  },
  {
   "cell_type": "code",
   "execution_count": 34,
   "metadata": {},
   "outputs": [],
   "source": [
    "part = MIMEText(\"파일 전송 테스트 본문\")\n",
    "msg.attach(part)"
   ]
  },
  {
   "cell_type": "code",
   "execution_count": 39,
   "metadata": {},
   "outputs": [
    {
     "data": {
      "text/plain": [
       "<email.mime.multipart.MIMEMultipart at 0x1093d9208>"
      ]
     },
     "execution_count": 39,
     "metadata": {},
     "output_type": "execute_result"
    }
   ],
   "source": [
    "# 파일 추가\n",
    "path = \"video.mp4\"\n",
    "with open(path, 'rb') as f:\n",
    "    part = MIMEBase(\"application\",\"octet-stream\")\n",
    "    part.set_payload(f.read())\n",
    "    encoders.encode_base64(part)\n",
    "    part.add_header(\"Content-Disposition\", 'attachment', filename=path)\n",
    "    msg.attach(part) \n",
    "#     msg.attach(part) # 여러 파일 보내려면 여러개 작성\n",
    "msg #제목, 본문, 파일"
   ]
  },
  {
   "cell_type": "code",
   "execution_count": 38,
   "metadata": {},
   "outputs": [
    {
     "name": "stdout",
     "output_type": "stream",
     "text": [
      "david.woncheol.son@gmail.com\n",
      "1chuu@naver.com\n",
      "sonome92@hanmail.net\n"
     ]
    }
   ],
   "source": [
    "for addr in toAddr:\n",
    "    print(addr)\n",
    "    msg[\"To\"] = addr\n",
    "    smtp.sendmail(\"dnjscjf92@ajou.ac.kr\",addr,msg.as_string())"
   ]
  },
  {
   "cell_type": "markdown",
   "metadata": {},
   "source": [
    "### smtp close"
   ]
  },
  {
   "cell_type": "code",
   "execution_count": 40,
   "metadata": {},
   "outputs": [
    {
     "data": {
      "text/plain": [
       "(221, b'2.0.0 closing connection w7-v6sm5467240pgr.82 - gsmtp')"
      ]
     },
     "execution_count": 40,
     "metadata": {},
     "output_type": "execute_result"
    }
   ],
   "source": [
    "smtp.quit()"
   ]
  },
  {
   "cell_type": "code",
   "execution_count": null,
   "metadata": {},
   "outputs": [],
   "source": []
  }
 ],
 "metadata": {
  "kernelspec": {
   "display_name": "Python 3",
   "language": "python",
   "name": "python3"
  },
  "language_info": {
   "codemirror_mode": {
    "name": "ipython",
    "version": 3
   },
   "file_extension": ".py",
   "mimetype": "text/x-python",
   "name": "python",
   "nbconvert_exporter": "python",
   "pygments_lexer": "ipython3",
   "version": "3.6.4"
  }
 },
 "nbformat": 4,
 "nbformat_minor": 2
}
