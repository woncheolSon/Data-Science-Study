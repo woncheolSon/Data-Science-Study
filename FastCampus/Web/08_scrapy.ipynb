{
 "cells": [
  {
   "cell_type": "markdown",
   "metadata": {},
   "source": [
    "### scrapy\n",
    "- https://scrapy.org/\n",
    "- 웹사이트에서 데이터 추출을 위한 오픈소스 프레임워크 입니다.\n",
    "- 인스톨 스크래피\n",
    "    - windows : conda install -c conda-forge scrapy\n",
    "    - mac : pip3 install scrapy\n",
    "- xpath\n",
    "    - xpath의 기본문법\n",
    "    - scrapy shell xpath\n",
    "    - scrapy jupyter notebook xpath\n",
    "    - 네이버 실시간 검색어, 다음 실시간 검색어, 지마켓 베스트 200\n",
    "- 스크래피 프로젝트를 만들어서 크롤링\n",
    "    - 네이버 영화 사이트에서 현재 상영영화 링크를 크롤링\n",
    "    - 크롤링한 링크에서 영화 제목과 누적관객수 데이터를 크롤링\n",
    "    - csv 파일로 저장"
   ]
  },
  {
   "cell_type": "code",
   "execution_count": 3,
   "metadata": {},
   "outputs": [],
   "source": [
    "import scrapy"
   ]
  },
  {
   "cell_type": "markdown",
   "metadata": {},
   "source": [
    "##### xpath의 기본 문법\n",
    "- `//*[@id=\"PM_ID_ct\"]/div[1]/div[2]/div[2]/div[1]/div/ul/li[1]/a/span[2]`\n",
    "- `//` : 최상위 엘리먼트를 의미\n",
    "- `*` : 조건에 맞는 하위 엘리먼트를 모두 살펴봄 \n",
    "    - css selector에서 하위 엘리먼트 검색 한칸띄기\n",
    "- `[@id=\"PM_ID_ct\"]` : id가 PM_ID_ct인 엘리먼트를 선택\n",
    "    - `[@<key>=<value>]`\n",
    "- `/` : 바로 아래 엘리먼트를 살펴봄\n",
    "    - css selector의 > 기호와 같은 의미를 갖습니다.\n",
    "- `[number]` : number 번째 엘리먼트를 선택\n",
    "    - 0번 부터가 아니라 1번 부터 시작합니다.\n",
    "- `.` : 현재 엘리먼트를 의미\n",
    "- `not` : 조건이 아닌 엘리먼트를 찾습니다.\n",
    "    - `not([@id=tset])`"
   ]
  },
  {
   "cell_type": "code",
   "execution_count": null,
   "metadata": {},
   "outputs": [],
   "source": [
    "# 네이버 실시간 검색어 크롤링\n",
    "# 스크래피 쉘 사용\n",
    "# $ scrapy shell \"<url>\""
   ]
  },
  {
   "cell_type": "code",
   "execution_count": 5,
   "metadata": {},
   "outputs": [],
   "source": [
    "import requests\n",
    "from scrapy.http import TextResponse"
   ]
  },
  {
   "cell_type": "code",
   "execution_count": 20,
   "metadata": {},
   "outputs": [],
   "source": [
    "# 웹페이지에 연결\n",
    "url = \"http://naver.com\"\n",
    "rep = requests.get(url)\n",
    "response = TextResponse(rep.url, body=rep.text, encoding=\"utf-8\")"
   ]
  },
  {
   "cell_type": "code",
   "execution_count": 7,
   "metadata": {},
   "outputs": [
    {
     "data": {
      "text/plain": [
       "[<Selector xpath='//*[@id=\"PM_ID_ct\"]/div[1]/div[2]/div[2]/div[1]/div/ul/li[1]/a/span[2]' data='<span class=\"ah_k\">대구 수돗물</span>'>]"
      ]
     },
     "execution_count": 7,
     "metadata": {},
     "output_type": "execute_result"
    }
   ],
   "source": [
    "# 네이버 실시간 검색어 1위 엘리먼트 객체\n",
    "response.xpath('//*[@id=\"PM_ID_ct\"]/div[1]/div[2]/div[2]/div[1]/div/ul/li[1]/a/span[2]')"
   ]
  },
  {
   "cell_type": "code",
   "execution_count": 9,
   "metadata": {
    "scrolled": true
   },
   "outputs": [
    {
     "data": {
      "text/plain": [
       "[<Selector xpath='//*[@id=\"PM_ID_ct\"]/div[1]/div[2]/div[2]/div[1]/div/ul/li/a/span[2]' data='<span class=\"ah_k\">대구 수돗물</span>'>,\n",
       " <Selector xpath='//*[@id=\"PM_ID_ct\"]/div[1]/div[2]/div[2]/div[1]/div/ul/li/a/span[2]' data='<span class=\"ah_k\">조정석</span>'>,\n",
       " <Selector xpath='//*[@id=\"PM_ID_ct\"]/div[1]/div[2]/div[2]/div[1]/div/ul/li/a/span[2]' data='<span class=\"ah_k\">최화정</span>'>,\n",
       " <Selector xpath='//*[@id=\"PM_ID_ct\"]/div[1]/div[2]/div[2]/div[1]/div/ul/li/a/span[2]' data='<span class=\"ah_k\">나이지리아 아이슬란드</span>'>,\n",
       " <Selector xpath='//*[@id=\"PM_ID_ct\"]/div[1]/div[2]/div[2]/div[1]/div/ul/li/a/span[2]' data='<span class=\"ah_k\">브라질 코스타리카</span>'>,\n",
       " <Selector xpath='//*[@id=\"PM_ID_ct\"]/div[1]/div[2]/div[2]/div[1]/div/ul/li/a/span[2]' data='<span class=\"ah_k\">대명리조트</span>'>,\n",
       " <Selector xpath='//*[@id=\"PM_ID_ct\"]/div[1]/div[2]/div[2]/div[1]/div/ul/li/a/span[2]' data='<span class=\"ah_k\">거미</span>'>,\n",
       " <Selector xpath='//*[@id=\"PM_ID_ct\"]/div[1]/div[2]/div[2]/div[1]/div/ul/li/a/span[2]' data='<span class=\"ah_k\">최화정 나이</span>'>,\n",
       " <Selector xpath='//*[@id=\"PM_ID_ct\"]/div[1]/div[2]/div[2]/div[1]/div/ul/li/a/span[2]' data='<span class=\"ah_k\">세르비아 스위스</span>'>,\n",
       " <Selector xpath='//*[@id=\"PM_ID_ct\"]/div[1]/div[2]/div[2]/div[1]/div/ul/li/a/span[2]' data='<span class=\"ah_k\">최유정</span>'>,\n",
       " <Selector xpath='//*[@id=\"PM_ID_ct\"]/div[1]/div[2]/div[2]/div[1]/div/ul/li/a/span[2]' data='<span class=\"ah_k\">종부세</span>'>,\n",
       " <Selector xpath='//*[@id=\"PM_ID_ct\"]/div[1]/div[2]/div[2]/div[1]/div/ul/li/a/span[2]' data='<span class=\"ah_k\">배그 점검</span>'>,\n",
       " <Selector xpath='//*[@id=\"PM_ID_ct\"]/div[1]/div[2]/div[2]/div[1]/div/ul/li/a/span[2]' data='<span class=\"ah_k\">배틀그라운드</span>'>,\n",
       " <Selector xpath='//*[@id=\"PM_ID_ct\"]/div[1]/div[2]/div[2]/div[1]/div/ul/li/a/span[2]' data='<span class=\"ah_k\">아르헨티나 크로아티아</span>'>,\n",
       " <Selector xpath='//*[@id=\"PM_ID_ct\"]/div[1]/div[2]/div[2]/div[1]/div/ul/li/a/span[2]' data='<span class=\"ah_k\">밥블레스유</span>'>,\n",
       " <Selector xpath='//*[@id=\"PM_ID_ct\"]/div[1]/div[2]/div[2]/div[1]/div/ul/li/a/span[2]' data='<span class=\"ah_k\">부산 수돗물</span>'>,\n",
       " <Selector xpath='//*[@id=\"PM_ID_ct\"]/div[1]/div[2]/div[2]/div[1]/div/ul/li/a/span[2]' data='<span class=\"ah_k\">김비서가 왜그럴까 유괴</span>'>,\n",
       " <Selector xpath='//*[@id=\"PM_ID_ct\"]/div[1]/div[2]/div[2]/div[1]/div/ul/li/a/span[2]' data='<span class=\"ah_k\">아르헨티나</span>'>,\n",
       " <Selector xpath='//*[@id=\"PM_ID_ct\"]/div[1]/div[2]/div[2]/div[1]/div/ul/li/a/span[2]' data='<span class=\"ah_k\">월드컵 조별순위</span>'>,\n",
       " <Selector xpath='//*[@id=\"PM_ID_ct\"]/div[1]/div[2]/div[2]/div[1]/div/ul/li/a/span[2]' data='<span class=\"ah_k\">김비서가 왜그럴까 줄거리</span>'>]"
      ]
     },
     "execution_count": 9,
     "metadata": {},
     "output_type": "execute_result"
    }
   ],
   "source": [
    "# 네이버 실시간 검색어 20개 엘리먼트 객체\n",
    "response.xpath('//*[@id=\"PM_ID_ct\"]/div[1]/div[2]/div[2]/div[1]/div/ul/li/a/span[2]')"
   ]
  },
  {
   "cell_type": "code",
   "execution_count": 10,
   "metadata": {},
   "outputs": [
    {
     "data": {
      "text/plain": [
       "[<Selector xpath='//*[@id=\"PM_ID_ct\"]/div[1]/div[2]/div[2]/div[1]/div/ul/li/a/span[2]/text()' data='대구 수돗물'>,\n",
       " <Selector xpath='//*[@id=\"PM_ID_ct\"]/div[1]/div[2]/div[2]/div[1]/div/ul/li/a/span[2]/text()' data='조정석'>,\n",
       " <Selector xpath='//*[@id=\"PM_ID_ct\"]/div[1]/div[2]/div[2]/div[1]/div/ul/li/a/span[2]/text()' data='최화정'>,\n",
       " <Selector xpath='//*[@id=\"PM_ID_ct\"]/div[1]/div[2]/div[2]/div[1]/div/ul/li/a/span[2]/text()' data='나이지리아 아이슬란드'>,\n",
       " <Selector xpath='//*[@id=\"PM_ID_ct\"]/div[1]/div[2]/div[2]/div[1]/div/ul/li/a/span[2]/text()' data='브라질 코스타리카'>,\n",
       " <Selector xpath='//*[@id=\"PM_ID_ct\"]/div[1]/div[2]/div[2]/div[1]/div/ul/li/a/span[2]/text()' data='대명리조트'>,\n",
       " <Selector xpath='//*[@id=\"PM_ID_ct\"]/div[1]/div[2]/div[2]/div[1]/div/ul/li/a/span[2]/text()' data='거미'>,\n",
       " <Selector xpath='//*[@id=\"PM_ID_ct\"]/div[1]/div[2]/div[2]/div[1]/div/ul/li/a/span[2]/text()' data='최화정 나이'>,\n",
       " <Selector xpath='//*[@id=\"PM_ID_ct\"]/div[1]/div[2]/div[2]/div[1]/div/ul/li/a/span[2]/text()' data='세르비아 스위스'>,\n",
       " <Selector xpath='//*[@id=\"PM_ID_ct\"]/div[1]/div[2]/div[2]/div[1]/div/ul/li/a/span[2]/text()' data='최유정'>,\n",
       " <Selector xpath='//*[@id=\"PM_ID_ct\"]/div[1]/div[2]/div[2]/div[1]/div/ul/li/a/span[2]/text()' data='종부세'>,\n",
       " <Selector xpath='//*[@id=\"PM_ID_ct\"]/div[1]/div[2]/div[2]/div[1]/div/ul/li/a/span[2]/text()' data='배그 점검'>,\n",
       " <Selector xpath='//*[@id=\"PM_ID_ct\"]/div[1]/div[2]/div[2]/div[1]/div/ul/li/a/span[2]/text()' data='배틀그라운드'>,\n",
       " <Selector xpath='//*[@id=\"PM_ID_ct\"]/div[1]/div[2]/div[2]/div[1]/div/ul/li/a/span[2]/text()' data='아르헨티나 크로아티아'>,\n",
       " <Selector xpath='//*[@id=\"PM_ID_ct\"]/div[1]/div[2]/div[2]/div[1]/div/ul/li/a/span[2]/text()' data='밥블레스유'>,\n",
       " <Selector xpath='//*[@id=\"PM_ID_ct\"]/div[1]/div[2]/div[2]/div[1]/div/ul/li/a/span[2]/text()' data='부산 수돗물'>,\n",
       " <Selector xpath='//*[@id=\"PM_ID_ct\"]/div[1]/div[2]/div[2]/div[1]/div/ul/li/a/span[2]/text()' data='김비서가 왜그럴까 유괴'>,\n",
       " <Selector xpath='//*[@id=\"PM_ID_ct\"]/div[1]/div[2]/div[2]/div[1]/div/ul/li/a/span[2]/text()' data='아르헨티나'>,\n",
       " <Selector xpath='//*[@id=\"PM_ID_ct\"]/div[1]/div[2]/div[2]/div[1]/div/ul/li/a/span[2]/text()' data='월드컵 조별순위'>,\n",
       " <Selector xpath='//*[@id=\"PM_ID_ct\"]/div[1]/div[2]/div[2]/div[1]/div/ul/li/a/span[2]/text()' data='김비서가 왜그럴까 줄거리'>]"
      ]
     },
     "execution_count": 10,
     "metadata": {},
     "output_type": "execute_result"
    }
   ],
   "source": [
    "# 객체의 데이터 변수에 텍스트만 들어가도록 \n",
    "response.xpath('//*[@id=\"PM_ID_ct\"]\\\n",
    "/div[1]/div[2]/div[2]/div[1]/div/ul/li/a/span[2]/text()')"
   ]
  },
  {
   "cell_type": "code",
   "execution_count": 11,
   "metadata": {},
   "outputs": [
    {
     "data": {
      "text/plain": [
       "['대구 수돗물',\n",
       " '조정석',\n",
       " '최화정',\n",
       " '나이지리아 아이슬란드',\n",
       " '브라질 코스타리카',\n",
       " '대명리조트',\n",
       " '거미',\n",
       " '최화정 나이',\n",
       " '세르비아 스위스',\n",
       " '최유정',\n",
       " '종부세',\n",
       " '배그 점검',\n",
       " '배틀그라운드',\n",
       " '아르헨티나 크로아티아',\n",
       " '밥블레스유',\n",
       " '부산 수돗물',\n",
       " '김비서가 왜그럴까 유괴',\n",
       " '아르헨티나',\n",
       " '월드컵 조별순위',\n",
       " '김비서가 왜그럴까 줄거리']"
      ]
     },
     "execution_count": 11,
     "metadata": {},
     "output_type": "execute_result"
    }
   ],
   "source": [
    "# 문자열만 추출하기\n",
    "response.xpath('//*[@id=\"PM_ID_ct\"]\\\n",
    "/div[1]/div[2]/div[2]/div[1]/div/ul/li/a/span[2]/text()')[:10].extract()"
   ]
  },
  {
   "cell_type": "code",
   "execution_count": 22,
   "metadata": {},
   "outputs": [
    {
     "name": "stdout",
     "output_type": "stream",
     "text": [
      "대구 수돗물\n",
      "나이지리아 아이슬란드\n",
      "거미\n",
      "최화정\n",
      "브라질 코스타리카\n",
      "조정석\n",
      "에브라\n",
      "세르비아 스위스\n",
      "종부세\n",
      "밥블레스유\n",
      "월드컵 조별순위\n",
      "유소영\n",
      "대명리조트\n",
      "아르헨티나 크로아티아\n",
      "고종수\n",
      "최화정 나이\n",
      "배그 점검\n",
      "아르헨티나\n",
      "조현우 아내\n",
      "크로아티아\n"
     ]
    }
   ],
   "source": [
    "# . 을 이용해서 가져오기\n",
    "keywords = response.xpath('//*[@id=\"PM_ID_ct\"]/div[1]/div[2]/div[2]\\\n",
    "/div[1]/div/ul/li')\n",
    "# /a/span[2]/text()\n",
    "for keyword in keywords:\n",
    "    print(keyword.xpath('./a/span[2]/text()')[0].extract())"
   ]
  },
  {
   "cell_type": "code",
   "execution_count": 14,
   "metadata": {},
   "outputs": [],
   "source": [
    "# 다음 실시간 검색어 리스트 출력\n",
    "url = \"http://daum.net\"\n",
    "rep = requests.get(url)\n",
    "response = TextResponse(rep.url, body=rep.text, encoding=\"utf-8\")"
   ]
  },
  {
   "cell_type": "code",
   "execution_count": 18,
   "metadata": {},
   "outputs": [
    {
     "data": {
      "text/plain": [
       "['대구 수돗물',\n",
       " '거미',\n",
       " '조정석',\n",
       " '강원도 교육청',\n",
       " '종부세',\n",
       " '산다라박',\n",
       " '케이트 스페이드',\n",
       " '오승환',\n",
       " '보유세',\n",
       " '옥상달빛 김윤주']"
      ]
     },
     "execution_count": 18,
     "metadata": {},
     "output_type": "execute_result"
    }
   ],
   "source": [
    "response.xpath('//*[@id=\"mArticle\"]/div[2]/div[2]/div[2]/div[1]\\\n",
    "/ol/li/div/div[1]/span[2]/a/text()').extract()"
   ]
  },
  {
   "cell_type": "code",
   "execution_count": 25,
   "metadata": {},
   "outputs": [],
   "source": [
    "# gmarket 베스트 아이템\n",
    "url = \"http://corners.gmarket.co.kr/Bestsellers\"\n",
    "rep = requests.get(url)\n",
    "response = TextResponse(rep.url, body=rep.text, encoding=\"utf-8\")"
   ]
  },
  {
   "cell_type": "code",
   "execution_count": 28,
   "metadata": {},
   "outputs": [
    {
     "data": {
      "text/plain": [
       "(200,\n",
       " ['[빕스](빕스) 평일 디너/주말 샐러드바1인',\n",
       "  '[빕스](빕스) 평일 런치 샐러드바1인',\n",
       "  '모스트맘 쿨하게가즈아~ 냉감 쿨세트/원피스/파자마',\n",
       "  '사은품 여름모자/여름가방/아동/리본햇/라탄백',\n",
       "  '+여름 반팔티+ 빅사이즈77-99 롱/루즈핏/스트라이프',\n",
       "  '[월드컵]월드컵 성인 키즈 인기 운동화/슬리퍼',\n",
       "  '[샐리]샐리 더위에도 산뜻하게 썸머 블라우스/티셔츠',\n",
       "  '(기획특가)일렉트로맨 에어프라이어 (AFG-2801)',\n",
       "  '[크리넥스]크리넥스 마이비데리필 46매10팩/물티슈/화장지/휴지',\n",
       "  '데일리콤마 디퓨저 본품 100ml 1+1+1+1 /신향 출시',\n",
       "  '스위스밀리터리/페이크삭스/덧신/스니커즈/최대10족',\n",
       "  '1+1 여름 신상품 워싱스프레드(Q)',\n",
       "  '[디프니]디프니~여름신상 롱원피스/티셔츠',\n",
       "  'CJ 햇반 210G 12입 기획 X 4 (총 48입) / 무료배송/ 씨제이제일제당',\n",
       "  '세계 판매 1위 유산균  컬처렐 다이제스티브 헬스(30캡슐) 1+1',\n",
       "  '[앤디애플]아동복/상하복/반바지/원피스/치마/레깅스/반팔',\n",
       "  '닥터방기원 탈모샴푸 탈모증상완화 임상시험완료',\n",
       "  '[아디다스]캠퍼스 외 12종 택1 (AQ1089 B41939 B37725 B37726 BY4392 BY3574 B41674 AQ1134 B28156 AQ1214)/ 아디다스',\n",
       "  '[동원에프앤비]디 레몬 톡 500mlx20병+쿨피스톡레몬콜라24캔 /자몽',\n",
       "  '쿠션솜+커버 풀세트/패브릭포스터/방석/배게/등쿠션',\n",
       "  'PVC 그루트 피규어 장난감 펜 홀더 화분',\n",
       "  '[동원참치]마일드참치 150gx7캔+후레쉬150gx3캔+(김자반2봉)/EPA',\n",
       "  '[돌핀]폴라레티 후르츠 트로피칼 아이스바 40mlx70개 쭈쭈바',\n",
       "  '[미쏘]미쏘 외 이랜드썸머 브랜드 몽땅모아 전~',\n",
       "  '[토리밤]여름히트 풍기인견/자가드/유아동/주니어/내의/실내복',\n",
       "  '추성훈나시티 기능성티셔츠 반팔 쿨 반바지 등산바지',\n",
       "  '[동원샘물미네마인]동원 샘물 2Lx9병x3팩(총 27병) /생수',\n",
       "  '[CJ]CJ 비비고 사골곰탕x10개 무료배송/육개장/만두',\n",
       "  '[팬콧]팬콧 남녀 여름 반팔/원피스/팬츠/모자/슬리퍼 특가',\n",
       "  '[탑모델]여름신상 샌들 스트랩/웨지/슬리퍼/플랫샌들/구두',\n",
       "  '[홈닥터]저주파마사지기 홈닥터 HD SYK-2018 저주파안마기',\n",
       "  '밀크바오밥 베이비로션 1+1 / 수딩젤 / 워시 /샴푸',\n",
       "  '[시크릿키]시크릿키 베스트 스윗 글램 투톤 외 최대 50%할인',\n",
       "  '[마미포코]쿨썸머그린 팬티3팩/밴드2팩/2박스구매시튜브증정',\n",
       "  '[미샤]미샤 6월 썸머 페스티벌 전품목 1+1 (6/19~6/23)',\n",
       "  '[쁘리엘르]여름 이불베개세트 패드 침구/시어서커 인견 스프레드',\n",
       "  '꼰띠키즈 프릴티/레깅스/원피스 59~99균일가전',\n",
       "  '[디프니]디프니 여름신상 큐티원피스/블라우스/셔츠',\n",
       "  '타임리스 여름신상 린넨 티셔츠/민소매/나시/원피스',\n",
       "  '보니렌 휴대용/선풍기/5엽날개/탁상/미니/유모차/usb',\n",
       "  '9900의 행복/공기정화식물36종/중대형/화분/미세먼지',\n",
       "  '[동원에프앤비]덴마크 무항생제 목장우유120mlx24개+(3개추가) /멸균',\n",
       "  '[블랙야크키즈](신세계하남점)2018 신상품 역시즌특가  블랙야크키즈 BK투미 여아 구스다운벤치파카',\n",
       "  '서래푸드 브라질너트 반태 500g+500g 페루산',\n",
       "  '[크리넥스]순수 30롤 2팩 + 베이킹소다 550g /휴지/화장지',\n",
       "  '프리미엄 참쥐포 최대 30마리/튀김쥐포/육포/짱다리',\n",
       "  '업계를 리드하는 기업 3SK택배박스',\n",
       "  '[마녀김치](국산) 마녀 포기김치10kg / 배추김치',\n",
       "  '[아망떼]1+1여름베개커버/인견/순면/30x50/40x60/50x70',\n",
       "  '무료배송 국내생산 종이컵 2000개 1Box/특별기획상품',\n",
       "  '1+1 아날도바시니 캐릭터 거실화 슬리퍼 욕실화',\n",
       "  '[맥심]할인가32900원~모카골드/화이트 340T/320T/커피믹스',\n",
       "  '[랩]LAP 신상화보 첫공개+15% 쿠폰+이모티콘+마우스패드',\n",
       "  '매월 둘째 주 추가할인 / 박스포유 택배박스',\n",
       "  '[위즈홈]위즈홈 빨래건조대 6단',\n",
       "  '[클라우드로랑]프랑스브랜드 C.LAURENT 2018 뉴 런칭 여성가방',\n",
       "  '[비버리힐스폴로클럽]1매3400원/드로즈/사각/팬티/남성/남자/세트/면/속옷',\n",
       "  '샌들 99균일가 플랫샌들 스트랩 웨지 슬리퍼 슬링백',\n",
       "  '[아몬드브리즈]쿠폰가12900 매일 아몬드브리즈 190ml 24팩/두유',\n",
       "  '[쏘피]바디피트 순간흡수 16Px6팩+쿠폰할인 초특가/생리대',\n",
       "  '글램공감/ABCD컵 여성속옷세트/왕뽕/빅사이즈/버블돌',\n",
       "  '3+1 2018년 프롬비 휴대용 선풍기 매직스톰 핸즈프리',\n",
       "  '매트피니쉬 타투틴트 1+1/립스틱/여름 타투 메이크업',\n",
       "  '비키니/바캉스룩/원피스/수영복/로브가디건 여름준비',\n",
       "  '티메이 원피스 블라우스 스커트 롱원피스',\n",
       "  '[쿠첸]쿠첸 6인용 전기압력밥솥/전기밥솥/밥솥 CJS-FA0601V',\n",
       "  '착한푸드 깔라만시원액 페트 1000ml 1+1+1',\n",
       "  '또~ 신상 업뎃 플랫 샌들  7900원 세일~/스트랩/웨지',\n",
       "  '[비너스]비비안외 브라팬티세트/A-F컵/여성속옷/여자/빅사이즈',\n",
       "  '[파세코]파세코 써큘레이터 공기순환기 PCF-D087AB',\n",
       "  '니베아 데오드란트 블랙앤화이트 200mlX2개+데오 35ml',\n",
       "  '스미후루 로즈바나나 4팩+4팩 증정 (2.4kg) - 무료배송',\n",
       "  '대박 장난감 완구 창고 대방출 최대할인',\n",
       "  '에스쁘아 베스트템 최대 50%off',\n",
       "  '린넨 강자 로드블링 신상9900원/원피스/린넨/하객',\n",
       "  '역대급특가/반바지/치마바지/숏팬츠/청바지/SALE',\n",
       "  '[요즘에]여름신상 주말 역대급특가/반바지/치마/슬랙스/청바지',\n",
       "  '[맥심]할인32900)모카골드 커피믹스 340T/화이트골드',\n",
       "  '[어퓨]어퓨 6월 빅세일 UP TO 50% 선케어1+1',\n",
       "  '[홈플러스]안성농협_안성쌀_20KG 포 ',\n",
       "  '브랜드5/브라+팬티/여성속옷세트/ABCD컵/왕뽕',\n",
       "  '[잘풀리는집]잘풀리는집 새싹이 물티슈 캡형 100매 15팩/화장지',\n",
       "  '천지양 벌꿀품은 국내산 6년근 홍삼스틱 30포+쇼핑백',\n",
       "  '[카파]카파 2018년 흡습속건 반팔반바지 세트 KJRSTK283MO',\n",
       "  '캐릭터 아동샌들 슬리퍼 메쉬운동화 아쿠아워터슈즈',\n",
       "  '거시기장터 옥정영농 2018년 햅찰보리5kg+5kg/무배/',\n",
       "  '[네슬레]네슬레 퓨어라이프 2Lx12 500mlx20 330mlx20 생수 물',\n",
       "  '덴마크유산균 100억 프로바이오틱스 2개월 특가 장건강',\n",
       "  '[바자르]바자르 아이스 쿨젤매트 4종 택1',\n",
       "  '[대우]대우 에어프라이어 블랙 공기튀김기 포토상품평이벤트',\n",
       "  '[맥심]쿠폰가36900원~/화이트/모카골드 420T/400T/커피믹스',\n",
       "  '더다다/원피스형 롱티/신상/루즈/박시/빅사이즈',\n",
       "  '단하루 역대급특가 투투 ~3XL/린넨/슬랙스/반바지',\n",
       "  '[에스오일](S-OIL) 모바일주유권 5만원/ 실시간발송',\n",
       "  '[유리카]SNS 화제상품 유리카 BEST 눈썹 ITEM 1+1 모음전',\n",
       "  '[아디다스오리지널스](아디다스본사)코트밴티지 /CQ2570',\n",
       "  '[아가타]아가타 쥬얼 펀칭 샌들 + 뮬 샌들 (총 2종)',\n",
       "  '아이러브베베물티슈핑크 100매 리필형X20팩',\n",
       "  'CJ 햇반200gx24개/오뚜기밥24개/컵밥10개/컵반',\n",
       "  '여름신상 남자청바지/빅사이즈/스판/일자/면바지/행사',\n",
       "  '모니카룸/신상/Best상품/감성데일리룩/캐주얼룩',\n",
       "  '[노스페이스키즈]여름 상하복/라운지웨어/반팔티/슬리퍼/샌들 35종 택1',\n",
       "  '[팬콧키즈]15%쿠폰할인+여름 신상 샌들 아쿠아슈즈',\n",
       "  '[젤리스푼]아동복/상하복/원피스/반팔티/레깅스/팬츠/수영복',\n",
       "  '종이컵//계량컵//2000개 한박스//눈금표시//무형광',\n",
       "  '(6/22특가) 에이핀 35cm 프리미엄 선풍기/리모컨 홍진',\n",
       "  '여름신상 원피스44~110빅사이즈 루즈핏 린넨 쉬폰 롱',\n",
       "  '올리(Ollie) 여성 여름 샌들/슬리퍼/에스파듀/통굽',\n",
       "  '캐릭터 모기밴드 5갑/아이스겔/패치/팔찌/뽀로로/기피',\n",
       "  '여름 7부티/남자반팔티/라운드/반팔티/남성/티셔츠',\n",
       "  '[백산수]농심 백산수 2L x 24병 / 생수',\n",
       "  '브리치x콤마엠 신상 원피스/스커트 80종 +10%쿠폰',\n",
       "  '하리보 젤리 골드베렌980g 웰치스젤리 후르트텔라',\n",
       "  '5900원~아쿠아슈즈 샌들 남성 여성샌들 아쿠아신발',\n",
       "  '(톰앤래빗) 지금필요한 BEST100',\n",
       "  '스파클생수 2리터 24병',\n",
       "  '[크로커다일](현대Hmall)[무료배송][크로커다일][기존가78000원] 스트레치 버뮤다팬츠 모음전 7종택1',\n",
       "  '[트라이]5매4900원/여자팬티/여성팬티/여성속옷/여자속옷',\n",
       "  '메이킹유 예쁜룩 완성 블라우스/원피스 모음',\n",
       "  '[에이지투웨니스]에이지투웨니스 에센스 커버팩트 시즌10 RX 1종견미리',\n",
       "  '[카카오프렌즈]카카오 노트8 5 4 S9 S8 G6 아이폰X 7 핸드폰 케이스',\n",
       "  '우리스카이종이컵 2000개/6.5oz자판기용 /국내산',\n",
       "  '베베맘마 아기 물티슈 100매 X 20팩 리필형',\n",
       "  '명진박스 10+1행사 택배박스 무지박스 박스',\n",
       "  '삼성전자 8G PC4-19200 (정품)',\n",
       "  '[소보제화]격자무늬 스트랩 스포티샌들',\n",
       "  '티셔츠5장9900 원피스/티셔츠/린넨팬츠 세트',\n",
       "  'NESTA 남녀 스트릿 반팔 티셔츠 특가',\n",
       "  '[CGV](CGV) 영화관람권 1매/예매권/전일 사용가능',\n",
       "  '(체리빌레)여름신상 예쁜 원피스/하객룩/플라워/린넨',\n",
       "  '[동원참치]동원 건강한참치 100gx9캔 +마일드 100gx3캔 (총12캔)',\n",
       "  '[머거본]단하루만/땅콩 균일가 6개 골라담기',\n",
       "  '2018 New 차이슨 디베아 D18 무선 청소기',\n",
       "  '(공식판매처/QR발송) 캐리비안 베이 종일권/자켓/방수팩패키지',\n",
       "  '언니드랑 블라우스/원피스/팬츠/스커트/린넨',\n",
       "  '(1+1)쿨링바지 통바지/아이스슬랙스/반바지 XXL까지',\n",
       "  '오난코리아 루메나 N9-FAN STAND 서큘레이터형 선풍기',\n",
       "  'UV차단 기능성~4XL/여름 쿨레깅스/치마/린넨/밴딩팬츠',\n",
       "  '파격특가 슈프림정품 반팔티 반바지 무지티 티셔츠',\n",
       "  '[미샤]미샤 6월 썸머 HOT ITEM / 선케어 1+1 (6/19~6/23)',\n",
       "  '[쓰임]맥주컵 겸용 유리컵 세트 11종 모음',\n",
       "  '[카누](쿠폰가17900)카누아이스미니100T+20T/텀블러/커피',\n",
       "  '[까페리얼]쿠폰가9400 쟈뎅 아이스커피 1.5L X6pet +증정컵/커피',\n",
       "  '[스티유(Stiu)](신세계강남점)[스티유] 여성화 바캉스준비 스포티샌들 8종택1',\n",
       "  '[순창](기획)순창 찰고추장1kgx2+450gx2/양념/소스',\n",
       "  '[홈플러스](행사상품)청원생명쌀법인_청원생명쌀_10KG 포 ',\n",
       "  '쁘띠뮤/초특가 상하세트 원피스 레깅스 래쉬가드 잠옷',\n",
       "  '[오뚜기]40%할인 오뚜기 참치/야채/고추 150g X 12개',\n",
       "  '특가 보드게임 174종 할리갈리/루미큐브 무료배송',\n",
       "  '올리(Ollie) 여성 슬리퍼/스포츠/샌들',\n",
       "  'TV쇼핑 바툼 에어쿨 미니 냉풍기 냉방기 아이큐샵',\n",
       "  '[이디야커피](이디야커피) 모바일금액권 1만원',\n",
       "  '2017년산 햅쌀 황금미가 20kg/10kg',\n",
       "  '대박난박양 빅사이즈 원피스 블라우스 티셔츠 바지',\n",
       "  '[닥터마밍](New)닥터마밍 라이트 아기물티슈 캡형 72매 10팩',\n",
       "  '셰프웨어  기획세트 쌀통10kg+잡곡통2개 총3종세트',\n",
       "  '[프렌치카페](쿠폰가23660)남양 프렌치카페 커피믹스 300T+10Tx2',\n",
       "  '[HP]HP A4 복사용지(A4용지) 80g 2500매 2BOX/더블에이',\n",
       "  '[보솜이]소프트 슬림 밴드/팬티 기저귀 x 4팩',\n",
       "  '[비버리힐스폴로클럽]드로즈 1매 2900원/사각/팬티/남성/속옷',\n",
       "  '[설화수](APM) 설화수 상백크림 / 옥용팩 外 (택1)',\n",
       "  '[아디다스오리지널스]빅 트레포일 티 [CE2436 DH3165 DH4428 DH4429]/ 아디다스 오리지날',\n",
       "  '자두와 살구의 특별한 만남 신품종 플럼코트 450g',\n",
       "  'S~4XL 반팔티/티셔츠/남자/면티/남성/의류/티/반팔',\n",
       "  '달리샵/스커트/바캉스룩/린넨/롱/빅사이즈/쉬폰',\n",
       "  '[코디아이]여름신상/반소내의/칠부내의/수면조끼/바디/우주복',\n",
       "  '루나샵 여름신상특가 5900원~티셔츠/기본/롱티/박스티',\n",
       "  '브리치x럭키567 여름최신상 티셔츠 /원피스/스커트',\n",
       "  '삠뽀요/전상픔SALE 베이비 상하복 원피스 래쉬가드',\n",
       "  '제주특별자치도개발공사 제주 삼다수 2L 12병',\n",
       "  'Dole주스 120mlx32팩 100%과즙 5종 포도 파인 망고',\n",
       "  '[아디다스]나이키 아디다스 인기 반바지 쇼트 모음',\n",
       "  '이벤트특가_대웅/보국 스탠드선풍기(CZ-T0521)',\n",
       "  '[아웃백스테이크하우스](아웃백) 디지털 5만원권',\n",
       "  '[호호에미]친환경세제 아기세제 유아 세제 섬유유연제 천연세제',\n",
       "  '[피스넷]끊김없는 완전무선 블루투스이어폰 피스넷 프리고 블랙',\n",
       "  '[삼성전자]CLT-K404S C/M/Y SL-C430 432 433 480 482 483 FW W',\n",
       "  '차량용 음성 경보 과속 단속 레이더 탐지기 2종',\n",
       "  '삼성전자 노트북5 NT500R5W-LD2A (기본)',\n",
       "  '(단독판매/공식판매처) 에버랜드 레귤러 연간이용권(5/23~6/24까지 등록가능)',\n",
       "  '[나이키]W 클래식 코르테즈 레더 NIKE 807471-103 여성',\n",
       "  '대방출 문구세트 크레파스 색연필 색종이 생일선물',\n",
       "  '코코리 여름신상 반팔 롱티 박스티 프린트맨투맨',\n",
       "  '[아디다스]아디다스 에스트로 신형입고 인기컬러 긴급재입고',\n",
       "  'MBC드라마출연 웰빙 튀김기 리빙웰 에어프라이어 특가',\n",
       "  '한큐 모기사냥올킬 LED 모기퇴치기 USB 해충퇴치기',\n",
       "  '여름신상/롱티셔츠/반바지/원피스/블라우스/팬츠',\n",
       "  '키즈웰 젤리스트로우 800GX2개',\n",
       "  '데일리샵 여름 티셔츠 신상/빅사이즈/반팔',\n",
       "  'F~2XL 라인이 이쁜 루즈 스타일 빅사이즈 티셔츠',\n",
       "  '[테리파머]호텔수건 미국목화 타올 수건 리본포장 타월',\n",
       "  '여름 로브가디건.롱가디건.쉬폰가디건.숄가디건',\n",
       "  '[윈드피아]가정용 업소용 벽걸이 스탠드 휴대용 선풍기  WA-370',\n",
       "  '[다온샵]특급할인 치마바지 ~3XL 청바지/반바지여자스키니SALE',\n",
       "  '[로이체]BTS-30KM 블루투스 무선마이크/로즈골드/미러볼 증정',\n",
       "  '허니데이 블라우스/원피스/스커트 균일가',\n",
       "  'CJ 햇반210g x 24개입 /오뚜기밥/즉석밥',\n",
       "  '여름 남자 반바지/청/5부/7부/면/스판/카고/린넨/행사',\n",
       "  '[푸마]푸마 363073 바스켓하트 왕리본끈 애나멜 화이트 블랙 스니커즈 여성 운동화 추천 김유정 신발 플랫폼 퓨마',\n",
       "  '[머큐리]핸드폰 갤럭시S9 S8플러스 S7 S6 노트8 노트5 4 A8 J5'])"
      ]
     },
     "execution_count": 28,
     "metadata": {},
     "output_type": "execute_result"
    }
   ],
   "source": [
    "# 베스트 200 아이템 제목 문자열 리스트로 가져오기\n",
    "titles = response.xpath('//*[@id=\"gBestWrap\"]/div/div[3]/div[2]/ul/li/a\\\n",
    "/text()').extract()\n",
    "len(titles), titles"
   ]
  },
  {
   "cell_type": "code",
   "execution_count": 29,
   "metadata": {
    "scrolled": true
   },
   "outputs": [
    {
     "data": {
      "text/plain": [
       "(50,\n",
       " ['[빕스](빕스) 평일 디너/주말 샐러드바1인',\n",
       "  '+여름 반팔티+ 빅사이즈77-99 롱/루즈핏/스트라이프',\n",
       "  '[크리넥스]크리넥스 마이비데리필 46매10팩/물티슈/화장지/휴지',\n",
       "  '[디프니]디프니~여름신상 롱원피스/티셔츠',\n",
       "  '닥터방기원 탈모샴푸 탈모증상완화 임상시험완료',\n",
       "  'PVC 그루트 피규어 장난감 펜 홀더 화분',\n",
       "  '[토리밤]여름히트 풍기인견/자가드/유아동/주니어/내의/실내복',\n",
       "  '[팬콧]팬콧 남녀 여름 반팔/원피스/팬츠/모자/슬리퍼 특가',\n",
       "  '[시크릿키]시크릿키 베스트 스윗 글램 투톤 외 최대 50%할인',\n",
       "  '꼰띠키즈 프릴티/레깅스/원피스 59~99균일가전',\n",
       "  '9900의 행복/공기정화식물36종/중대형/화분/미세먼지',\n",
       "  '[크리넥스]순수 30롤 2팩 + 베이킹소다 550g /휴지/화장지',\n",
       "  '[아망떼]1+1여름베개커버/인견/순면/30x50/40x60/50x70',\n",
       "  '[랩]LAP 신상화보 첫공개+15% 쿠폰+이모티콘+마우스패드',\n",
       "  '[비버리힐스폴로클럽]1매3400원/드로즈/사각/팬티/남성/남자/세트/면/속옷',\n",
       "  '글램공감/ABCD컵 여성속옷세트/왕뽕/빅사이즈/버블돌',\n",
       "  '티메이 원피스 블라우스 스커트 롱원피스',\n",
       "  '[비너스]비비안외 브라팬티세트/A-F컵/여성속옷/여자/빅사이즈',\n",
       "  '대박 장난감 완구 창고 대방출 최대할인',\n",
       "  '[요즘에]여름신상 주말 역대급특가/반바지/치마/슬랙스/청바지',\n",
       "  '브랜드5/브라+팬티/여성속옷세트/ABCD컵/왕뽕',\n",
       "  '캐릭터 아동샌들 슬리퍼 메쉬운동화 아쿠아워터슈즈',\n",
       "  '[바자르]바자르 아이스 쿨젤매트 4종 택1',\n",
       "  '단하루 역대급특가 투투 ~3XL/린넨/슬랙스/반바지',\n",
       "  '[아가타]아가타 쥬얼 펀칭 샌들 + 뮬 샌들 (총 2종)',\n",
       "  '모니카룸/신상/Best상품/감성데일리룩/캐주얼룩',\n",
       "  '종이컵//계량컵//2000개 한박스//눈금표시//무형광',\n",
       "  '캐릭터 모기밴드 5갑/아이스겔/패치/팔찌/뽀로로/기피',\n",
       "  '하리보 젤리 골드베렌980g 웰치스젤리 후르트텔라',\n",
       "  '[크로커다일](현대Hmall)[무료배송][크로커다일][기존가78000원] 스트레치 버뮤다팬츠 모음전 7종택1',\n",
       "  '[카카오프렌즈]카카오 노트8 5 4 S9 S8 G6 아이폰X 7 핸드폰 케이스',\n",
       "  '삼성전자 8G PC4-19200 (정품)',\n",
       "  '[CGV](CGV) 영화관람권 1매/예매권/전일 사용가능',\n",
       "  '2018 New 차이슨 디베아 D18 무선 청소기',\n",
       "  '오난코리아 루메나 N9-FAN STAND 서큘레이터형 선풍기',\n",
       "  '[쓰임]맥주컵 겸용 유리컵 세트 11종 모음',\n",
       "  '[순창](기획)순창 찰고추장1kgx2+450gx2/양념/소스',\n",
       "  '특가 보드게임 174종 할리갈리/루미큐브 무료배송',\n",
       "  '2017년산 햅쌀 황금미가 20kg/10kg',\n",
       "  '[프렌치카페](쿠폰가23660)남양 프렌치카페 커피믹스 300T+10Tx2',\n",
       "  '[설화수](APM) 설화수 상백크림 / 옥용팩 外 (택1)',\n",
       "  '달리샵/스커트/바캉스룩/린넨/롱/빅사이즈/쉬폰',\n",
       "  '삠뽀요/전상픔SALE 베이비 상하복 원피스 래쉬가드',\n",
       "  '이벤트특가_대웅/보국 스탠드선풍기(CZ-T0521)',\n",
       "  '[삼성전자]CLT-K404S C/M/Y SL-C430 432 433 480 482 483 FW W',\n",
       "  '[나이키]W 클래식 코르테즈 레더 NIKE 807471-103 여성',\n",
       "  'MBC드라마출연 웰빙 튀김기 리빙웰 에어프라이어 특가',\n",
       "  '데일리샵 여름 티셔츠 신상/빅사이즈/반팔',\n",
       "  '[윈드피아]가정용 업소용 벽걸이 스탠드 휴대용 선풍기  WA-370',\n",
       "  'CJ 햇반210g x 24개입 /오뚜기밥/즉석밥'])"
      ]
     },
     "execution_count": 29,
     "metadata": {},
     "output_type": "execute_result"
    }
   ],
   "source": [
    "# 200개 아이템에서 li 클래스가 first인 데이터만 가져오기\n",
    "titles = response.xpath('//*[@id=\"gBestWrap\"]/div/div[3]/div[2]/ul/\\\n",
    "li[@class=\"first\"]/a/text()').extract()\n",
    "len(titles), titles"
   ]
  },
  {
   "cell_type": "code",
   "execution_count": 30,
   "metadata": {},
   "outputs": [
    {
     "data": {
      "text/plain": [
       "(150,\n",
       " ['[빕스](빕스) 평일 런치 샐러드바1인',\n",
       "  '모스트맘 쿨하게가즈아~ 냉감 쿨세트/원피스/파자마',\n",
       "  '사은품 여름모자/여름가방/아동/리본햇/라탄백',\n",
       "  '[월드컵]월드컵 성인 키즈 인기 운동화/슬리퍼',\n",
       "  '[샐리]샐리 더위에도 산뜻하게 썸머 블라우스/티셔츠',\n",
       "  '(기획특가)일렉트로맨 에어프라이어 (AFG-2801)',\n",
       "  '데일리콤마 디퓨저 본품 100ml 1+1+1+1 /신향 출시',\n",
       "  '스위스밀리터리/페이크삭스/덧신/스니커즈/최대10족',\n",
       "  '1+1 여름 신상품 워싱스프레드(Q)',\n",
       "  'CJ 햇반 210G 12입 기획 X 4 (총 48입) / 무료배송/ 씨제이제일제당',\n",
       "  '세계 판매 1위 유산균  컬처렐 다이제스티브 헬스(30캡슐) 1+1',\n",
       "  '[앤디애플]아동복/상하복/반바지/원피스/치마/레깅스/반팔',\n",
       "  '[아디다스]캠퍼스 외 12종 택1 (AQ1089 B41939 B37725 B37726 BY4392 BY3574 B41674 AQ1134 B28156 AQ1214)/ 아디다스',\n",
       "  '[동원에프앤비]디 레몬 톡 500mlx20병+쿨피스톡레몬콜라24캔 /자몽',\n",
       "  '쿠션솜+커버 풀세트/패브릭포스터/방석/배게/등쿠션',\n",
       "  '[동원참치]마일드참치 150gx7캔+후레쉬150gx3캔+(김자반2봉)/EPA',\n",
       "  '[돌핀]폴라레티 후르츠 트로피칼 아이스바 40mlx70개 쭈쭈바',\n",
       "  '[미쏘]미쏘 외 이랜드썸머 브랜드 몽땅모아 전~',\n",
       "  '추성훈나시티 기능성티셔츠 반팔 쿨 반바지 등산바지',\n",
       "  '[동원샘물미네마인]동원 샘물 2Lx9병x3팩(총 27병) /생수',\n",
       "  '[CJ]CJ 비비고 사골곰탕x10개 무료배송/육개장/만두',\n",
       "  '[탑모델]여름신상 샌들 스트랩/웨지/슬리퍼/플랫샌들/구두',\n",
       "  '[홈닥터]저주파마사지기 홈닥터 HD SYK-2018 저주파안마기',\n",
       "  '밀크바오밥 베이비로션 1+1 / 수딩젤 / 워시 /샴푸',\n",
       "  '[마미포코]쿨썸머그린 팬티3팩/밴드2팩/2박스구매시튜브증정',\n",
       "  '[미샤]미샤 6월 썸머 페스티벌 전품목 1+1 (6/19~6/23)',\n",
       "  '[쁘리엘르]여름 이불베개세트 패드 침구/시어서커 인견 스프레드',\n",
       "  '[디프니]디프니 여름신상 큐티원피스/블라우스/셔츠',\n",
       "  '타임리스 여름신상 린넨 티셔츠/민소매/나시/원피스',\n",
       "  '보니렌 휴대용/선풍기/5엽날개/탁상/미니/유모차/usb',\n",
       "  '[동원에프앤비]덴마크 무항생제 목장우유120mlx24개+(3개추가) /멸균',\n",
       "  '[블랙야크키즈](신세계하남점)2018 신상품 역시즌특가  블랙야크키즈 BK투미 여아 구스다운벤치파카',\n",
       "  '서래푸드 브라질너트 반태 500g+500g 페루산',\n",
       "  '프리미엄 참쥐포 최대 30마리/튀김쥐포/육포/짱다리',\n",
       "  '업계를 리드하는 기업 3SK택배박스',\n",
       "  '[마녀김치](국산) 마녀 포기김치10kg / 배추김치',\n",
       "  '무료배송 국내생산 종이컵 2000개 1Box/특별기획상품',\n",
       "  '1+1 아날도바시니 캐릭터 거실화 슬리퍼 욕실화',\n",
       "  '[맥심]할인가32900원~모카골드/화이트 340T/320T/커피믹스',\n",
       "  '매월 둘째 주 추가할인 / 박스포유 택배박스',\n",
       "  '[위즈홈]위즈홈 빨래건조대 6단',\n",
       "  '[클라우드로랑]프랑스브랜드 C.LAURENT 2018 뉴 런칭 여성가방',\n",
       "  '샌들 99균일가 플랫샌들 스트랩 웨지 슬리퍼 슬링백',\n",
       "  '[아몬드브리즈]쿠폰가12900 매일 아몬드브리즈 190ml 24팩/두유',\n",
       "  '[쏘피]바디피트 순간흡수 16Px6팩+쿠폰할인 초특가/생리대',\n",
       "  '3+1 2018년 프롬비 휴대용 선풍기 매직스톰 핸즈프리',\n",
       "  '매트피니쉬 타투틴트 1+1/립스틱/여름 타투 메이크업',\n",
       "  '비키니/바캉스룩/원피스/수영복/로브가디건 여름준비',\n",
       "  '[쿠첸]쿠첸 6인용 전기압력밥솥/전기밥솥/밥솥 CJS-FA0601V',\n",
       "  '착한푸드 깔라만시원액 페트 1000ml 1+1+1',\n",
       "  '또~ 신상 업뎃 플랫 샌들  7900원 세일~/스트랩/웨지',\n",
       "  '[파세코]파세코 써큘레이터 공기순환기 PCF-D087AB',\n",
       "  '니베아 데오드란트 블랙앤화이트 200mlX2개+데오 35ml',\n",
       "  '스미후루 로즈바나나 4팩+4팩 증정 (2.4kg) - 무료배송',\n",
       "  '에스쁘아 베스트템 최대 50%off',\n",
       "  '린넨 강자 로드블링 신상9900원/원피스/린넨/하객',\n",
       "  '역대급특가/반바지/치마바지/숏팬츠/청바지/SALE',\n",
       "  '[맥심]할인32900)모카골드 커피믹스 340T/화이트골드',\n",
       "  '[어퓨]어퓨 6월 빅세일 UP TO 50% 선케어1+1',\n",
       "  '[홈플러스]안성농협_안성쌀_20KG 포 ',\n",
       "  '[잘풀리는집]잘풀리는집 새싹이 물티슈 캡형 100매 15팩/화장지',\n",
       "  '천지양 벌꿀품은 국내산 6년근 홍삼스틱 30포+쇼핑백',\n",
       "  '[카파]카파 2018년 흡습속건 반팔반바지 세트 KJRSTK283MO',\n",
       "  '거시기장터 옥정영농 2018년 햅찰보리5kg+5kg/무배/',\n",
       "  '[네슬레]네슬레 퓨어라이프 2Lx12 500mlx20 330mlx20 생수 물',\n",
       "  '덴마크유산균 100억 프로바이오틱스 2개월 특가 장건강',\n",
       "  '[대우]대우 에어프라이어 블랙 공기튀김기 포토상품평이벤트',\n",
       "  '[맥심]쿠폰가36900원~/화이트/모카골드 420T/400T/커피믹스',\n",
       "  '더다다/원피스형 롱티/신상/루즈/박시/빅사이즈',\n",
       "  '[에스오일](S-OIL) 모바일주유권 5만원/ 실시간발송',\n",
       "  '[유리카]SNS 화제상품 유리카 BEST 눈썹 ITEM 1+1 모음전',\n",
       "  '[아디다스오리지널스](아디다스본사)코트밴티지 /CQ2570',\n",
       "  '아이러브베베물티슈핑크 100매 리필형X20팩',\n",
       "  'CJ 햇반200gx24개/오뚜기밥24개/컵밥10개/컵반',\n",
       "  '여름신상 남자청바지/빅사이즈/스판/일자/면바지/행사',\n",
       "  '[노스페이스키즈]여름 상하복/라운지웨어/반팔티/슬리퍼/샌들 35종 택1',\n",
       "  '[팬콧키즈]15%쿠폰할인+여름 신상 샌들 아쿠아슈즈',\n",
       "  '[젤리스푼]아동복/상하복/원피스/반팔티/레깅스/팬츠/수영복',\n",
       "  '(6/22특가) 에이핀 35cm 프리미엄 선풍기/리모컨 홍진',\n",
       "  '여름신상 원피스44~110빅사이즈 루즈핏 린넨 쉬폰 롱',\n",
       "  '올리(Ollie) 여성 여름 샌들/슬리퍼/에스파듀/통굽',\n",
       "  '여름 7부티/남자반팔티/라운드/반팔티/남성/티셔츠',\n",
       "  '[백산수]농심 백산수 2L x 24병 / 생수',\n",
       "  '브리치x콤마엠 신상 원피스/스커트 80종 +10%쿠폰',\n",
       "  '5900원~아쿠아슈즈 샌들 남성 여성샌들 아쿠아신발',\n",
       "  '(톰앤래빗) 지금필요한 BEST100',\n",
       "  '스파클생수 2리터 24병',\n",
       "  '[트라이]5매4900원/여자팬티/여성팬티/여성속옷/여자속옷',\n",
       "  '메이킹유 예쁜룩 완성 블라우스/원피스 모음',\n",
       "  '[에이지투웨니스]에이지투웨니스 에센스 커버팩트 시즌10 RX 1종견미리',\n",
       "  '우리스카이종이컵 2000개/6.5oz자판기용 /국내산',\n",
       "  '베베맘마 아기 물티슈 100매 X 20팩 리필형',\n",
       "  '명진박스 10+1행사 택배박스 무지박스 박스',\n",
       "  '[소보제화]격자무늬 스트랩 스포티샌들',\n",
       "  '티셔츠5장9900 원피스/티셔츠/린넨팬츠 세트',\n",
       "  'NESTA 남녀 스트릿 반팔 티셔츠 특가',\n",
       "  '(체리빌레)여름신상 예쁜 원피스/하객룩/플라워/린넨',\n",
       "  '[동원참치]동원 건강한참치 100gx9캔 +마일드 100gx3캔 (총12캔)',\n",
       "  '[머거본]단하루만/땅콩 균일가 6개 골라담기',\n",
       "  '(공식판매처/QR발송) 캐리비안 베이 종일권/자켓/방수팩패키지',\n",
       "  '언니드랑 블라우스/원피스/팬츠/스커트/린넨',\n",
       "  '(1+1)쿨링바지 통바지/아이스슬랙스/반바지 XXL까지',\n",
       "  'UV차단 기능성~4XL/여름 쿨레깅스/치마/린넨/밴딩팬츠',\n",
       "  '파격특가 슈프림정품 반팔티 반바지 무지티 티셔츠',\n",
       "  '[미샤]미샤 6월 썸머 HOT ITEM / 선케어 1+1 (6/19~6/23)',\n",
       "  '[카누](쿠폰가17900)카누아이스미니100T+20T/텀블러/커피',\n",
       "  '[까페리얼]쿠폰가9400 쟈뎅 아이스커피 1.5L X6pet +증정컵/커피',\n",
       "  '[스티유(Stiu)](신세계강남점)[스티유] 여성화 바캉스준비 스포티샌들 8종택1',\n",
       "  '[홈플러스](행사상품)청원생명쌀법인_청원생명쌀_10KG 포 ',\n",
       "  '쁘띠뮤/초특가 상하세트 원피스 레깅스 래쉬가드 잠옷',\n",
       "  '[오뚜기]40%할인 오뚜기 참치/야채/고추 150g X 12개',\n",
       "  '올리(Ollie) 여성 슬리퍼/스포츠/샌들',\n",
       "  'TV쇼핑 바툼 에어쿨 미니 냉풍기 냉방기 아이큐샵',\n",
       "  '[이디야커피](이디야커피) 모바일금액권 1만원',\n",
       "  '대박난박양 빅사이즈 원피스 블라우스 티셔츠 바지',\n",
       "  '[닥터마밍](New)닥터마밍 라이트 아기물티슈 캡형 72매 10팩',\n",
       "  '셰프웨어  기획세트 쌀통10kg+잡곡통2개 총3종세트',\n",
       "  '[HP]HP A4 복사용지(A4용지) 80g 2500매 2BOX/더블에이',\n",
       "  '[보솜이]소프트 슬림 밴드/팬티 기저귀 x 4팩',\n",
       "  '[비버리힐스폴로클럽]드로즈 1매 2900원/사각/팬티/남성/속옷',\n",
       "  '[아디다스오리지널스]빅 트레포일 티 [CE2436 DH3165 DH4428 DH4429]/ 아디다스 오리지날',\n",
       "  '자두와 살구의 특별한 만남 신품종 플럼코트 450g',\n",
       "  'S~4XL 반팔티/티셔츠/남자/면티/남성/의류/티/반팔',\n",
       "  '[코디아이]여름신상/반소내의/칠부내의/수면조끼/바디/우주복',\n",
       "  '루나샵 여름신상특가 5900원~티셔츠/기본/롱티/박스티',\n",
       "  '브리치x럭키567 여름최신상 티셔츠 /원피스/스커트',\n",
       "  '제주특별자치도개발공사 제주 삼다수 2L 12병',\n",
       "  'Dole주스 120mlx32팩 100%과즙 5종 포도 파인 망고',\n",
       "  '[아디다스]나이키 아디다스 인기 반바지 쇼트 모음',\n",
       "  '[아웃백스테이크하우스](아웃백) 디지털 5만원권',\n",
       "  '[호호에미]친환경세제 아기세제 유아 세제 섬유유연제 천연세제',\n",
       "  '[피스넷]끊김없는 완전무선 블루투스이어폰 피스넷 프리고 블랙',\n",
       "  '차량용 음성 경보 과속 단속 레이더 탐지기 2종',\n",
       "  '삼성전자 노트북5 NT500R5W-LD2A (기본)',\n",
       "  '(단독판매/공식판매처) 에버랜드 레귤러 연간이용권(5/23~6/24까지 등록가능)',\n",
       "  '대방출 문구세트 크레파스 색연필 색종이 생일선물',\n",
       "  '코코리 여름신상 반팔 롱티 박스티 프린트맨투맨',\n",
       "  '[아디다스]아디다스 에스트로 신형입고 인기컬러 긴급재입고',\n",
       "  '한큐 모기사냥올킬 LED 모기퇴치기 USB 해충퇴치기',\n",
       "  '여름신상/롱티셔츠/반바지/원피스/블라우스/팬츠',\n",
       "  '키즈웰 젤리스트로우 800GX2개',\n",
       "  'F~2XL 라인이 이쁜 루즈 스타일 빅사이즈 티셔츠',\n",
       "  '[테리파머]호텔수건 미국목화 타올 수건 리본포장 타월',\n",
       "  '여름 로브가디건.롱가디건.쉬폰가디건.숄가디건',\n",
       "  '[다온샵]특급할인 치마바지 ~3XL 청바지/반바지여자스키니SALE',\n",
       "  '[로이체]BTS-30KM 블루투스 무선마이크/로즈골드/미러볼 증정',\n",
       "  '허니데이 블라우스/원피스/스커트 균일가',\n",
       "  '여름 남자 반바지/청/5부/7부/면/스판/카고/린넨/행사',\n",
       "  '[푸마]푸마 363073 바스켓하트 왕리본끈 애나멜 화이트 블랙 스니커즈 여성 운동화 추천 김유정 신발 플랫폼 퓨마',\n",
       "  '[머큐리]핸드폰 갤럭시S9 S8플러스 S7 S6 노트8 노트5 4 A8 J5'])"
      ]
     },
     "execution_count": 30,
     "metadata": {},
     "output_type": "execute_result"
    }
   ],
   "source": [
    "# 200개 아이템에서 li 클래스가 first가 아닌 데이터만 가져오기\n",
    "titles = response.xpath('//*[@id=\"gBestWrap\"]/div/div[3]/div[2]/ul/\\\n",
    "li[not(@class=\"first\")]/a/text()').extract()\n",
    "len(titles), titles"
   ]
  },
  {
   "cell_type": "markdown",
   "metadata": {},
   "source": [
    "##### scrapy project\n",
    "- 프로젝트 생성\n",
    "    - `$ scrapy startproject crawler`\n",
    "- 프로젝트 구조\n",
    "```\n",
    "crawler\n",
    "│   ├── __init__.py\n",
    "│   ├── items.py\n",
    "│   ├── middlewares.py\n",
    "│   ├── pipelines.py\n",
    "│   ├── settings.py\n",
    "│   └── spiders\n",
    "│       ├── __init__.py\n",
    "```\n",
    "    - spiders 디렉토리 : 어떤 웹사이트를 어떻게 크롤링할 것인가를 명시.\n",
    "    - items.py : 크롤링하는 데이터에 대한 정의 하는 클래스가 있는 파일(MVC -> M)\n",
    "    - pipelines.py : item 객체 형태로 크롤링을 하고 출력 하기 전에 아이템을 받아서 실행하는 파일이 정의 되어 있는 파일\n",
    "    - settings.py : 스파이더의 설정이 담겨있는 파일\n",
    "        - robots.txt 정책을 따를것인지 안따를것인지\n",
    "        - pipeline을 사용할지 안할지\n",
    "\n",
    "- 네이버 영화 페이지에서 현재 상영되고 있는 영화의 제목과 관람객수를 크롤링"
   ]
  },
  {
   "cell_type": "markdown",
   "metadata": {},
   "source": [
    "#####  yield"
   ]
  },
  {
   "cell_type": "code",
   "execution_count": 32,
   "metadata": {},
   "outputs": [],
   "source": [
    "# 이터레이터와 제너레이터\n",
    "# 이터레이터 - 순서가 있는 데이터의 집합\n",
    "# 제너레이터 - 함수가 호출될때마다 순서대로 결과가 나오는 집합"
   ]
  },
  {
   "cell_type": "code",
   "execution_count": 34,
   "metadata": {},
   "outputs": [],
   "source": [
    "# 이터레이터 데이터\n",
    "ls = [1,2,3]"
   ]
  },
  {
   "cell_type": "code",
   "execution_count": 35,
   "metadata": {},
   "outputs": [],
   "source": [
    "# 제너레이터 데이터\n",
    "def number():\n",
    "    yield 1\n",
    "    yield 2\n",
    "    yield 3"
   ]
  },
  {
   "cell_type": "code",
   "execution_count": 36,
   "metadata": {},
   "outputs": [
    {
     "data": {
      "text/plain": [
       "<generator object number at 0x115445ba0>"
      ]
     },
     "execution_count": 36,
     "metadata": {},
     "output_type": "execute_result"
    }
   ],
   "source": [
    "n = number()\n",
    "n"
   ]
  },
  {
   "cell_type": "code",
   "execution_count": 37,
   "metadata": {},
   "outputs": [
    {
     "data": {
      "text/plain": [
       "1"
      ]
     },
     "execution_count": 37,
     "metadata": {},
     "output_type": "execute_result"
    }
   ],
   "source": [
    "n.__next__()"
   ]
  },
  {
   "cell_type": "code",
   "execution_count": 38,
   "metadata": {},
   "outputs": [
    {
     "data": {
      "text/plain": [
       "2"
      ]
     },
     "execution_count": 38,
     "metadata": {},
     "output_type": "execute_result"
    }
   ],
   "source": [
    "n.__next__()"
   ]
  },
  {
   "cell_type": "code",
   "execution_count": 39,
   "metadata": {},
   "outputs": [
    {
     "data": {
      "text/plain": [
       "3"
      ]
     },
     "execution_count": 39,
     "metadata": {},
     "output_type": "execute_result"
    }
   ],
   "source": [
    "n.__next__()"
   ]
  },
  {
   "cell_type": "code",
   "execution_count": 40,
   "metadata": {},
   "outputs": [],
   "source": [
    "# 네이버 영화 페이지에서 현재 상영영화 링크 리스트 크롤링\n",
    "url = \"https://movie.naver.com/movie/running/current.nhn\"\n",
    "rep = requests.get(url)\n",
    "response = TextResponse(rep.url, body=rep.text, encoding=\"utf-8\")"
   ]
  },
  {
   "cell_type": "code",
   "execution_count": 47,
   "metadata": {},
   "outputs": [
    {
     "name": "stdout",
     "output_type": "stream",
     "text": [
      "https://movie.naver.com/movie/bi/mi/basic.nhn?code=159892\n",
      "https://movie.naver.com/movie/bi/mi/basic.nhn?code=154285\n",
      "https://movie.naver.com/movie/bi/mi/basic.nhn?code=153675\n",
      "https://movie.naver.com/movie/bi/mi/basic.nhn?code=158178\n",
      "https://movie.naver.com/movie/bi/mi/basic.nhn?code=168405\n",
      "https://movie.naver.com/movie/bi/mi/basic.nhn?code=143416\n",
      "https://movie.naver.com/movie/bi/mi/basic.nhn?code=168017\n",
      "https://movie.naver.com/movie/bi/mi/basic.nhn?code=150097\n",
      "https://movie.naver.com/movie/bi/mi/basic.nhn?code=172420\n",
      "https://movie.naver.com/movie/bi/mi/basic.nhn?code=169899\n"
     ]
    }
   ],
   "source": [
    "links = response.xpath('//*[@id=\"content\"]/div[1]/div[1]/div[3]\\\n",
    "/ul/li/dl/dt/a/@href')[:10].extract()\n",
    "for link in links:\n",
    "    print(response.urljoin(link))"
   ]
  },
  {
   "cell_type": "code",
   "execution_count": 48,
   "metadata": {},
   "outputs": [],
   "source": [
    "url = \"https://movie.naver.com/movie/bi/mi/basic.nhn?code=159892\"\n",
    "rep = requests.get(url)\n",
    "response = TextResponse(rep.url, body=rep.text, encoding=\"utf-8\")"
   ]
  },
  {
   "cell_type": "code",
   "execution_count": 50,
   "metadata": {},
   "outputs": [
    {
     "data": {
      "text/plain": [
       "'탐정: 리턴즈'"
      ]
     },
     "execution_count": 50,
     "metadata": {},
     "output_type": "execute_result"
    }
   ],
   "source": [
    "title = response.xpath('//*[@id=\"content\"]/div[1]/div[2]/div[1]/h3/a[1]\\\n",
    "/text()')[0].extract()\n",
    "title"
   ]
  },
  {
   "cell_type": "code",
   "execution_count": 51,
   "metadata": {},
   "outputs": [
    {
     "data": {
      "text/plain": [
       "'1,405,591명'"
      ]
     },
     "execution_count": 51,
     "metadata": {},
     "output_type": "execute_result"
    }
   ],
   "source": [
    "count = response.xpath('//*[@id=\"content\"]\\\n",
    "/div[1]/div[2]/div[1]/dl/dd[5]/div/p[2]/text()')[0].extract()\n",
    "count"
   ]
  },
  {
   "cell_type": "code",
   "execution_count": null,
   "metadata": {},
   "outputs": [],
   "source": [
    "# 스파이더 실행\n",
    "# 실행하는 디렉토리는 프로젝트 디렉토리에서 실행합니다. (item.py 파일이 있는 디렉토리)\n",
    "# $ scrapy crawl naver_movie"
   ]
  },
  {
   "cell_type": "code",
   "execution_count": null,
   "metadata": {},
   "outputs": [],
   "source": [
    "# csv 파일로 저장하는 옵션\n",
    "# $ scrapy crawl naver_movie -o movie.csv"
   ]
  },
  {
   "cell_type": "code",
   "execution_count": null,
   "metadata": {},
   "outputs": [],
   "source": []
  },
  {
   "cell_type": "code",
   "execution_count": null,
   "metadata": {},
   "outputs": [],
   "source": []
  },
  {
   "cell_type": "code",
   "execution_count": null,
   "metadata": {},
   "outputs": [],
   "source": []
  },
  {
   "cell_type": "code",
   "execution_count": null,
   "metadata": {},
   "outputs": [],
   "source": []
  }
 ],
 "metadata": {
  "kernelspec": {
   "display_name": "Python 3",
   "language": "python",
   "name": "python3"
  },
  "language_info": {
   "codemirror_mode": {
    "name": "ipython",
    "version": 3
   },
   "file_extension": ".py",
   "mimetype": "text/x-python",
   "name": "python",
   "nbconvert_exporter": "python",
   "pygments_lexer": "ipython3",
   "version": "3.6.4"
  }
 },
 "nbformat": 4,
 "nbformat_minor": 2
}
