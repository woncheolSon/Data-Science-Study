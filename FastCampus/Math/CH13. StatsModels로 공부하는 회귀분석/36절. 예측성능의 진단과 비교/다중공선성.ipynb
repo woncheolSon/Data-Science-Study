{
 "cells": [
  {
   "cell_type": "markdown",
   "metadata": {},
   "source": [
    "# 다중공선성"
   ]
  },
  {
   "cell_type": "markdown",
   "metadata": {},
   "source": [
    "다중공선성(multicollinearity)란 독립변수의 일부가 다른 독립변수의 조합으로 표현될 수 있는 경우이다. 독립변수들이 서로 독립이 아니라 상호상관관계가 강한 경우에 발생한다. 이는 독립 변수의 공분산 행렬이 full rank이어야 한다는 조건을 침해한다."
   ]
  },
  {
   "cell_type": "markdown",
   "metadata": {},
   "source": [
    "다중공선성이 있으면 독립변수의 공분산 행령의 조건수(conditional number)가 증가한다. 조건수는 독립변수가 스케일링 되어 있지 않아도 증가하므로 일단 스케일링을 통해 조건수를 감소시킨다."
   ]
  },
  {
   "cell_type": "markdown",
   "metadata": {},
   "source": [
    "독립변수가 서로 의존하게 되면 이른바 과최적화(over-fitting)문제가 발생하여 회귀 결과의 안정성을 해치게 된다. 이를 방지하는 방법들은 다음과 같다.\n",
    "- 변수 선택법으로 의존적인 변수 삭제\n",
    "- PCA(principal component analysis)방법으로 의존적인 성분 삭제\n",
    "- 정규화(regularized)방법 사용"
   ]
  },
  {
   "cell_type": "markdown",
   "metadata": {},
   "source": [
    "# VIF"
   ]
  },
  {
   "cell_type": "markdown",
   "metadata": {},
   "source": [
    "다중공선성을 없애는 가장 기본적인 방법은 다른 독립변수에 의존하는 변수를 없애는 것이다. 가장 의존적인 독립변수를 선택하는 방법으로는 VIF(Variance Inflation Factor)를 사용할 수 있다. VIF는 독립변수를 다른 독립변수로 선형회귀한 성능을 나타낸 것이다."
   ]
  },
  {
   "cell_type": "markdown",
   "metadata": {},
   "source": [
    "다른 변수에 의존적일 수록 VIF가 커진다."
   ]
  },
  {
   "cell_type": "markdown",
   "metadata": {},
   "source": [
    "StatsModels에서는 `variance_inflation_factor` 명령으로 VIF를 계산한다."
   ]
  }
 ],
 "metadata": {
  "kernelspec": {
   "display_name": "Python 3",
   "language": "python",
   "name": "python3"
  },
  "language_info": {
   "codemirror_mode": {
    "name": "ipython",
    "version": 3
   },
   "file_extension": ".py",
   "mimetype": "text/x-python",
   "name": "python",
   "nbconvert_exporter": "python",
   "pygments_lexer": "ipython3",
   "version": "3.6.4"
  }
 },
 "nbformat": 4,
 "nbformat_minor": 2
}
