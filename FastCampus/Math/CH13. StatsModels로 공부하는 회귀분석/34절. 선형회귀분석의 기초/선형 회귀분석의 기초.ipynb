{
 "cells": [
  {
   "cell_type": "markdown",
   "metadata": {},
   "source": [
    "# 선형 회귀분석의 기초"
   ]
  },
  {
   "cell_type": "markdown",
   "metadata": {},
   "source": [
    "회귀분석(regression analysis)은 독립 변수  x 와 이에 대응하는 종속 변수  y 간의 관계를 정량화하는 작업이다.\n",
    "\n",
    "회귀분석에는 결정론적 모형(Deterministic Model)과 확률적 모형(Probabilistic Model)이 있다. 여기에서는 결정론적 모형에 대해 설명한다. 결정론적 모형은 단순히 독립 변수  x 에 대해 대응하는 종속변수  y 와 가장 비슷한 값  ŷ  를 출력하는 함수  f(x) 를 찾는 과정이다."
   ]
  },
  {
   "cell_type": "markdown",
   "metadata": {},
   "source": [
    "$$\\hat{y} = f \\left( x \\right) \\approx y$$"
   ]
  },
  {
   "cell_type": "markdown",
   "metadata": {},
   "source": [
    "만약 독립 변수  x 와 이에 대응하는 종속 변수  y 간의 관계가 다음과 같은 선형 함수  f(x) 이면 선형 회귀분석(linear regression analysis)이라고 한다."
   ]
  },
  {
   "cell_type": "markdown",
   "metadata": {},
   "source": [
    "$$\\hat{y} = w_0 + w_1 x_1 + w_2 x_2 + \\cdots + w_D x_D = w_0 + w^Tx$$"
   ]
  },
  {
   "cell_type": "markdown",
   "metadata": {},
   "source": [
    "위 식에서 $w_0, \\cdots, w_D$를 함수 $f(x)$의 계수(coefficient)이자 이 선형 회귀모형의 **모수(parameter)** 라고 한다."
   ]
  },
  {
   "cell_type": "markdown",
   "metadata": {},
   "source": [
    "# 바이어스 오그멘테이션"
   ]
  },
  {
   "cell_type": "markdown",
   "metadata": {},
   "source": [
    "상수항이 0이 아닌 회귀분석모형인 경우에는 수식을 간편하게 하기 위해 다음과 같이 상수항을 독립변수에 추가한다. 이를 **바이어스 오그멘테이션(bias augmentation)** 이라 한다."
   ]
  },
  {
   "cell_type": "markdown",
   "metadata": {},
   "source": [
    "$$x_i =\n",
    "\\begin{bmatrix}\n",
    "x_{i1} \\\\ x_{i2} \\\\ \\vdots \\\\ x_{iD}\n",
    "\\end{bmatrix}\n",
    "\\rightarrow \n",
    "x_{i,a} =\n",
    "\\begin{bmatrix}\n",
    "1 \\\\ x_{i1} \\\\ x_{i2} \\\\ \\vdots \\\\ x_{iD}\n",
    "\\end{bmatrix}$$"
   ]
  },
  {
   "cell_type": "markdown",
   "metadata": {},
   "source": [
    "오그멘테이션을 하게 되면 모든 원소가 1인 벡터가 입력 데이터 행렬에 추가된다."
   ]
  },
  {
   "cell_type": "markdown",
   "metadata": {},
   "source": [
    "이렇게 되면 전체 수식이 다음과 같이 바이어스 오그멘트된 가중치 벡터와 바이어스 오그멘트된 입력 데이터 벡터의 내적으로 간단히 표시된다."
   ]
  },
  {
   "cell_type": "markdown",
   "metadata": {},
   "source": [
    "$$f(x) = w_0 + w_1 x_1 + w_2 x_2 + \\cdots + w_D x_D\n",
    "= \n",
    "\\begin{bmatrix}\n",
    "1 & x_1 & x_2 & \\cdots & x_D\n",
    "\\end{bmatrix}\n",
    "\\begin{bmatrix}\n",
    "w_0 \\\\ w_1 \\\\ w_2 \\\\ \\vdots \\\\ w_D\n",
    "\\end{bmatrix}\n",
    "= x_a^T w_a = w_a^T x_a$$"
   ]
  },
  {
   "cell_type": "markdown",
   "metadata": {},
   "source": [
    "상수항이 0이 아닌 경우에는 항상 바이어스 오그멘테이션을 하기 때문에 특별히 벡터 기호를 $x_a$ 또는 $w_a$라고 표시하지 않아도 바이어스 오그멘테이션이 되어 있는 경우가 많다."
   ]
  },
  {
   "cell_type": "markdown",
   "metadata": {},
   "source": [
    "다음은 바이어스 오그멘테이션을 하는 코드 예제이다."
   ]
  },
  {
   "cell_type": "code",
   "execution_count": 11,
   "metadata": {},
   "outputs": [],
   "source": [
    "from sklearn.datasets import make_regression\n",
    "import numpy as np"
   ]
  },
  {
   "cell_type": "code",
   "execution_count": 3,
   "metadata": {},
   "outputs": [],
   "source": [
    "X0, y, w = make_regression(n_samples=100, n_features=2, bias=100, \\\n",
    "                           noise=10, coef=True, random_state=1)"
   ]
  },
  {
   "cell_type": "code",
   "execution_count": 10,
   "metadata": {},
   "outputs": [
    {
     "data": {
      "text/plain": [
       "array([[ 0.0465673 ,  0.80186103],\n",
       "       [-2.02220122,  0.31563495],\n",
       "       [-0.38405435, -0.3224172 ],\n",
       "       [-1.31228341,  0.35054598],\n",
       "       [-0.88762896, -0.19183555]])"
      ]
     },
     "execution_count": 10,
     "metadata": {},
     "output_type": "execute_result"
    }
   ],
   "source": [
    "# 원래 데이터 \n",
    "X0[:5]"
   ]
  },
  {
   "cell_type": "code",
   "execution_count": 13,
   "metadata": {},
   "outputs": [
    {
     "data": {
      "text/plain": [
       "array([[ 1.        ,  0.0465673 ,  0.80186103],\n",
       "       [ 1.        , -2.02220122,  0.31563495],\n",
       "       [ 1.        , -0.38405435, -0.3224172 ],\n",
       "       [ 1.        , -1.31228341,  0.35054598],\n",
       "       [ 1.        , -0.88762896, -0.19183555]])"
      ]
     },
     "execution_count": 13,
     "metadata": {},
     "output_type": "execute_result"
    }
   ],
   "source": [
    "# 바이어스 오그멘테이션\n",
    "X = np.hstack([np.ones((X0.shape[0],1)),X0])\n",
    "X[:5]"
   ]
  },
  {
   "cell_type": "markdown",
   "metadata": {},
   "source": [
    "StatsModels 에는 바이어스 오그멘테이션을 위한 `add_constant` 함수가 제공된다."
   ]
  },
  {
   "cell_type": "code",
   "execution_count": 15,
   "metadata": {},
   "outputs": [],
   "source": [
    "import statsmodels.api as sm\n",
    "import warnings\n",
    "warnings.filterwarnings('ignore')"
   ]
  },
  {
   "cell_type": "code",
   "execution_count": 16,
   "metadata": {},
   "outputs": [
    {
     "data": {
      "text/plain": [
       "array([[ 1.        ,  0.0465673 ,  0.80186103],\n",
       "       [ 1.        , -2.02220122,  0.31563495],\n",
       "       [ 1.        , -0.38405435, -0.3224172 ],\n",
       "       [ 1.        , -1.31228341,  0.35054598],\n",
       "       [ 1.        , -0.88762896, -0.19183555]])"
      ]
     },
     "execution_count": 16,
     "metadata": {},
     "output_type": "execute_result"
    }
   ],
   "source": [
    "X=sm.add_constant(X0)\n",
    "X[:5]"
   ]
  },
  {
   "cell_type": "markdown",
   "metadata": {},
   "source": [
    "# OLS (Ordinary Least Squares)"
   ]
  },
  {
   "cell_type": "markdown",
   "metadata": {},
   "source": [
    "OLS는 가장 기본적인 결정론적 선형 회귀 방법으로 잔차제곱합(RSS: Residual Sum of Squares)를 최소화하는 가중치 벡터를 행렬 미분으로 구하는 방법이다."
   ]
  },
  {
   "cell_type": "markdown",
   "metadata": {},
   "source": [
    "우리가 사용하는 예측 모형은 다음과 같은 바이어스 오그멘트된 선형 모형이다.\n",
    "$$\\hat{y} = Xw$$\n",
    "이때 잔차 벡터와 잔차 제곱합은 다음과 같다.\n",
    "$$e = {y} - \\hat{y} = y - Xw$$\n",
    "\n",
    "\n",
    "$$\\begin{eqnarray}\n",
    "\\text{RSS}\n",
    "&=&  e^Te \\\\\n",
    "&=& (y - Xw)^T(y - Xw) \\\\\n",
    "&=& y^Ty - 2y^T X w + w^TX^TXw  \n",
    "\\end{eqnarray}$$\n",
    "\n",
    "위에서 구한 잔차 제곱합의 최소값을 구하기 위해 미분 즉, 그레디언트(gradient) 벡터를 구하면 다음과 같다.\n",
    "\n",
    "$$\\dfrac{d \\text{RSS}}{d w} = -2 X^T y + 2 X^TX w$$\n",
    "\n",
    "잔차가 최소가 되는 최적화 조건은 그레디언트 벡터가 0벡터이어야 하므로 다음 식이 성립한다.\n",
    "\n",
    "$$\\dfrac{d \\text{RSS}}{d w}  = 0$$\n",
    "\n",
    "$$X^TX w^{\\ast} = X^T y$$\n",
    "\n",
    "만약  XTX  행렬의 역행렬이 존재한다면 다음처럼 최적 가중치 벡터 $w∗$ 를 구할 수 있다.\n",
    "\n",
    "$$w^{\\ast} = (X^TX)^{-1} X^T y$$"
   ]
  },
  {
   "cell_type": "markdown",
   "metadata": {},
   "source": [
    "(증명식 생략)"
   ]
  },
  {
   "cell_type": "markdown",
   "metadata": {},
   "source": [
    "결국 **독립 변수들이 서로 선형 독립이면 $X^TX$가 양한정이고 OLS의 해가 존재한다.**\n",
    "<br/>\n",
    "(양한정인 행렬의 고윳값은 양수이므로 대각분해에 의해 역행렬이 항상 존재.)"
   ]
  },
  {
   "cell_type": "markdown",
   "metadata": {},
   "source": [
    "# 직교 방정식(Normal Equation)"
   ]
  },
  {
   "cell_type": "markdown",
   "metadata": {},
   "source": [
    "여기에서 그레디언트가 0벡터가 되는 관계를 나타내는 다음 식을 직교 방정식(normal equation)이라고 한다.\n",
    "\n",
    "$$X^T y - X^TX w = 0$$"
   ]
  },
  {
   "cell_type": "markdown",
   "metadata": {},
   "source": [
    "직교 방정식을 인수 분해하면\n",
    "\n",
    "$$X^T (y - X w ) = 0$$\n",
    "\n",
    "$$X^T e = 0$$"
   ]
  },
  {
   "cell_type": "markdown",
   "metadata": {},
   "source": [
    "즉, $C_d$가 모든 데이터의 $d$번째 차원의 원소로 이루어진 데이터 벡터(특징 행렬의 열벡터)라고 할 때 모든 차원 $d \\; (d=1, \\ldots, D)$에 대해 $c_d$는 잔차 벡터 $e$와 수직을 이룬다."
   ]
  },
  {
   "cell_type": "markdown",
   "metadata": {},
   "source": [
    "$$c_d^T e = 0 \\;\\;\\; (d=1, \\ldots, D)$$\n",
    "\n",
    "또는 \n",
    "\n",
    "$$c_d \\perp e \\;\\;\\; (d=1, \\ldots, D)$$"
   ]
  },
  {
   "cell_type": "markdown",
   "metadata": {},
   "source": [
    "직교 방정식으로부터 다음과 같은 성질을 알 수 있다.<br/>\n",
    "(1) X가 1-벡터를 가지고 augmented 되어 있는 경우에는 잔차 벡터의 원소의 합은 0이다. 즉 잔차의 평균은 0이다.\n",
    "\n",
    "$$\\sum_{i=0}^N e_i = 0$$"
   ]
  },
  {
   "cell_type": "markdown",
   "metadata": {},
   "source": [
    "(2) $x$ 데이터의 평균값 $\\bar{x}$ 에 대한 예측값은 $y$ 데이터의 평균값 $\\bar{y}$ 이다."
   ]
  },
  {
   "cell_type": "markdown",
   "metadata": {},
   "source": [
    "두번째 성질을 이용하면 **원래 데이터를 사용한 회귀분석 결과와 원래 데이터에서 평균이 0이 되게 평균 이동을 한 데이터를 사용한 회귀 분석 결과가 같다** 는 것을 보일 수 있다."
   ]
  },
  {
   "cell_type": "markdown",
   "metadata": {},
   "source": [
    "$$y ' = y - \\bar{y}, \\;\\; X' = X - \\bar{X}$$\n",
    "\n",
    "$$\\hat{y}' = X'w'$$\n",
    "\n",
    "$$\\hat{y} - \\bar{y} = (X - \\bar{X})w'$$\n",
    "\n",
    "$$\\hat{y} = Xw'$$"
   ]
  },
  {
   "cell_type": "markdown",
   "metadata": {},
   "source": [
    "# Scikit-Learn 패키지를 사용한 선형회귀분석"
   ]
  },
  {
   "cell_type": "markdown",
   "metadata": {},
   "source": [
    "Scikit-Learn 패키지를 사용하여 선형회귀분석을 하는 경우에는 `linear_model` 서브 패키지의 `LinearRegression` 클래스를 사용한다. 사용법은 다음과 같다."
   ]
  },
  {
   "cell_type": "markdown",
   "metadata": {},
   "source": [
    "(1). `LinearRegression` 클래스 객체 생성\n",
    "<br/>\n",
    "- model = LinearRegression(fit_intercept = True)\n",
    "\n",
    "`fit_intercept` 인수는 모형에 상수항이 있는가 없는가를 결정하는 인수이다. 디폴트가 `True` 만약 상수항이 없으면 `fit_intercept=False`로 설정한다."
   ]
  },
  {
   "cell_type": "markdown",
   "metadata": {},
   "source": [
    "(2). `fit` 메서드로 모형 추정. **오그멘테이션을 자동으로** 해주므로 사용자가 오그멘테이션을 할 필요는 없다."
   ]
  },
  {
   "cell_type": "markdown",
   "metadata": {},
   "source": [
    "- model = model.fit(X,y)\n",
    "\n",
    "회귀분석을 하고 나면 모형 객체는 다음과 같은 속성을 가지게 된다. 또한 `fit` 메서드는 객체 자신을 반환한다.\n",
    "- `coef_`: 추정된 가중치 벡터\n",
    "- `intercept_`: 추정된 상수항"
   ]
  },
  {
   "cell_type": "markdown",
   "metadata": {},
   "source": [
    "(3). `predict` 메서드로 새로운 입력 데이터에 대한 출력 데이터 예측\n",
    "- y_new = model.predict(x_new)"
   ]
  },
  {
   "cell_type": "markdown",
   "metadata": {},
   "source": [
    "다음은 보스턴 집값 데이터를 사용하여 회귀분석을 하는 예이다."
   ]
  },
  {
   "cell_type": "code",
   "execution_count": 26,
   "metadata": {},
   "outputs": [],
   "source": [
    "from sklearn.datasets import load_boston\n",
    "from sklearn.linear_model import LinearRegression\n",
    "import matplotlib.pylab as plt\n",
    "\n",
    "boston = load_boston()\n",
    "model_boston = LinearRegression().fit(boston.data, boston.target)"
   ]
  },
  {
   "cell_type": "code",
   "execution_count": 27,
   "metadata": {},
   "outputs": [
    {
     "data": {
      "text/plain": [
       "array([ -1.07170557e-01,   4.63952195e-02,   2.08602395e-02,\n",
       "         2.68856140e+00,  -1.77957587e+01,   3.80475246e+00,\n",
       "         7.51061703e-04,  -1.47575880e+00,   3.05655038e-01,\n",
       "        -1.23293463e-02,  -9.53463555e-01,   9.39251272e-03,\n",
       "        -5.25466633e-01])"
      ]
     },
     "execution_count": 27,
     "metadata": {},
     "output_type": "execute_result"
    }
   ],
   "source": [
    "model_boston.coef_"
   ]
  },
  {
   "cell_type": "code",
   "execution_count": 28,
   "metadata": {},
   "outputs": [
    {
     "data": {
      "text/plain": [
       "36.491103280361038"
      ]
     },
     "execution_count": 28,
     "metadata": {},
     "output_type": "execute_result"
    }
   ],
   "source": [
    "model_boston.intercept_"
   ]
  },
  {
   "cell_type": "code",
   "execution_count": 32,
   "metadata": {},
   "outputs": [
    {
     "data": {
      "image/png": "[encoded data removed]",
      "text/plain": [
       "<matplotlib.figure.Figure at 0x1193c6208>"
      ]
     },
     "metadata": {},
     "output_type": "display_data"
    }
   ],
   "source": [
    "predictions = model_boston.predict(boston.data)\n",
    "plt.scatter(boston.target, predictions)\n",
    "plt.xlabel(\"real house price\")\n",
    "plt.ylabel(\"predicted house price\")\n",
    "plt.show()"
   ]
  },
  {
   "cell_type": "markdown",
   "metadata": {},
   "source": [
    "# StatsModels 를 사용한 선형회귀분석"
   ]
  },
  {
   "cell_type": "markdown",
   "metadata": {},
   "source": [
    "statsmodels 패키지에는 `OLS` 클래스를 사용하여 선형회귀분석을 실시한다. `OLS` 클래스 사용법은 다음과 같다."
   ]
  },
  {
   "cell_type": "markdown",
   "metadata": {},
   "source": [
    "(1) `OLS`클래스 객체 생성. 이때 scikit-learn 패키지와 달리 데이터를 미리 주어야 하며 **자동으로 상수항을 만들어 주지 않기 때문에 사용자가 `add_constant` 명령으로 상수항을 추가해야 한다.** 또한 인수의 순서가 scikit-learn 패키지와 달리 출력 데이터를 먼저 넣어야 한다."
   ]
  },
  {
   "cell_type": "markdown",
   "metadata": {},
   "source": [
    "- model = OLS(y,X)"
   ]
  },
  {
   "cell_type": "markdown",
   "metadata": {},
   "source": [
    "(2) `fit`메서드로 모형 추정. scikit-learn 패키지와 달리 추정 결과는 별도의 `RegressionResult` 클래스 객체로 출력된다."
   ]
  },
  {
   "cell_type": "markdown",
   "metadata": {},
   "source": [
    "- result = model.fit()"
   ]
  },
  {
   "cell_type": "markdown",
   "metadata": {},
   "source": [
    "(3) `RegressionResults` 클래스 객체는 결과 리포트용 `summary` 메서드와 예측을 위한 `prediction` 메서드를 제공한다."
   ]
  },
  {
   "cell_type": "markdown",
   "metadata": {},
   "source": [
    "- print(result.summary())\n",
    "- y_new = result.predict(x_new)"
   ]
  },
  {
   "cell_type": "markdown",
   "metadata": {},
   "source": [
    "이 때, 예측을 위한 데이터는 추정시와 동일하게 **오그멘테이션을 해 주어야 한다.**"
   ]
  },
  {
   "cell_type": "code",
   "execution_count": 36,
   "metadata": {},
   "outputs": [],
   "source": [
    "import pandas as pd\n",
    "df_X0 = pd.DataFrame(boston.data, columns=boston.feature_names)\n",
    "df_X = sm.add_constant(df_X0) # 오그멘테이션\n",
    "df_y = pd.DataFrame(boston.target, columns=[\"MEDV\"])"
   ]
  },
  {
   "cell_type": "code",
   "execution_count": 44,
   "metadata": {},
   "outputs": [
    {
     "name": "stdout",
     "output_type": "stream",
     "text": [
      "                            OLS Regression Results                            \n",
      "==============================================================================\n",
      "Dep. Variable:                   MEDV   R-squared:                       0.741\n",
      "Model:                            OLS   Adj. R-squared:                  0.734\n",
      "Method:                 Least Squares   F-statistic:                     108.1\n",
      "Date:                Sun, 01 Jul 2018   Prob (F-statistic):          6.95e-135\n",
      "Time:                        21:59:39   Log-Likelihood:                -1498.8\n",
      "No. Observations:                 506   AIC:                             3026.\n",
      "Df Residuals:                     492   BIC:                             3085.\n",
      "Df Model:                          13                                         \n",
      "Covariance Type:            nonrobust                                         \n",
      "==============================================================================\n",
      "                 coef    std err          t      P>|t|      [0.025      0.975]\n",
      "------------------------------------------------------------------------------\n",
      "const         36.4911      5.104      7.149      0.000      26.462      46.520\n",
      "CRIM          -0.1072      0.033     -3.276      0.001      -0.171      -0.043\n",
      "ZN             0.0464      0.014      3.380      0.001       0.019       0.073\n",
      "INDUS          0.0209      0.061      0.339      0.735      -0.100       0.142\n",
      "CHAS           2.6886      0.862      3.120      0.002       0.996       4.381\n",
      "NOX          -17.7958      3.821     -4.658      0.000     -25.302     -10.289\n",
      "RM             3.8048      0.418      9.102      0.000       2.983       4.626\n",
      "AGE            0.0008      0.013      0.057      0.955      -0.025       0.027\n",
      "DIS           -1.4758      0.199     -7.398      0.000      -1.868      -1.084\n",
      "RAD            0.3057      0.066      4.608      0.000       0.175       0.436\n",
      "TAX           -0.0123      0.004     -3.278      0.001      -0.020      -0.005\n",
      "PTRATIO       -0.9535      0.131     -7.287      0.000      -1.211      -0.696\n",
      "B              0.0094      0.003      3.500      0.001       0.004       0.015\n",
      "LSTAT         -0.5255      0.051    -10.366      0.000      -0.625      -0.426\n",
      "==============================================================================\n",
      "Omnibus:                      178.029   Durbin-Watson:                   1.078\n",
      "Prob(Omnibus):                  0.000   Jarque-Bera (JB):              782.015\n",
      "Skew:                           1.521   Prob(JB):                    1.54e-170\n",
      "Kurtosis:                       8.276   Cond. No.                     1.51e+04\n",
      "==============================================================================\n",
      "\n",
      "Warnings:\n",
      "[1] Standard Errors assume that the covariance matrix of the errors is correctly specified.\n",
      "[2] The condition number is large, 1.51e+04. This might indicate that there are\n",
      "strong multicollinearity or other numerical problems.\n"
     ]
    }
   ],
   "source": [
    "model_boston2 = sm.OLS(df_y,df_X)\n",
    "result_boston2 = model_boston2.fit()\n",
    "print(result_boston2.summary())"
   ]
  },
  {
   "cell_type": "code",
   "execution_count": 45,
   "metadata": {},
   "outputs": [
    {
     "name": "stdout",
     "output_type": "stream",
     "text": [
      "                 Results: Ordinary least squares\n",
      "==================================================================\n",
      "Model:              OLS              Adj. R-squared:     0.734    \n",
      "Dependent Variable: MEDV             AIC:                3025.6767\n",
      "Date:               2018-07-01 21:59 BIC:                3084.8482\n",
      "No. Observations:   506              Log-Likelihood:     -1498.8  \n",
      "Df Model:           13               F-statistic:        108.1    \n",
      "Df Residuals:       492              Prob (F-statistic): 6.95e-135\n",
      "R-squared:          0.741            Scale:              22.521   \n",
      "-------------------------------------------------------------------\n",
      "            Coef.    Std.Err.     t      P>|t|    [0.025    0.975] \n",
      "-------------------------------------------------------------------\n",
      "const       36.4911    5.1045    7.1488  0.0000   26.4618   46.5204\n",
      "CRIM        -0.1072    0.0327   -3.2762  0.0011   -0.1714   -0.0429\n",
      "ZN           0.0464    0.0137    3.3796  0.0008    0.0194    0.0734\n",
      "INDUS        0.0209    0.0615    0.3392  0.7346   -0.1000    0.1417\n",
      "CHAS         2.6886    0.8616    3.1204  0.0019    0.9957    4.3815\n",
      "NOX        -17.7958    3.8206   -4.6579  0.0000  -25.3024  -10.2891\n",
      "RM           3.8048    0.4180    9.1023  0.0000    2.9835    4.6260\n",
      "AGE          0.0008    0.0132    0.0569  0.9547   -0.0252    0.0267\n",
      "DIS         -1.4758    0.1995   -7.3979  0.0000   -1.8677   -1.0838\n",
      "RAD          0.3057    0.0663    4.6079  0.0000    0.1753    0.4360\n",
      "TAX         -0.0123    0.0038   -3.2784  0.0011   -0.0197   -0.0049\n",
      "PTRATIO     -0.9535    0.1308   -7.2872  0.0000   -1.2105   -0.6964\n",
      "B            0.0094    0.0027    3.5001  0.0005    0.0041    0.0147\n",
      "LSTAT       -0.5255    0.0507  -10.3663  0.0000   -0.6251   -0.4259\n",
      "------------------------------------------------------------------\n",
      "Omnibus:             178.029       Durbin-Watson:          1.078  \n",
      "Prob(Omnibus):       0.000         Jarque-Bera (JB):       782.015\n",
      "Skew:                1.521         Prob(JB):               0.000  \n",
      "Kurtosis:            8.276         Condition No.:          15116  \n",
      "==================================================================\n",
      "* The condition number is large (2e+04). This might indicate\n",
      "strong multicollinearity or other numerical problems.\n"
     ]
    }
   ],
   "source": [
    "print(result_boston2.summary2())"
   ]
  },
  {
   "cell_type": "code",
   "execution_count": 48,
   "metadata": {},
   "outputs": [
    {
     "data": {
      "image/png": "[encoded data removed]",
      "text/plain": [
       "<matplotlib.figure.Figure at 0x11a583358>"
      ]
     },
     "metadata": {},
     "output_type": "display_data"
    }
   ],
   "source": [
    "dfy_new = result_boston2.predict(df_X)\n",
    "\n",
    "plt.scatter(df_y, dfy_new)\n",
    "plt.xlabel(\"real house price\")\n",
    "plt.ylabel(\"predicted house price\")\n",
    "plt.show()"
   ]
  }
 ],
 "metadata": {
  "kernelspec": {
   "display_name": "Python 3",
   "language": "python",
   "name": "python3"
  },
  "language_info": {
   "codemirror_mode": {
    "name": "ipython",
    "version": 3
   },
   "file_extension": ".py",
   "mimetype": "text/x-python",
   "name": "python",
   "nbconvert_exporter": "python",
   "pygments_lexer": "ipython3",
   "version": "3.6.4"
  }
 },
 "nbformat": 4,
 "nbformat_minor": 2
}
