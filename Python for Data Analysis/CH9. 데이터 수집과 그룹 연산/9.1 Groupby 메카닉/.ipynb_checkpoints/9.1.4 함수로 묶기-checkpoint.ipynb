{
 "cells": [
  {
   "cell_type": "markdown",
   "metadata": {},
   "source": [
    "사전이나 Series를 사용하는 것에 비해 파이썬 함수를 사용해서 그룹을 매핑하는 것은 좀더 독창적이며 추상적인 방법이다.<br/>\n",
    "그룹 색인으로 넘기 함수는 색인 값 하나마다 한번씩 호출되며, 반환 값은 그 그룹의 이름으로 사용된다.<br/>\n",
    "좀 더 구체적으로 말하자면 아까 살펴본 예제에서 people DataFrame은 사람의 이름을 색인 값으로 사용했다.<br/>\n",
    "만약에 이름의 길이별로 그룹을 묶고 싶다면 이름의 길이가 담긴 배열을 만들어 넘기는 대신 `len` 함수를 넘기면 된다."
   ]
  },
  {
   "cell_type": "code",
   "execution_count": 1,
   "metadata": {},
   "outputs": [],
   "source": [
    "people = pd.DataFrame(np.random.randn(5,5),\n",
    "                     columns=['a','b','c','d','e'],\n",
    "                     index=['joe','steve','wes','jim','travis'])"
   ]
  },
  {
   "cell_type": "code",
   "execution_count": 10,
   "metadata": {},
   "outputs": [
    {
     "data": {
      "text/html": [
       "<div>\n",
       "<style scoped>\n",
       "    .dataframe tbody tr th:only-of-type {\n",
       "        vertical-align: middle;\n",
       "    }\n",
       "\n",
       "    .dataframe tbody tr th {\n",
       "        vertical-align: top;\n",
       "    }\n",
       "\n",
       "    .dataframe thead th {\n",
       "        text-align: right;\n",
       "    }\n",
       "</style>\n",
       "<table border=\"1\" class=\"dataframe\">\n",
       "  <thead>\n",
       "    <tr style=\"text-align: right;\">\n",
       "      <th></th>\n",
       "      <th>a</th>\n",
       "      <th>b</th>\n",
       "      <th>c</th>\n",
       "      <th>d</th>\n",
       "      <th>e</th>\n",
       "    </tr>\n",
       "  </thead>\n",
       "  <tbody>\n",
       "    <tr>\n",
       "      <th>joe</th>\n",
       "      <td>-0.658694</td>\n",
       "      <td>2.522566</td>\n",
       "      <td>-0.757305</td>\n",
       "      <td>-0.815266</td>\n",
       "      <td>-0.628301</td>\n",
       "    </tr>\n",
       "    <tr>\n",
       "      <th>steve</th>\n",
       "      <td>-0.081959</td>\n",
       "      <td>-0.440453</td>\n",
       "      <td>-1.097713</td>\n",
       "      <td>-0.507171</td>\n",
       "      <td>-2.033868</td>\n",
       "    </tr>\n",
       "    <tr>\n",
       "      <th>wes</th>\n",
       "      <td>-0.878685</td>\n",
       "      <td>-0.714267</td>\n",
       "      <td>1.619498</td>\n",
       "      <td>-0.014278</td>\n",
       "      <td>0.564160</td>\n",
       "    </tr>\n",
       "    <tr>\n",
       "      <th>jim</th>\n",
       "      <td>1.443217</td>\n",
       "      <td>-0.045922</td>\n",
       "      <td>-2.114174</td>\n",
       "      <td>-0.508116</td>\n",
       "      <td>0.081833</td>\n",
       "    </tr>\n",
       "    <tr>\n",
       "      <th>travis</th>\n",
       "      <td>0.616686</td>\n",
       "      <td>-0.284065</td>\n",
       "      <td>0.417822</td>\n",
       "      <td>-0.242052</td>\n",
       "      <td>-0.568512</td>\n",
       "    </tr>\n",
       "  </tbody>\n",
       "</table>\n",
       "</div>"
      ],
      "text/plain": [
       "               a         b         c         d         e\n",
       "joe    -0.658694  2.522566 -0.757305 -0.815266 -0.628301\n",
       "steve  -0.081959 -0.440453 -1.097713 -0.507171 -2.033868\n",
       "wes    -0.878685 -0.714267  1.619498 -0.014278  0.564160\n",
       "jim     1.443217 -0.045922 -2.114174 -0.508116  0.081833\n",
       "travis  0.616686 -0.284065  0.417822 -0.242052 -0.568512"
      ]
     },
     "execution_count": 10,
     "metadata": {},
     "output_type": "execute_result"
    }
   ],
   "source": [
    "people"
   ]
  },
  {
   "cell_type": "code",
   "execution_count": 3,
   "metadata": {},
   "outputs": [
    {
     "data": {
      "text/html": [
       "<div>\n",
       "<style scoped>\n",
       "    .dataframe tbody tr th:only-of-type {\n",
       "        vertical-align: middle;\n",
       "    }\n",
       "\n",
       "    .dataframe tbody tr th {\n",
       "        vertical-align: top;\n",
       "    }\n",
       "\n",
       "    .dataframe thead th {\n",
       "        text-align: right;\n",
       "    }\n",
       "</style>\n",
       "<table border=\"1\" class=\"dataframe\">\n",
       "  <thead>\n",
       "    <tr style=\"text-align: right;\">\n",
       "      <th></th>\n",
       "      <th>a</th>\n",
       "      <th>b</th>\n",
       "      <th>c</th>\n",
       "      <th>d</th>\n",
       "      <th>e</th>\n",
       "    </tr>\n",
       "  </thead>\n",
       "  <tbody>\n",
       "    <tr>\n",
       "      <th>3</th>\n",
       "      <td>-0.094163</td>\n",
       "      <td>1.762378</td>\n",
       "      <td>-1.251980</td>\n",
       "      <td>-1.337660</td>\n",
       "      <td>0.017692</td>\n",
       "    </tr>\n",
       "    <tr>\n",
       "      <th>5</th>\n",
       "      <td>-0.081959</td>\n",
       "      <td>-0.440453</td>\n",
       "      <td>-1.097713</td>\n",
       "      <td>-0.507171</td>\n",
       "      <td>-2.033868</td>\n",
       "    </tr>\n",
       "    <tr>\n",
       "      <th>6</th>\n",
       "      <td>0.616686</td>\n",
       "      <td>-0.284065</td>\n",
       "      <td>0.417822</td>\n",
       "      <td>-0.242052</td>\n",
       "      <td>-0.568512</td>\n",
       "    </tr>\n",
       "  </tbody>\n",
       "</table>\n",
       "</div>"
      ],
      "text/plain": [
       "          a         b         c         d         e\n",
       "3 -0.094163  1.762378 -1.251980 -1.337660  0.017692\n",
       "5 -0.081959 -0.440453 -1.097713 -0.507171 -2.033868\n",
       "6  0.616686 -0.284065  0.417822 -0.242052 -0.568512"
      ]
     },
     "execution_count": 3,
     "metadata": {},
     "output_type": "execute_result"
    }
   ],
   "source": [
    "people.groupby(len).sum()"
   ]
  },
  {
   "cell_type": "code",
   "execution_count": 4,
   "metadata": {},
   "outputs": [],
   "source": [
    "key_list = ['one','one','one','two','two']"
   ]
  },
  {
   "cell_type": "code",
   "execution_count": 14,
   "metadata": {},
   "outputs": [
    {
     "data": {
      "text/html": [
       "<div>\n",
       "<style scoped>\n",
       "    .dataframe tbody tr th:only-of-type {\n",
       "        vertical-align: middle;\n",
       "    }\n",
       "\n",
       "    .dataframe tbody tr th {\n",
       "        vertical-align: top;\n",
       "    }\n",
       "\n",
       "    .dataframe thead th {\n",
       "        text-align: right;\n",
       "    }\n",
       "</style>\n",
       "<table border=\"1\" class=\"dataframe\">\n",
       "  <thead>\n",
       "    <tr style=\"text-align: right;\">\n",
       "      <th></th>\n",
       "      <th>a</th>\n",
       "      <th>b</th>\n",
       "      <th>c</th>\n",
       "      <th>d</th>\n",
       "      <th>e</th>\n",
       "    </tr>\n",
       "  </thead>\n",
       "  <tbody>\n",
       "    <tr>\n",
       "      <th>3</th>\n",
       "      <td>-0.878685</td>\n",
       "      <td>-0.714267</td>\n",
       "      <td>-2.114174</td>\n",
       "      <td>-0.815266</td>\n",
       "      <td>-0.628301</td>\n",
       "    </tr>\n",
       "    <tr>\n",
       "      <th>5</th>\n",
       "      <td>-0.081959</td>\n",
       "      <td>-0.440453</td>\n",
       "      <td>-1.097713</td>\n",
       "      <td>-0.507171</td>\n",
       "      <td>-2.033868</td>\n",
       "    </tr>\n",
       "    <tr>\n",
       "      <th>6</th>\n",
       "      <td>0.616686</td>\n",
       "      <td>-0.284065</td>\n",
       "      <td>0.417822</td>\n",
       "      <td>-0.242052</td>\n",
       "      <td>-0.568512</td>\n",
       "    </tr>\n",
       "  </tbody>\n",
       "</table>\n",
       "</div>"
      ],
      "text/plain": [
       "          a         b         c         d         e\n",
       "3 -0.878685 -0.714267 -2.114174 -0.815266 -0.628301\n",
       "5 -0.081959 -0.440453 -1.097713 -0.507171 -2.033868\n",
       "6  0.616686 -0.284065  0.417822 -0.242052 -0.568512"
      ]
     },
     "execution_count": 14,
     "metadata": {},
     "output_type": "execute_result"
    }
   ],
   "source": [
    "people.groupby(len).min()"
   ]
  },
  {
   "cell_type": "code",
   "execution_count": 15,
   "metadata": {},
   "outputs": [
    {
     "data": {
      "text/html": [
       "<div>\n",
       "<style scoped>\n",
       "    .dataframe tbody tr th:only-of-type {\n",
       "        vertical-align: middle;\n",
       "    }\n",
       "\n",
       "    .dataframe tbody tr th {\n",
       "        vertical-align: top;\n",
       "    }\n",
       "\n",
       "    .dataframe thead th {\n",
       "        text-align: right;\n",
       "    }\n",
       "</style>\n",
       "<table border=\"1\" class=\"dataframe\">\n",
       "  <thead>\n",
       "    <tr style=\"text-align: right;\">\n",
       "      <th></th>\n",
       "      <th>a</th>\n",
       "      <th>b</th>\n",
       "      <th>c</th>\n",
       "      <th>d</th>\n",
       "      <th>e</th>\n",
       "    </tr>\n",
       "  </thead>\n",
       "  <tbody>\n",
       "    <tr>\n",
       "      <th>one</th>\n",
       "      <td>-0.878685</td>\n",
       "      <td>-0.714267</td>\n",
       "      <td>-1.097713</td>\n",
       "      <td>-0.815266</td>\n",
       "      <td>-2.033868</td>\n",
       "    </tr>\n",
       "    <tr>\n",
       "      <th>two</th>\n",
       "      <td>0.616686</td>\n",
       "      <td>-0.284065</td>\n",
       "      <td>-2.114174</td>\n",
       "      <td>-0.508116</td>\n",
       "      <td>-0.568512</td>\n",
       "    </tr>\n",
       "  </tbody>\n",
       "</table>\n",
       "</div>"
      ],
      "text/plain": [
       "            a         b         c         d         e\n",
       "one -0.878685 -0.714267 -1.097713 -0.815266 -2.033868\n",
       "two  0.616686 -0.284065 -2.114174 -0.508116 -0.568512"
      ]
     },
     "execution_count": 15,
     "metadata": {},
     "output_type": "execute_result"
    }
   ],
   "source": [
    "people.groupby(key_list).min()"
   ]
  },
  {
   "cell_type": "code",
   "execution_count": 9,
   "metadata": {},
   "outputs": [
    {
     "data": {
      "text/html": [
       "<div>\n",
       "<style scoped>\n",
       "    .dataframe tbody tr th:only-of-type {\n",
       "        vertical-align: middle;\n",
       "    }\n",
       "\n",
       "    .dataframe tbody tr th {\n",
       "        vertical-align: top;\n",
       "    }\n",
       "\n",
       "    .dataframe thead th {\n",
       "        text-align: right;\n",
       "    }\n",
       "</style>\n",
       "<table border=\"1\" class=\"dataframe\">\n",
       "  <thead>\n",
       "    <tr style=\"text-align: right;\">\n",
       "      <th></th>\n",
       "      <th></th>\n",
       "      <th>a</th>\n",
       "      <th>b</th>\n",
       "      <th>c</th>\n",
       "      <th>d</th>\n",
       "      <th>e</th>\n",
       "    </tr>\n",
       "  </thead>\n",
       "  <tbody>\n",
       "    <tr>\n",
       "      <th rowspan=\"2\" valign=\"top\">3</th>\n",
       "      <th>one</th>\n",
       "      <td>-0.878685</td>\n",
       "      <td>-0.714267</td>\n",
       "      <td>-0.757305</td>\n",
       "      <td>-0.815266</td>\n",
       "      <td>-0.628301</td>\n",
       "    </tr>\n",
       "    <tr>\n",
       "      <th>two</th>\n",
       "      <td>1.443217</td>\n",
       "      <td>-0.045922</td>\n",
       "      <td>-2.114174</td>\n",
       "      <td>-0.508116</td>\n",
       "      <td>0.081833</td>\n",
       "    </tr>\n",
       "    <tr>\n",
       "      <th>5</th>\n",
       "      <th>one</th>\n",
       "      <td>-0.081959</td>\n",
       "      <td>-0.440453</td>\n",
       "      <td>-1.097713</td>\n",
       "      <td>-0.507171</td>\n",
       "      <td>-2.033868</td>\n",
       "    </tr>\n",
       "    <tr>\n",
       "      <th>6</th>\n",
       "      <th>two</th>\n",
       "      <td>0.616686</td>\n",
       "      <td>-0.284065</td>\n",
       "      <td>0.417822</td>\n",
       "      <td>-0.242052</td>\n",
       "      <td>-0.568512</td>\n",
       "    </tr>\n",
       "  </tbody>\n",
       "</table>\n",
       "</div>"
      ],
      "text/plain": [
       "              a         b         c         d         e\n",
       "3 one -0.878685 -0.714267 -0.757305 -0.815266 -0.628301\n",
       "  two  1.443217 -0.045922 -2.114174 -0.508116  0.081833\n",
       "5 one -0.081959 -0.440453 -1.097713 -0.507171 -2.033868\n",
       "6 two  0.616686 -0.284065  0.417822 -0.242052 -0.568512"
      ]
     },
     "execution_count": 9,
     "metadata": {},
     "output_type": "execute_result"
    }
   ],
   "source": [
    "people.groupby([len,key_list]).min()"
   ]
  },
  {
   "cell_type": "code",
   "execution_count": 8,
   "metadata": {},
   "outputs": [
    {
     "data": {
      "text/html": [
       "<div>\n",
       "<style scoped>\n",
       "    .dataframe tbody tr th:only-of-type {\n",
       "        vertical-align: middle;\n",
       "    }\n",
       "\n",
       "    .dataframe tbody tr th {\n",
       "        vertical-align: top;\n",
       "    }\n",
       "\n",
       "    .dataframe thead th {\n",
       "        text-align: right;\n",
       "    }\n",
       "</style>\n",
       "<table border=\"1\" class=\"dataframe\">\n",
       "  <thead>\n",
       "    <tr style=\"text-align: right;\">\n",
       "      <th></th>\n",
       "      <th>a</th>\n",
       "      <th>b</th>\n",
       "      <th>c</th>\n",
       "      <th>d</th>\n",
       "      <th>e</th>\n",
       "    </tr>\n",
       "  </thead>\n",
       "  <tbody>\n",
       "    <tr>\n",
       "      <th>one</th>\n",
       "      <td>-0.878685</td>\n",
       "      <td>-0.714267</td>\n",
       "      <td>-1.097713</td>\n",
       "      <td>-0.815266</td>\n",
       "      <td>-2.033868</td>\n",
       "    </tr>\n",
       "    <tr>\n",
       "      <th>two</th>\n",
       "      <td>0.616686</td>\n",
       "      <td>-0.284065</td>\n",
       "      <td>-2.114174</td>\n",
       "      <td>-0.508116</td>\n",
       "      <td>-0.568512</td>\n",
       "    </tr>\n",
       "  </tbody>\n",
       "</table>\n",
       "</div>"
      ],
      "text/plain": [
       "            a         b         c         d         e\n",
       "one -0.878685 -0.714267 -1.097713 -0.815266 -2.033868\n",
       "two  0.616686 -0.284065 -2.114174 -0.508116 -0.568512"
      ]
     },
     "execution_count": 8,
     "metadata": {},
     "output_type": "execute_result"
    }
   ],
   "source": [
    "people.groupby([key_list]).min()"
   ]
  }
 ],
 "metadata": {
  "kernelspec": {
   "display_name": "Python 3",
   "language": "python",
   "name": "python3"
  },
  "language_info": {
   "codemirror_mode": {
    "name": "ipython",
    "version": 3
   },
   "file_extension": ".py",
   "mimetype": "text/x-python",
   "name": "python",
   "nbconvert_exporter": "python",
   "pygments_lexer": "ipython3",
   "version": "3.6.4"
  }
 },
 "nbformat": 4,
 "nbformat_minor": 2
}
