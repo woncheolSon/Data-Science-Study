{
 "cells": [
  {
   "cell_type": "markdown",
   "metadata": {},
   "source": [
    "7장에서 살펴본 내용을 떠올려보면 pandas의 `cut`,`qcut`이라는 메서드를 사용해서 선탣한 크기만큼 혹은 표본 변위치에 따라 데이터를 나눌수있었다.<br/>\n",
    "이 함수를 `groupby`와 조합하면 데이터 묶음에 대해 변위치 분석이나 버킷 분석을 아주 쉽게 수행할 수 있다.<br/>\n",
    "다음 임의의 데이터 묶음을 `cut`을 이용해서 등간격 구간으로 나누어보자."
   ]
  },
  {
   "cell_type": "code",
   "execution_count": 1,
   "metadata": {},
   "outputs": [],
   "source": [
    "frame = pd.DataFrame({'data1':np.random.randn(1000),\n",
    "                     'data2':np.random.randn(1000)})"
   ]
  },
  {
   "cell_type": "code",
   "execution_count": 3,
   "metadata": {},
   "outputs": [
    {
     "data": {
      "text/html": [
       "<div>\n",
       "<style scoped>\n",
       "    .dataframe tbody tr th:only-of-type {\n",
       "        vertical-align: middle;\n",
       "    }\n",
       "\n",
       "    .dataframe tbody tr th {\n",
       "        vertical-align: top;\n",
       "    }\n",
       "\n",
       "    .dataframe thead th {\n",
       "        text-align: right;\n",
       "    }\n",
       "</style>\n",
       "<table border=\"1\" class=\"dataframe\">\n",
       "  <thead>\n",
       "    <tr style=\"text-align: right;\">\n",
       "      <th></th>\n",
       "      <th>data1</th>\n",
       "      <th>data2</th>\n",
       "    </tr>\n",
       "  </thead>\n",
       "  <tbody>\n",
       "    <tr>\n",
       "      <th>995</th>\n",
       "      <td>2.290473</td>\n",
       "      <td>0.032163</td>\n",
       "    </tr>\n",
       "    <tr>\n",
       "      <th>996</th>\n",
       "      <td>-0.350855</td>\n",
       "      <td>-0.205838</td>\n",
       "    </tr>\n",
       "    <tr>\n",
       "      <th>997</th>\n",
       "      <td>-0.710169</td>\n",
       "      <td>-0.316211</td>\n",
       "    </tr>\n",
       "    <tr>\n",
       "      <th>998</th>\n",
       "      <td>0.083800</td>\n",
       "      <td>-1.894766</td>\n",
       "    </tr>\n",
       "    <tr>\n",
       "      <th>999</th>\n",
       "      <td>0.525338</td>\n",
       "      <td>1.691662</td>\n",
       "    </tr>\n",
       "  </tbody>\n",
       "</table>\n",
       "</div>"
      ],
      "text/plain": [
       "        data1     data2\n",
       "995  2.290473  0.032163\n",
       "996 -0.350855 -0.205838\n",
       "997 -0.710169 -0.316211\n",
       "998  0.083800 -1.894766\n",
       "999  0.525338  1.691662"
      ]
     },
     "execution_count": 3,
     "metadata": {},
     "output_type": "execute_result"
    }
   ],
   "source": [
    "frame.tail()"
   ]
  },
  {
   "cell_type": "code",
   "execution_count": 4,
   "metadata": {},
   "outputs": [],
   "source": [
    "factor = pd.cut(frame.data1, 4)"
   ]
  },
  {
   "cell_type": "code",
   "execution_count": 7,
   "metadata": {},
   "outputs": [
    {
     "data": {
      "text/plain": [
       "(-0.126, 1.367]    469\n",
       "(-1.62, -0.126]    397\n",
       "(1.367, 2.861]      83\n",
       "(-3.119, -1.62]     51\n",
       "Name: data1, dtype: int64"
      ]
     },
     "execution_count": 7,
     "metadata": {},
     "output_type": "execute_result"
    }
   ],
   "source": [
    "factor.value_counts()"
   ]
  },
  {
   "cell_type": "code",
   "execution_count": 9,
   "metadata": {},
   "outputs": [
    {
     "data": {
      "text/plain": [
       "0    (-1.62, -0.126]\n",
       "1    (-0.126, 1.367]\n",
       "2    (-0.126, 1.367]\n",
       "3    (-1.62, -0.126]\n",
       "4    (-0.126, 1.367]\n",
       "5    (-0.126, 1.367]\n",
       "6    (-0.126, 1.367]\n",
       "7    (-0.126, 1.367]\n",
       "8    (-0.126, 1.367]\n",
       "9    (-0.126, 1.367]\n",
       "Name: data1, dtype: category\n",
       "Categories (4, interval[float64]): [(-3.119, -1.62] < (-1.62, -0.126] < (-0.126, 1.367] < (1.367, 2.861]]"
      ]
     },
     "execution_count": 9,
     "metadata": {},
     "output_type": "execute_result"
    }
   ],
   "source": [
    "factor[:10]"
   ]
  },
  {
   "cell_type": "markdown",
   "metadata": {},
   "source": [
    "`cut` 메서드는 Factor 객체를 반환하는데, 이 Factor 객체는 바로 groupby로 넘길 수 있다.<br/>\n",
    "그래서 data2 컬럼에 대한 몇 가지 통계를 다음과 같이 계산할 수 있다."
   ]
  },
  {
   "cell_type": "code",
   "execution_count": 15,
   "metadata": {},
   "outputs": [
    {
     "data": {
      "text/html": [
       "<div>\n",
       "<style scoped>\n",
       "    .dataframe tbody tr th:only-of-type {\n",
       "        vertical-align: middle;\n",
       "    }\n",
       "\n",
       "    .dataframe tbody tr th {\n",
       "        vertical-align: top;\n",
       "    }\n",
       "\n",
       "    .dataframe thead th {\n",
       "        text-align: right;\n",
       "    }\n",
       "</style>\n",
       "<table border=\"1\" class=\"dataframe\">\n",
       "  <thead>\n",
       "    <tr style=\"text-align: right;\">\n",
       "      <th></th>\n",
       "      <th>data1</th>\n",
       "      <th>data2</th>\n",
       "    </tr>\n",
       "  </thead>\n",
       "  <tbody>\n",
       "    <tr>\n",
       "      <th>995</th>\n",
       "      <td>2.290473</td>\n",
       "      <td>0.032163</td>\n",
       "    </tr>\n",
       "    <tr>\n",
       "      <th>996</th>\n",
       "      <td>-0.350855</td>\n",
       "      <td>-0.205838</td>\n",
       "    </tr>\n",
       "    <tr>\n",
       "      <th>997</th>\n",
       "      <td>-0.710169</td>\n",
       "      <td>-0.316211</td>\n",
       "    </tr>\n",
       "    <tr>\n",
       "      <th>998</th>\n",
       "      <td>0.083800</td>\n",
       "      <td>-1.894766</td>\n",
       "    </tr>\n",
       "    <tr>\n",
       "      <th>999</th>\n",
       "      <td>0.525338</td>\n",
       "      <td>1.691662</td>\n",
       "    </tr>\n",
       "  </tbody>\n",
       "</table>\n",
       "</div>"
      ],
      "text/plain": [
       "        data1     data2\n",
       "995  2.290473  0.032163\n",
       "996 -0.350855 -0.205838\n",
       "997 -0.710169 -0.316211\n",
       "998  0.083800 -1.894766\n",
       "999  0.525338  1.691662"
      ]
     },
     "execution_count": 15,
     "metadata": {},
     "output_type": "execute_result"
    }
   ],
   "source": [
    "frame.tail()"
   ]
  },
  {
   "cell_type": "code",
   "execution_count": 10,
   "metadata": {},
   "outputs": [],
   "source": [
    "def get_stats(group):\n",
    "    return {'min':group.min(),\n",
    "           'max':group.max(),\n",
    "           'count':group.count(),\n",
    "           'mean':group.mean()}"
   ]
  },
  {
   "cell_type": "code",
   "execution_count": 16,
   "metadata": {},
   "outputs": [],
   "source": [
    "grouped = frame['data2'].groupby(factor)"
   ]
  },
  {
   "cell_type": "code",
   "execution_count": 17,
   "metadata": {},
   "outputs": [
    {
     "data": {
      "text/plain": [
       "<pandas.core.groupby.SeriesGroupBy object at 0x115ba0cc0>"
      ]
     },
     "execution_count": 17,
     "metadata": {},
     "output_type": "execute_result"
    }
   ],
   "source": [
    "grouped"
   ]
  },
  {
   "cell_type": "code",
   "execution_count": 19,
   "metadata": {},
   "outputs": [
    {
     "data": {
      "text/html": [
       "<div>\n",
       "<style scoped>\n",
       "    .dataframe tbody tr th:only-of-type {\n",
       "        vertical-align: middle;\n",
       "    }\n",
       "\n",
       "    .dataframe tbody tr th {\n",
       "        vertical-align: top;\n",
       "    }\n",
       "\n",
       "    .dataframe thead th {\n",
       "        text-align: right;\n",
       "    }\n",
       "</style>\n",
       "<table border=\"1\" class=\"dataframe\">\n",
       "  <thead>\n",
       "    <tr style=\"text-align: right;\">\n",
       "      <th></th>\n",
       "      <th>count</th>\n",
       "      <th>max</th>\n",
       "      <th>mean</th>\n",
       "      <th>min</th>\n",
       "    </tr>\n",
       "    <tr>\n",
       "      <th>data1</th>\n",
       "      <th></th>\n",
       "      <th></th>\n",
       "      <th></th>\n",
       "      <th></th>\n",
       "    </tr>\n",
       "  </thead>\n",
       "  <tbody>\n",
       "    <tr>\n",
       "      <th>(-3.119, -1.62]</th>\n",
       "      <td>51.0</td>\n",
       "      <td>2.688303</td>\n",
       "      <td>0.063017</td>\n",
       "      <td>-2.499611</td>\n",
       "    </tr>\n",
       "    <tr>\n",
       "      <th>(-1.62, -0.126]</th>\n",
       "      <td>397.0</td>\n",
       "      <td>2.805104</td>\n",
       "      <td>0.039959</td>\n",
       "      <td>-2.694253</td>\n",
       "    </tr>\n",
       "    <tr>\n",
       "      <th>(-0.126, 1.367]</th>\n",
       "      <td>469.0</td>\n",
       "      <td>3.222946</td>\n",
       "      <td>-0.042999</td>\n",
       "      <td>-3.219478</td>\n",
       "    </tr>\n",
       "    <tr>\n",
       "      <th>(1.367, 2.861]</th>\n",
       "      <td>83.0</td>\n",
       "      <td>2.188808</td>\n",
       "      <td>-0.081293</td>\n",
       "      <td>-2.013059</td>\n",
       "    </tr>\n",
       "  </tbody>\n",
       "</table>\n",
       "</div>"
      ],
      "text/plain": [
       "                 count       max      mean       min\n",
       "data1                                               \n",
       "(-3.119, -1.62]   51.0  2.688303  0.063017 -2.499611\n",
       "(-1.62, -0.126]  397.0  2.805104  0.039959 -2.694253\n",
       "(-0.126, 1.367]  469.0  3.222946 -0.042999 -3.219478\n",
       "(1.367, 2.861]    83.0  2.188808 -0.081293 -2.013059"
      ]
     },
     "execution_count": 19,
     "metadata": {},
     "output_type": "execute_result"
    }
   ],
   "source": [
    "grouped.apply(get_stats).unstack()"
   ]
  },
  {
   "cell_type": "markdown",
   "metadata": {},
   "source": [
    "이는 등간격 버킷이고, 표본 변위치에 근거하여 크기가 같은 버킷을 계산하려면 qcut을 사용해야 한다.<br/>\n",
    "`labels=False` 를 넘겨서 변위치 숫자를 구할 수도 있다."
   ]
  },
  {
   "cell_type": "code",
   "execution_count": 41,
   "metadata": {},
   "outputs": [],
   "source": [
    "grouping = pd.qcut(frame.data1, 10)"
   ]
  },
  {
   "cell_type": "code",
   "execution_count": 34,
   "metadata": {},
   "outputs": [
    {
     "data": {
      "text/plain": [
       "995      (1.252, 2.861]\n",
       "996    (-0.495, -0.243]\n",
       "997    (-0.858, -0.495]\n",
       "998    (0.00588, 0.258]\n",
       "999      (0.258, 0.552]\n",
       "Name: data1, dtype: category\n",
       "Categories (10, interval[float64]): [(-3.114, -1.266] < (-1.266, -0.858] < (-0.858, -0.495] < (-0.495, -0.243] ... (0.258, 0.552] < (0.552, 0.855] < (0.855, 1.252] < (1.252, 2.861]]"
      ]
     },
     "execution_count": 34,
     "metadata": {},
     "output_type": "execute_result"
    }
   ],
   "source": [
    "grouping.tail()"
   ]
  },
  {
   "cell_type": "code",
   "execution_count": 42,
   "metadata": {},
   "outputs": [],
   "source": [
    "grouping = pd.qcut(frame.data1, 10, labels=False)"
   ]
  },
  {
   "cell_type": "code",
   "execution_count": 43,
   "metadata": {},
   "outputs": [
    {
     "data": {
      "text/plain": [
       "995    9\n",
       "996    3\n",
       "997    2\n",
       "998    5\n",
       "999    6\n",
       "Name: data1, dtype: int64"
      ]
     },
     "execution_count": 43,
     "metadata": {},
     "output_type": "execute_result"
    }
   ],
   "source": [
    "grouping.tail()"
   ]
  },
  {
   "cell_type": "code",
   "execution_count": 37,
   "metadata": {},
   "outputs": [],
   "source": [
    "grouping = frame.data2.groupby(grouping)"
   ]
  },
  {
   "cell_type": "code",
   "execution_count": 38,
   "metadata": {},
   "outputs": [
    {
     "data": {
      "text/html": [
       "<div>\n",
       "<style scoped>\n",
       "    .dataframe tbody tr th:only-of-type {\n",
       "        vertical-align: middle;\n",
       "    }\n",
       "\n",
       "    .dataframe tbody tr th {\n",
       "        vertical-align: top;\n",
       "    }\n",
       "\n",
       "    .dataframe thead th {\n",
       "        text-align: right;\n",
       "    }\n",
       "</style>\n",
       "<table border=\"1\" class=\"dataframe\">\n",
       "  <thead>\n",
       "    <tr style=\"text-align: right;\">\n",
       "      <th></th>\n",
       "      <th>count</th>\n",
       "      <th>max</th>\n",
       "      <th>mean</th>\n",
       "      <th>min</th>\n",
       "    </tr>\n",
       "    <tr>\n",
       "      <th>data1</th>\n",
       "      <th></th>\n",
       "      <th></th>\n",
       "      <th></th>\n",
       "      <th></th>\n",
       "    </tr>\n",
       "  </thead>\n",
       "  <tbody>\n",
       "    <tr>\n",
       "      <th>(-3.119, -1.62]</th>\n",
       "      <td>51.0</td>\n",
       "      <td>2.688303</td>\n",
       "      <td>0.063017</td>\n",
       "      <td>-2.499611</td>\n",
       "    </tr>\n",
       "    <tr>\n",
       "      <th>(-1.62, -0.126]</th>\n",
       "      <td>397.0</td>\n",
       "      <td>2.805104</td>\n",
       "      <td>0.039959</td>\n",
       "      <td>-2.694253</td>\n",
       "    </tr>\n",
       "    <tr>\n",
       "      <th>(-0.126, 1.367]</th>\n",
       "      <td>469.0</td>\n",
       "      <td>3.222946</td>\n",
       "      <td>-0.042999</td>\n",
       "      <td>-3.219478</td>\n",
       "    </tr>\n",
       "    <tr>\n",
       "      <th>(1.367, 2.861]</th>\n",
       "      <td>83.0</td>\n",
       "      <td>2.188808</td>\n",
       "      <td>-0.081293</td>\n",
       "      <td>-2.013059</td>\n",
       "    </tr>\n",
       "  </tbody>\n",
       "</table>\n",
       "</div>"
      ],
      "text/plain": [
       "                 count       max      mean       min\n",
       "data1                                               \n",
       "(-3.119, -1.62]   51.0  2.688303  0.063017 -2.499611\n",
       "(-1.62, -0.126]  397.0  2.805104  0.039959 -2.694253\n",
       "(-0.126, 1.367]  469.0  3.222946 -0.042999 -3.219478\n",
       "(1.367, 2.861]    83.0  2.188808 -0.081293 -2.013059"
      ]
     },
     "execution_count": 38,
     "metadata": {},
     "output_type": "execute_result"
    }
   ],
   "source": [
    "grouped.apply(get_stats).unstack()"
   ]
  },
  {
   "cell_type": "code",
   "execution_count": null,
   "metadata": {},
   "outputs": [],
   "source": []
  }
 ],
 "metadata": {
  "kernelspec": {
   "display_name": "Python 3",
   "language": "python",
   "name": "python3"
  },
  "language_info": {
   "codemirror_mode": {
    "name": "ipython",
    "version": 3
   },
   "file_extension": ".py",
   "mimetype": "text/x-python",
   "name": "python",
   "nbconvert_exporter": "python",
   "pygments_lexer": "ipython3",
   "version": "3.6.4"
  }
 },
 "nbformat": 4,
 "nbformat_minor": 2
}
